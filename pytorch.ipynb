{
 "cells": [
  {
   "attachments": {},
   "cell_type": "markdown",
   "metadata": {},
   "source": [
    "## Imports"
   ]
  },
  {
   "cell_type": "code",
   "execution_count": 66,
   "metadata": {},
   "outputs": [],
   "source": [
    "import torch\n",
    "import numpy as np\n",
    "import torchvision\n",
    "\n",
    "import torchvision\n",
    "from torch.utils.data import Dataset, DataLoader\n",
    "import math\n",
    "\n",
    "import torch.nn as nn"
   ]
  },
  {
   "attachments": {},
   "cell_type": "markdown",
   "metadata": {},
   "source": [
    "## Basics"
   ]
  },
  {
   "cell_type": "code",
   "execution_count": 2,
   "metadata": {},
   "outputs": [],
   "source": [
    "## Empty tensors\n",
    "x = torch.empty(3)\n",
    "y = torch.empty(2,2) # 2D\n",
    "z = torch.empty(2,2,2) # 3D\n",
    "a = torch.empty(2,2,2,2) #4D"
   ]
  },
  {
   "cell_type": "code",
   "execution_count": 3,
   "metadata": {},
   "outputs": [
    {
     "name": "stdout",
     "output_type": "stream",
     "text": [
      "tensor([[0., 0.],\n",
      "        [0., 0.]])\n",
      "tensor([[1., 1.],\n",
      "        [1., 1.]], dtype=torch.float64)\n",
      "torch.Size([2, 2]) torch.Size([2, 2])\n"
     ]
    }
   ],
   "source": [
    "## Types tensors\n",
    "\n",
    "z = torch.zeros(2,2) # zero tensors\n",
    "o = torch.ones(2,2, dtype = torch.double) #ones tensor with type int\n",
    "print(z,o, sep=\"\\n\")\n",
    "\n",
    "## print size\n",
    "print(z.size(), o.size())"
   ]
  },
  {
   "cell_type": "code",
   "execution_count": 4,
   "metadata": {},
   "outputs": [
    {
     "name": "stdout",
     "output_type": "stream",
     "text": [
      "<class 'torch.Tensor'>\n",
      "torch.float32\n"
     ]
    }
   ],
   "source": [
    "## Conversion\n",
    "\n",
    "x = torch.tensor([2.5,1])\n",
    "print(type(x), x.dtype, sep=\"\\n\")"
   ]
  },
  {
   "cell_type": "code",
   "execution_count": 5,
   "metadata": {},
   "outputs": [
    {
     "name": "stdout",
     "output_type": "stream",
     "text": [
      "tensor([[0.2083, 0.9359],\n",
      "        [0.1087, 0.1240]])\n",
      "tensor([[0.5761, 0.0439],\n",
      "        [0.7841, 0.7682]])\n"
     ]
    }
   ],
   "source": [
    "## Basic Operations\n",
    "\n",
    "x = torch.rand(2,2)\n",
    "y = torch.rand(2,2)\n",
    "\n",
    "print(x,y,sep=\"\\n\")"
   ]
  },
  {
   "cell_type": "code",
   "execution_count": 6,
   "metadata": {},
   "outputs": [
    {
     "name": "stdout",
     "output_type": "stream",
     "text": [
      "Addition of tensors : \n",
      "tensor([[0.7844, 0.9798],\n",
      "        [0.8928, 0.8922]])\n",
      "Substraction of tensors : \n",
      "tensor([[-0.3678,  0.8920],\n",
      "        [-0.6755, -0.6442]])\n",
      "Multiplication of tensors : \n",
      "tensor([[0.1200, 0.0410],\n",
      "        [0.0852, 0.0952]])\n",
      "Division of tensors : \n",
      "tensor([[ 0.3616, 21.3389],\n",
      "        [ 0.1386,  0.1614]])\n"
     ]
    }
   ],
   "source": [
    "## Arthematic\n",
    "\n",
    "print(\"Addition of tensors : \",x+y,sep=\"\\n\") #torch.add(x,y), y.add_(x) inplace operation\n",
    "print(\"Substraction of tensors : \",x-y,sep=\"\\n\") #torch.sub(x,y), y.sub_(x)\n",
    "print(\"Multiplication of tensors : \",x*y,sep=\"\\n\") #torch.mul(x,y), y.mul_(x)\n",
    "print(\"Division of tensors : \",x/y,sep=\"\\n\") #torch.div(x,y), y.div_(x)"
   ]
  },
  {
   "cell_type": "code",
   "execution_count": 7,
   "metadata": {},
   "outputs": [
    {
     "name": "stdout",
     "output_type": "stream",
     "text": [
      "tensor([[0.1390, 0.6454, 0.5218],\n",
      "        [0.4861, 0.3323, 0.9293],\n",
      "        [0.9490, 0.4159, 0.8438],\n",
      "        [0.6371, 0.7875, 0.5841],\n",
      "        [0.0363, 0.6058, 0.5550]])\n",
      "All rows but column one :  tensor([0.1390, 0.4861, 0.9490, 0.6371, 0.0363])\n",
      "All columns but row one :  tensor([0.1390, 0.6454, 0.5218])\n",
      "Specific Index :  tensor(0.1390)\n",
      "Actual value :  0.13901007175445557\n"
     ]
    }
   ],
   "source": [
    "## Slicing operations\n",
    "\n",
    "x = torch.rand(5,3)\n",
    "print(x)\n",
    "print(\"All rows but column one : \" , x[:,0])\n",
    "print(\"All columns but row one : \" , x[0,:])\n",
    "print(\"Specific Index : \" , x[0,0])\n",
    "print(\"Actual value : \" , x[0,0].item())"
   ]
  },
  {
   "cell_type": "code",
   "execution_count": 8,
   "metadata": {},
   "outputs": [
    {
     "name": "stdout",
     "output_type": "stream",
     "text": [
      "tensor([[0.5000, 0.0581, 0.1356, 0.2694],\n",
      "        [0.1422, 0.4636, 0.6517, 0.4035],\n",
      "        [0.3205, 0.2978, 0.5374, 0.9242],\n",
      "        [0.2008, 0.9154, 0.1003, 0.7424]])\n",
      "After reshaping 1x16:  tensor([0.5000, 0.0581, 0.1356, 0.2694, 0.1422, 0.4636, 0.6517, 0.4035, 0.3205,\n",
      "        0.2978, 0.5374, 0.9242, 0.2008, 0.9154, 0.1003, 0.7424])\n",
      "After reshaping 2x8 :  tensor([[0.5000, 0.0581, 0.1356, 0.2694, 0.1422, 0.4636, 0.6517, 0.4035],\n",
      "        [0.3205, 0.2978, 0.5374, 0.9242, 0.2008, 0.9154, 0.1003, 0.7424]])\n"
     ]
    }
   ],
   "source": [
    "## reshaping the tensor\n",
    "\n",
    "x = torch.rand(4,4)\n",
    "print(x)\n",
    "y = x.view(16)\n",
    "print(\"After reshaping 1x16: \", y) ## 1*16\n",
    "y = x.view(-1,8)\n",
    "print(\"After reshaping 2x8 : \", y) ## 2*8"
   ]
  },
  {
   "cell_type": "code",
   "execution_count": 9,
   "metadata": {},
   "outputs": [
    {
     "name": "stdout",
     "output_type": "stream",
     "text": [
      "<class 'numpy.ndarray'>\n",
      "tensor([[2., 2., 2., 2.],\n",
      "        [2., 2., 2., 2.],\n",
      "        [2., 2., 2., 2.],\n",
      "        [2., 2., 2., 2.]])\n",
      "[[2. 2. 2. 2.]\n",
      " [2. 2. 2. 2.]\n",
      " [2. 2. 2. 2.]\n",
      " [2. 2. 2. 2.]]\n"
     ]
    }
   ],
   "source": [
    "## conversion from Numpy\n",
    "\n",
    "a = torch.ones(4,4)  \n",
    "b = a.numpy() ## vice versa b = torch.from_numpy(a)\n",
    "print(type(b))\n",
    "## if on CPU both share same location, so update is done on both\n",
    "## if not CPU say GPU then different location\n",
    "\n",
    "a.add_(1)\n",
    "print(a)\n",
    "print(b)"
   ]
  },
  {
   "cell_type": "code",
   "execution_count": 10,
   "metadata": {},
   "outputs": [],
   "source": [
    "## check GPU\n",
    "\n",
    "if torch.cuda.is_available():\n",
    "    device = torch.device(\"cuda\")\n",
    "    x = torch.ones(5, device=device) ## create and on device\n",
    "    y = torch.ones(5) ## just create\n",
    "    y = y.to(device) ## set device\n",
    "    z = x+y\n",
    "    ## z = z.numpy() cannot do because numpy is on CPU\n",
    "    ## so\n",
    "    z = z.to(\"cpu\") ## set device\n",
    "    "
   ]
  },
  {
   "cell_type": "code",
   "execution_count": 11,
   "metadata": {},
   "outputs": [
    {
     "name": "stdout",
     "output_type": "stream",
     "text": [
      "tensor([1., 1., 1., 1., 1.], requires_grad=True)\n"
     ]
    }
   ],
   "source": [
    "## Grad argument\n",
    "\n",
    "x = torch.ones(5, requires_grad =True) # to specify the gradient is calculated, used to optimize\n",
    "print(x)"
   ]
  },
  {
   "attachments": {},
   "cell_type": "markdown",
   "metadata": {},
   "source": [
    "## AutoGrad Package"
   ]
  },
  {
   "attachments": {},
   "cell_type": "markdown",
   "metadata": {},
   "source": [
    "![gradients](img/gradient.png)"
   ]
  },
  {
   "cell_type": "code",
   "execution_count": 12,
   "metadata": {},
   "outputs": [
    {
     "name": "stdout",
     "output_type": "stream",
     "text": [
      "tensor([ 1.9768, -1.8407, -0.6751], requires_grad=True)\n",
      "tensor([-1.5865, -0.5838,  0.2372], requires_grad=True)\n",
      "tensor([ 0.3903, -2.4245, -0.4378], grad_fn=<AddBackward0>)\n"
     ]
    }
   ],
   "source": [
    "x = torch.randn(3, requires_grad=True) ## pytorch creates an computational graph()\n",
    "print(x)\n",
    "y = torch.randn(3, requires_grad=True)\n",
    "print(y)\n",
    "\n",
    "z = x+y\n",
    "print(z) ## first forward pass and calculate z then dz/dx and dz/dy in back propagatation"
   ]
  },
  {
   "attachments": {},
   "cell_type": "markdown",
   "metadata": {},
   "source": [
    "![](img/gradient2.png)"
   ]
  },
  {
   "cell_type": "code",
   "execution_count": 13,
   "metadata": {},
   "outputs": [
    {
     "name": "stdout",
     "output_type": "stream",
     "text": [
      "tensor([3.9768, 0.1593, 1.3249], grad_fn=<AddBackward0>)\n",
      "tensor([31.6301,  0.0508,  3.5109], grad_fn=<MulBackward0>)\n",
      "tensor(11.7306, grad_fn=<MeanBackward0>)\n",
      "tensor([5.3024, 0.2124, 1.7666])\n"
     ]
    }
   ],
   "source": [
    "y = x+2\n",
    "print(y)\n",
    "\n",
    "z = y*y*2\n",
    "print(z)\n",
    "z = z.mean()\n",
    "print(z)\n",
    "z.backward() ##dz/dx and only for scaler values\n",
    "print(x.grad)"
   ]
  },
  {
   "cell_type": "code",
   "execution_count": 14,
   "metadata": {},
   "outputs": [
    {
     "name": "stdout",
     "output_type": "stream",
     "text": [
      "tensor([3.9768, 0.1593, 1.3249], grad_fn=<AddBackward0>)\n",
      "tensor([31.6301,  0.0508,  3.5109], grad_fn=<MulBackward0>)\n",
      "tensor([31.6301,  0.0508,  3.5109], grad_fn=<MulBackward0>)\n",
      "tensor([6.8931, 0.8498, 1.7719])\n"
     ]
    }
   ],
   "source": [
    "y = x+2\n",
    "print(y)\n",
    "\n",
    "z = y*y*2\n",
    "print(z)\n",
    "#z = z.mean()\n",
    "print(z)\n",
    "\n",
    "v = torch.tensor([0.1, 1.0, 0.001], dtype=torch.float32) ## acts as vector chekovian matrix\n",
    "z.backward(v) ##dz/dx and only for scaler values if vector(no function used) throws error add v\n",
    "print(x.grad)"
   ]
  },
  {
   "cell_type": "code",
   "execution_count": 15,
   "metadata": {},
   "outputs": [
    {
     "name": "stdout",
     "output_type": "stream",
     "text": [
      "tensor([3.9768, 0.1593, 1.3249])\n"
     ]
    }
   ],
   "source": [
    "## prevent from tracking gradn :  3 methods\n",
    "\n",
    "# 1\n",
    "x.requires_grad_(False) ## function has _ at end the it happens in place\n",
    "\n",
    "# 2\n",
    "x.detach() # create same vector with same values but nop gradient\n",
    "\n",
    "# 3\n",
    "with torch.no_grad():\n",
    "    # example\n",
    "    y = x+2\n",
    "    print(y)"
   ]
  },
  {
   "cell_type": "code",
   "execution_count": 16,
   "metadata": {},
   "outputs": [
    {
     "name": "stdout",
     "output_type": "stream",
     "text": [
      "tensor([3., 3., 3., 3.])\n"
     ]
    }
   ],
   "source": [
    "## backwards() function sums up\n",
    "\n",
    "weights = torch.ones(4, requires_grad=True)\n",
    "\n",
    "for epoch in range(1):\n",
    "    models_output = (weights*3).sum()\n",
    "    models_output.backward()\n",
    "    print(weights.grad)    "
   ]
  },
  {
   "cell_type": "code",
   "execution_count": 17,
   "metadata": {},
   "outputs": [
    {
     "name": "stdout",
     "output_type": "stream",
     "text": [
      "tensor([3., 3., 3., 3.])\n",
      "tensor([6., 6., 6., 6.])\n",
      "tensor([9., 9., 9., 9.])\n"
     ]
    }
   ],
   "source": [
    "weights = torch.ones(4, requires_grad=True)\n",
    "\n",
    "for epoch in range(3):\n",
    "    models_output = (weights*3).sum()\n",
    "    models_output.backward()\n",
    "    print(weights.grad)"
   ]
  },
  {
   "attachments": {},
   "cell_type": "markdown",
   "metadata": {},
   "source": [
    "sometimes in our training loop and we want to update the weights -> it should not be part of gradient computation  \n",
    "basically old grads are not required while new calcuating new weights  \n",
    "  \n",
    "  in our example grad should be x*3/dx = 3 always"
   ]
  },
  {
   "cell_type": "code",
   "execution_count": 18,
   "metadata": {},
   "outputs": [
    {
     "name": "stdout",
     "output_type": "stream",
     "text": [
      "tensor([3., 3., 3., 3.])\n",
      "tensor([3., 3., 3., 3.])\n",
      "tensor([3., 3., 3., 3.])\n"
     ]
    }
   ],
   "source": [
    "weights = torch.ones(4, requires_grad=True)\n",
    "\n",
    "for epoch in range(3):\n",
    "    models_output = (weights*3).sum()\n",
    "    models_output.backward()\n",
    "    print(weights.grad)\n",
    "    weights.grad.zero_()"
   ]
  },
  {
   "cell_type": "code",
   "execution_count": null,
   "metadata": {},
   "outputs": [],
   "source": [
    "## optimizer in next sections\n",
    "\n",
    "optimzer = torch.optim.SGD(weights, lr=0.001)\n",
    "optimzer.step() ## optimazation step\n",
    "optimzer.zero_grad() ## zero grad"
   ]
  },
  {
   "attachments": {},
   "cell_type": "markdown",
   "metadata": {},
   "source": [
    "## Backpropagation"
   ]
  },
  {
   "attachments": {},
   "cell_type": "markdown",
   "metadata": {},
   "source": [
    "chain rule\n",
    "\n",
    "```\n",
    "x -> a(x) -> y -> b(y) -> z\n",
    "\n",
    "dz/dx = dz/dy * dy/dx\n",
    "\n",
    "```"
   ]
  },
  {
   "attachments": {},
   "cell_type": "markdown",
   "metadata": {},
   "source": [
    "Computational graphs\n",
    "\n",
    "at each mode some input apply function and give output"
   ]
  },
  {
   "attachments": {},
   "cell_type": "markdown",
   "metadata": {},
   "source": [
    "## Gradient Descent using Autograd"
   ]
  },
  {
   "attachments": {},
   "cell_type": "markdown",
   "metadata": {},
   "source": [
    "#### Manually\n",
    "\n",
    " - Prediction - Manually\n",
    " - Gradient Computation - Manually\n",
    " - Loss Computation - Manually\n",
    " - Parameters - Manually"
   ]
  },
  {
   "cell_type": "code",
   "execution_count": 65,
   "metadata": {},
   "outputs": [],
   "source": [
    "# f = w *x ignore bias\n",
    "\n",
    "X = np.array([1,2,3,4,5], dtype=np.float32)\n",
    "Y = np.array([2,4,6,8,10], dtype=np.float32)\n",
    "\n",
    "w = 0.0"
   ]
  },
  {
   "cell_type": "code",
   "execution_count": 66,
   "metadata": {},
   "outputs": [],
   "source": [
    "# model predications\n",
    "def forward(x):\n",
    "    return w*x\n",
    "\n",
    "# loss = MSE = 1/N * (w*x - y)**2\n",
    "def loss(y, y_predicted):\n",
    "    return ((y_predicted - y)**2).mean()\n",
    " \n",
    "# gradient = dj/dw = 1/N *  2x * (wx - y)\n",
    "def gradient(x,y,y_predicted):\n",
    "    return np.dot(2*x, y_predicted - y).mean()"
   ]
  },
  {
   "cell_type": "code",
   "execution_count": 67,
   "metadata": {},
   "outputs": [
    {
     "name": "stdout",
     "output_type": "stream",
     "text": [
      "epoch 1 : w = 2.200, training loss = 44.00000000\n",
      "epoch 2 : w = 1.980, training loss = 0.44000015\n",
      "epoch 3 : w = 2.002, training loss = 0.00440001\n",
      "epoch 4 : w = 2.000, training loss = 0.00004400\n",
      "epoch 5 : w = 2.000, training loss = 0.00000044\n",
      "epoch 6 : w = 2.000, training loss = 0.00000000\n",
      "epoch 7 : w = 2.000, training loss = 0.00000000\n",
      "epoch 8 : w = 2.000, training loss = 0.00000000\n",
      "epoch 9 : w = 2.000, training loss = 0.00000000\n",
      "epoch 10 : w = 2.000, training loss = 0.00000000\n",
      "Predication before training : f(6) = 12.000\n"
     ]
    }
   ],
   "source": [
    "## training\n",
    "\n",
    "learning_rate = 0.01\n",
    "n_iters = 10\n",
    "\n",
    "for epoch in range(n_iters):\n",
    "    # prediction = forward pass\n",
    "    y_pred = forward(X)\n",
    "    \n",
    "    # loss\n",
    "    l = loss(Y, y_pred)\n",
    "    \n",
    "    # gradient \n",
    "    dw = gradient(X, Y, y_pred)\n",
    "    \n",
    "    # update weights\n",
    "    w -= learning_rate * dw\n",
    "    \n",
    "    if epoch % 1 == 0:\n",
    "        print(f'epoch {epoch+1} : w = {w:.3f}, training loss = {l:.8f}')\n",
    "        \n",
    "print(f'Predication before training : f(6) = {forward(6):.3f}')"
   ]
  },
  {
   "attachments": {},
   "cell_type": "markdown",
   "metadata": {},
   "source": [
    "#### Pytorch - 1\n",
    "\n",
    " - Prediction - Pytorch\n",
    " - Gradient Computation - Autograd\n",
    " - Loss Computation - Manually\n",
    " - Parameters - Manually"
   ]
  },
  {
   "cell_type": "code",
   "execution_count": 85,
   "metadata": {},
   "outputs": [],
   "source": [
    "# f = w *x ignore bias\n",
    "\n",
    "X = torch.tensor([1,2,3,4,5], dtype=torch.float32)\n",
    "Y = torch.tensor([2,4,6,8,10], dtype=torch.float32)\n",
    "\n",
    "w = torch.tensor(0.0, requires_grad=True, dtype=torch.float32)"
   ]
  },
  {
   "cell_type": "code",
   "execution_count": 86,
   "metadata": {},
   "outputs": [],
   "source": [
    "# model predications\n",
    "def forward(x):\n",
    "    return w*x\n",
    "\n",
    "# loss = MSE = 1/N * (w*x - y)**2\n",
    "def loss(y, y_predicted):\n",
    "    return ((y_predicted - y)**2).mean()\n",
    " \n",
    "# # gradient = dj/dw = 1/N *  2x * (wx - y)\n",
    "# def gradient(x,y,y_predicted):\n",
    "#     return np.dot(2*x, y_predicted - y).mean()"
   ]
  },
  {
   "cell_type": "code",
   "execution_count": 87,
   "metadata": {},
   "outputs": [
    {
     "name": "stdout",
     "output_type": "stream",
     "text": [
      "Predication before training : f(6) = 0.000\n",
      "epoch 1 : w = 0.440, training loss = 44.00000000\n",
      "epoch 2 : w = 0.783, training loss = 26.76960182\n",
      "epoch 3 : w = 1.051, training loss = 16.28662491\n",
      "epoch 4 : w = 1.260, training loss = 9.90878487\n",
      "epoch 5 : w = 1.423, training loss = 6.02850342\n",
      "epoch 6 : w = 1.550, training loss = 3.66774178\n",
      "epoch 7 : w = 1.649, training loss = 2.23145342\n",
      "epoch 8 : w = 1.726, training loss = 1.35761607\n",
      "epoch 9 : w = 1.786, training loss = 0.82597363\n",
      "epoch 10 : w = 1.833, training loss = 0.50252259\n",
      "epoch 11 : w = 1.870, training loss = 0.30573449\n",
      "epoch 12 : w = 1.899, training loss = 0.18600900\n",
      "epoch 13 : w = 1.921, training loss = 0.11316784\n",
      "epoch 14 : w = 1.938, training loss = 0.06885126\n",
      "epoch 15 : w = 1.952, training loss = 0.04188926\n",
      "epoch 16 : w = 1.962, training loss = 0.02548538\n",
      "epoch 17 : w = 1.971, training loss = 0.01550541\n",
      "epoch 18 : w = 1.977, training loss = 0.00943349\n",
      "epoch 19 : w = 1.982, training loss = 0.00573931\n",
      "epoch 20 : w = 1.986, training loss = 0.00349178\n",
      "epoch 21 : w = 1.989, training loss = 0.00212438\n",
      "epoch 22 : w = 1.992, training loss = 0.00129247\n",
      "epoch 23 : w = 1.993, training loss = 0.00078634\n",
      "epoch 24 : w = 1.995, training loss = 0.00047842\n",
      "epoch 25 : w = 1.996, training loss = 0.00029106\n",
      "epoch 26 : w = 1.997, training loss = 0.00017709\n",
      "epoch 27 : w = 1.998, training loss = 0.00010774\n",
      "epoch 28 : w = 1.998, training loss = 0.00006555\n",
      "epoch 29 : w = 1.999, training loss = 0.00003988\n",
      "epoch 30 : w = 1.999, training loss = 0.00002426\n",
      "epoch 31 : w = 1.999, training loss = 0.00001476\n",
      "epoch 32 : w = 1.999, training loss = 0.00000898\n",
      "epoch 33 : w = 1.999, training loss = 0.00000546\n",
      "epoch 34 : w = 2.000, training loss = 0.00000332\n",
      "epoch 35 : w = 2.000, training loss = 0.00000202\n",
      "epoch 36 : w = 2.000, training loss = 0.00000123\n",
      "epoch 37 : w = 2.000, training loss = 0.00000075\n",
      "epoch 38 : w = 2.000, training loss = 0.00000046\n",
      "epoch 39 : w = 2.000, training loss = 0.00000028\n",
      "epoch 40 : w = 2.000, training loss = 0.00000017\n",
      "epoch 41 : w = 2.000, training loss = 0.00000010\n",
      "epoch 42 : w = 2.000, training loss = 0.00000006\n",
      "epoch 43 : w = 2.000, training loss = 0.00000004\n",
      "epoch 44 : w = 2.000, training loss = 0.00000002\n",
      "epoch 45 : w = 2.000, training loss = 0.00000001\n",
      "epoch 46 : w = 2.000, training loss = 0.00000001\n",
      "epoch 47 : w = 2.000, training loss = 0.00000001\n",
      "epoch 48 : w = 2.000, training loss = 0.00000000\n",
      "epoch 49 : w = 2.000, training loss = 0.00000000\n",
      "epoch 50 : w = 2.000, training loss = 0.00000000\n",
      "epoch 51 : w = 2.000, training loss = 0.00000000\n",
      "epoch 52 : w = 2.000, training loss = 0.00000000\n",
      "epoch 53 : w = 2.000, training loss = 0.00000000\n",
      "epoch 54 : w = 2.000, training loss = 0.00000000\n",
      "epoch 55 : w = 2.000, training loss = 0.00000000\n",
      "epoch 56 : w = 2.000, training loss = 0.00000000\n",
      "epoch 57 : w = 2.000, training loss = 0.00000000\n",
      "epoch 58 : w = 2.000, training loss = 0.00000000\n",
      "epoch 59 : w = 2.000, training loss = 0.00000000\n",
      "epoch 60 : w = 2.000, training loss = 0.00000000\n",
      "epoch 61 : w = 2.000, training loss = 0.00000000\n",
      "epoch 62 : w = 2.000, training loss = 0.00000000\n",
      "epoch 63 : w = 2.000, training loss = 0.00000000\n",
      "epoch 64 : w = 2.000, training loss = 0.00000000\n",
      "epoch 65 : w = 2.000, training loss = 0.00000000\n",
      "epoch 66 : w = 2.000, training loss = 0.00000000\n",
      "epoch 67 : w = 2.000, training loss = 0.00000000\n",
      "epoch 68 : w = 2.000, training loss = 0.00000000\n",
      "epoch 69 : w = 2.000, training loss = 0.00000000\n",
      "epoch 70 : w = 2.000, training loss = 0.00000000\n",
      "epoch 71 : w = 2.000, training loss = 0.00000000\n",
      "epoch 72 : w = 2.000, training loss = 0.00000000\n",
      "epoch 73 : w = 2.000, training loss = 0.00000000\n",
      "epoch 74 : w = 2.000, training loss = 0.00000000\n",
      "epoch 75 : w = 2.000, training loss = 0.00000000\n",
      "epoch 76 : w = 2.000, training loss = 0.00000000\n",
      "epoch 77 : w = 2.000, training loss = 0.00000000\n",
      "epoch 78 : w = 2.000, training loss = 0.00000000\n",
      "epoch 79 : w = 2.000, training loss = 0.00000000\n",
      "epoch 80 : w = 2.000, training loss = 0.00000000\n",
      "epoch 81 : w = 2.000, training loss = 0.00000000\n",
      "epoch 82 : w = 2.000, training loss = 0.00000000\n",
      "epoch 83 : w = 2.000, training loss = 0.00000000\n",
      "epoch 84 : w = 2.000, training loss = 0.00000000\n",
      "epoch 85 : w = 2.000, training loss = 0.00000000\n",
      "epoch 86 : w = 2.000, training loss = 0.00000000\n",
      "epoch 87 : w = 2.000, training loss = 0.00000000\n",
      "epoch 88 : w = 2.000, training loss = 0.00000000\n",
      "epoch 89 : w = 2.000, training loss = 0.00000000\n",
      "epoch 90 : w = 2.000, training loss = 0.00000000\n",
      "epoch 91 : w = 2.000, training loss = 0.00000000\n",
      "epoch 92 : w = 2.000, training loss = 0.00000000\n",
      "epoch 93 : w = 2.000, training loss = 0.00000000\n",
      "epoch 94 : w = 2.000, training loss = 0.00000000\n",
      "epoch 95 : w = 2.000, training loss = 0.00000000\n",
      "epoch 96 : w = 2.000, training loss = 0.00000000\n",
      "epoch 97 : w = 2.000, training loss = 0.00000000\n",
      "epoch 98 : w = 2.000, training loss = 0.00000000\n",
      "epoch 99 : w = 2.000, training loss = 0.00000000\n",
      "epoch 100 : w = 2.000, training loss = 0.00000000\n",
      "Predication after training : f(6) = 12.000\n"
     ]
    }
   ],
   "source": [
    "## training\n",
    "\n",
    "learning_rate = 0.01\n",
    "n_iters = 100\n",
    "\n",
    "print(f'Predication before training : f(6) = {forward(6):.3f}')\n",
    "\n",
    "for epoch in range(n_iters):\n",
    "    # prediction = forward pass\n",
    "    y_pred = forward(X)\n",
    "    \n",
    "    # loss\n",
    "    l = loss(Y, y_pred)\n",
    "    \n",
    "    # gradient = backward pass \n",
    "    # dl/dw\n",
    "    l.backward()\n",
    "    \n",
    "    # update weights\n",
    "    with torch.no_grad():\n",
    "        w -= learning_rate * w.grad\n",
    "        \n",
    "    #zero gradient\n",
    "    w.grad.zero_()\n",
    "    \n",
    "    if epoch % 1 == 0:\n",
    "        print(f'epoch {epoch+1} : w = {w:.3f}, training loss = {l:.8f}')\n",
    "        \n",
    "print(f'Predication after training : f(6) = {forward(6):.3f}')"
   ]
  },
  {
   "attachments": {},
   "cell_type": "markdown",
   "metadata": {},
   "source": [
    "#### Pytorch - 2\n",
    "\n",
    " - Prediction - Pytorch model\n",
    " - Gradient Computation - Autograd\n",
    " - Loss Computation - Pytorch Loss\n",
    " - Parameters - Pytorch Optimizers"
   ]
  },
  {
   "attachments": {},
   "cell_type": "markdown",
   "metadata": {},
   "source": [
    "1)  Design Model (input size, output size, forward pass)\n",
    "2) Construct Loss and gradient\n",
    "3) Training loop"
   ]
  },
  {
   "attachments": {},
   "cell_type": "markdown",
   "metadata": {},
   "source": [
    "forward - compute prediction\n",
    "backward - gradient \n",
    "update weightss"
   ]
  },
  {
   "cell_type": "code",
   "execution_count": 92,
   "metadata": {},
   "outputs": [],
   "source": [
    "import torch.nn as nn"
   ]
  },
  {
   "cell_type": "code",
   "execution_count": 102,
   "metadata": {},
   "outputs": [],
   "source": [
    "# f = w *x ignore bias\n",
    "\n",
    "X = torch.tensor([[1],[2],[3],[4],[5]], dtype=torch.float32)\n",
    "Y = torch.tensor([[2],[4],[6],[8],[10]], dtype=torch.float32)\n",
    "\n",
    "X_test = torch.tensor([6], dtype=torch.float32)\n",
    "n_samples, n_features = X.shape\n",
    "input_size = n_features\n",
    "output_size = n_features\n",
    "\n",
    "#model = nn.Linear(input_size, output_size)\n",
    "\n",
    "class LinearRegression(nn.Module):\n",
    "    def __init__(self,input_dim, output_dim):\n",
    "        super(LinearRegression, self).__init__()\n",
    "        ## define layer\n",
    "        self.lin = nn.Linear(input_dim, output_dim)\n",
    "    \n",
    "    def forward(self, x):\n",
    "        return self.lin(x)\n",
    "    \n",
    "model = LinearRegression(input_size, output_size)\n",
    "\n",
    "#w = torch.tensor(0.0, requires_grad=True, dtype=torch.float32)"
   ]
  },
  {
   "cell_type": "code",
   "execution_count": 103,
   "metadata": {},
   "outputs": [],
   "source": [
    "# # model predications\n",
    "# def forward(x):\n",
    "#     return w*x\n",
    "\n",
    "# # loss = MSE = 1/N * (w*x - y)**2\n",
    "# def loss(y, y_predicted):\n",
    "#     return ((y_predicted - y)**2).mean()\n",
    " \n",
    "# # gradient = dj/dw = 1/N *  2x * (wx - y)\n",
    "# def gradient(x,y,y_predicted):\n",
    "#     return np.dot(2*x, y_predicted - y).mean()"
   ]
  },
  {
   "cell_type": "code",
   "execution_count": 105,
   "metadata": {},
   "outputs": [
    {
     "name": "stdout",
     "output_type": "stream",
     "text": [
      "Predication before training : f(6) = 11.707\n",
      "epoch 1 : w = 1.878, training loss = 0.03567803\n",
      "epoch 2 : w = 1.878, training loss = 0.03543714\n",
      "epoch 3 : w = 1.879, training loss = 0.03519798\n",
      "epoch 4 : w = 1.879, training loss = 0.03496040\n",
      "epoch 5 : w = 1.879, training loss = 0.03472435\n",
      "epoch 6 : w = 1.880, training loss = 0.03448992\n",
      "epoch 7 : w = 1.880, training loss = 0.03425714\n",
      "epoch 8 : w = 1.881, training loss = 0.03402589\n",
      "epoch 9 : w = 1.881, training loss = 0.03379614\n",
      "epoch 10 : w = 1.881, training loss = 0.03356805\n",
      "epoch 11 : w = 1.882, training loss = 0.03334140\n",
      "epoch 12 : w = 1.882, training loss = 0.03311635\n",
      "epoch 13 : w = 1.883, training loss = 0.03289275\n",
      "epoch 14 : w = 1.883, training loss = 0.03267075\n",
      "epoch 15 : w = 1.883, training loss = 0.03245021\n",
      "epoch 16 : w = 1.884, training loss = 0.03223110\n",
      "epoch 17 : w = 1.884, training loss = 0.03201355\n",
      "epoch 18 : w = 1.885, training loss = 0.03179747\n",
      "epoch 19 : w = 1.885, training loss = 0.03158286\n",
      "epoch 20 : w = 1.885, training loss = 0.03136969\n",
      "epoch 21 : w = 1.886, training loss = 0.03115788\n",
      "epoch 22 : w = 1.886, training loss = 0.03094751\n",
      "epoch 23 : w = 1.887, training loss = 0.03073863\n",
      "epoch 24 : w = 1.887, training loss = 0.03053117\n",
      "epoch 25 : w = 1.887, training loss = 0.03032505\n",
      "epoch 26 : w = 1.888, training loss = 0.03012034\n",
      "epoch 27 : w = 1.888, training loss = 0.02991701\n",
      "epoch 28 : w = 1.888, training loss = 0.02971504\n",
      "epoch 29 : w = 1.889, training loss = 0.02951448\n",
      "epoch 30 : w = 1.889, training loss = 0.02931518\n",
      "epoch 31 : w = 1.890, training loss = 0.02911730\n",
      "epoch 32 : w = 1.890, training loss = 0.02892078\n",
      "epoch 33 : w = 1.890, training loss = 0.02872553\n",
      "epoch 34 : w = 1.891, training loss = 0.02853164\n",
      "epoch 35 : w = 1.891, training loss = 0.02833907\n",
      "epoch 36 : w = 1.891, training loss = 0.02814772\n",
      "epoch 37 : w = 1.892, training loss = 0.02795767\n",
      "epoch 38 : w = 1.892, training loss = 0.02776901\n",
      "epoch 39 : w = 1.893, training loss = 0.02758152\n",
      "epoch 40 : w = 1.893, training loss = 0.02739529\n",
      "epoch 41 : w = 1.893, training loss = 0.02721041\n",
      "epoch 42 : w = 1.894, training loss = 0.02702670\n",
      "epoch 43 : w = 1.894, training loss = 0.02684423\n",
      "epoch 44 : w = 1.894, training loss = 0.02666311\n",
      "epoch 45 : w = 1.895, training loss = 0.02648306\n",
      "epoch 46 : w = 1.895, training loss = 0.02630431\n",
      "epoch 47 : w = 1.895, training loss = 0.02612678\n",
      "epoch 48 : w = 1.896, training loss = 0.02595040\n",
      "epoch 49 : w = 1.896, training loss = 0.02577526\n",
      "epoch 50 : w = 1.896, training loss = 0.02560120\n",
      "epoch 51 : w = 1.897, training loss = 0.02542839\n",
      "epoch 52 : w = 1.897, training loss = 0.02525671\n",
      "epoch 53 : w = 1.898, training loss = 0.02508627\n",
      "epoch 54 : w = 1.898, training loss = 0.02491692\n",
      "epoch 55 : w = 1.898, training loss = 0.02474871\n",
      "epoch 56 : w = 1.899, training loss = 0.02458162\n",
      "epoch 57 : w = 1.899, training loss = 0.02441570\n",
      "epoch 58 : w = 1.899, training loss = 0.02425086\n",
      "epoch 59 : w = 1.900, training loss = 0.02408715\n",
      "epoch 60 : w = 1.900, training loss = 0.02392456\n",
      "epoch 61 : w = 1.900, training loss = 0.02376301\n",
      "epoch 62 : w = 1.901, training loss = 0.02360263\n",
      "epoch 63 : w = 1.901, training loss = 0.02344332\n",
      "epoch 64 : w = 1.901, training loss = 0.02328507\n",
      "epoch 65 : w = 1.902, training loss = 0.02312785\n",
      "epoch 66 : w = 1.902, training loss = 0.02297175\n",
      "epoch 67 : w = 1.902, training loss = 0.02281666\n",
      "epoch 68 : w = 1.903, training loss = 0.02266267\n",
      "epoch 69 : w = 1.903, training loss = 0.02250965\n",
      "epoch 70 : w = 1.903, training loss = 0.02235771\n",
      "epoch 71 : w = 1.904, training loss = 0.02220685\n",
      "epoch 72 : w = 1.904, training loss = 0.02205687\n",
      "epoch 73 : w = 1.904, training loss = 0.02190797\n",
      "epoch 74 : w = 1.905, training loss = 0.02176011\n",
      "epoch 75 : w = 1.905, training loss = 0.02161320\n",
      "epoch 76 : w = 1.905, training loss = 0.02146733\n",
      "epoch 77 : w = 1.906, training loss = 0.02132241\n",
      "epoch 78 : w = 1.906, training loss = 0.02117847\n",
      "epoch 79 : w = 1.906, training loss = 0.02103553\n",
      "epoch 80 : w = 1.906, training loss = 0.02089349\n",
      "epoch 81 : w = 1.907, training loss = 0.02075244\n",
      "epoch 82 : w = 1.907, training loss = 0.02061239\n",
      "epoch 83 : w = 1.907, training loss = 0.02047322\n",
      "epoch 84 : w = 1.908, training loss = 0.02033499\n",
      "epoch 85 : w = 1.908, training loss = 0.02019777\n",
      "epoch 86 : w = 1.908, training loss = 0.02006138\n",
      "epoch 87 : w = 1.909, training loss = 0.01992595\n",
      "epoch 88 : w = 1.909, training loss = 0.01979148\n",
      "epoch 89 : w = 1.909, training loss = 0.01965787\n",
      "epoch 90 : w = 1.910, training loss = 0.01952516\n",
      "epoch 91 : w = 1.910, training loss = 0.01939338\n",
      "epoch 92 : w = 1.910, training loss = 0.01926241\n",
      "epoch 93 : w = 1.911, training loss = 0.01913246\n",
      "epoch 94 : w = 1.911, training loss = 0.01900326\n",
      "epoch 95 : w = 1.911, training loss = 0.01887497\n",
      "epoch 96 : w = 1.911, training loss = 0.01874755\n",
      "epoch 97 : w = 1.912, training loss = 0.01862098\n",
      "epoch 98 : w = 1.912, training loss = 0.01849528\n",
      "epoch 99 : w = 1.912, training loss = 0.01837048\n",
      "epoch 100 : w = 1.913, training loss = 0.01824645\n",
      "Predication after training : f(6) = 11.791\n"
     ]
    }
   ],
   "source": [
    "## training\n",
    "\n",
    "learning_rate = 0.01\n",
    "n_iters = 100\n",
    "\n",
    "\n",
    "loss = nn.MSELoss()\n",
    "optimzer = torch.optim.SGD(model.parameters(),lr=learning_rate)\n",
    "\n",
    "print(f'Predication before training : f(6) = {model(X_test).item():.3f}')\n",
    "\n",
    "for epoch in range(n_iters):\n",
    "    # prediction = forward pass\n",
    "    y_pred = model(X)\n",
    "    \n",
    "    # loss\n",
    "    l = loss(Y, y_pred)\n",
    "    \n",
    "    # gradient = backward pass \n",
    "    # dl/dw\n",
    "    l.backward()\n",
    "    \n",
    "    # update weights\n",
    "    optimzer.step()\n",
    "        \n",
    "    #zero gradient\n",
    "    optimzer.zero_grad()\n",
    "    \n",
    "    if epoch % 1 == 0:\n",
    "        [w, b] = model.parameters()\n",
    "        print(f'epoch {epoch+1} : w = {w[0][0].item():.3f}, training loss = {l:.8f}')\n",
    "        \n",
    "print(f'Predication after training : f(6) = {model(X_test).item():.3f}')"
   ]
  },
  {
   "cell_type": "code",
   "execution_count": 110,
   "metadata": {},
   "outputs": [
    {
     "name": "stdout",
     "output_type": "stream",
     "text": [
      "Parameter containing:\n",
      "tensor([[1.9126]], requires_grad=True)\n",
      "Parameter containing:\n",
      "tensor([0.3155], requires_grad=True)\n",
      "1\n"
     ]
    }
   ],
   "source": [
    "for i in model.parameters():\n",
    "    print(i)\n",
    "    \n",
    "print(output_size)"
   ]
  },
  {
   "attachments": {},
   "cell_type": "markdown",
   "metadata": {},
   "source": [
    "## Linear Regression"
   ]
  },
  {
   "cell_type": "code",
   "execution_count": 121,
   "metadata": {},
   "outputs": [],
   "source": [
    "import torch.nn as nn\n",
    "import torch\n",
    "import numpy as np\n",
    "from sklearn import datasets\n",
    "import matplotlib.pyplot as plt"
   ]
  },
  {
   "cell_type": "code",
   "execution_count": 158,
   "metadata": {},
   "outputs": [],
   "source": [
    "## prepare data\n",
    "\n",
    "X_numpy, y_numpy = datasets.make_regression(n_samples=100, n_features=1,  noise=20, random_state=1)\n",
    "X, y = torch.from_numpy(X_numpy.astype(np.float32)), torch.from_numpy(y_numpy.astype(np.float32)) \n",
    "y = y.view(y.shape[0], 1)\n",
    "\n",
    "n_samples, n_features = X.shape\n",
    "\n",
    "input_size = n_features\n",
    "output_size = 1\n",
    "\n"
   ]
  },
  {
   "cell_type": "code",
   "execution_count": 159,
   "metadata": {},
   "outputs": [
    {
     "name": "stdout",
     "output_type": "stream",
     "text": [
      "torch.Size([100, 1])\n",
      "torch.Size([100, 1])\n"
     ]
    }
   ],
   "source": [
    "print(X.shape)\n",
    "print(y.shape)"
   ]
  },
  {
   "cell_type": "code",
   "execution_count": 160,
   "metadata": {},
   "outputs": [],
   "source": [
    "## model\n",
    "\n",
    "model = nn.Linear(input_size, output_size)"
   ]
  },
  {
   "cell_type": "code",
   "execution_count": 161,
   "metadata": {},
   "outputs": [],
   "source": [
    "## loss and optimzer\n",
    "learning_rate = 0.01\n",
    "\n",
    "\n",
    "criterion = nn.MSELoss()\n",
    "optimzer = torch.optim.SGD(model.parameters(), lr=learning_rate)"
   ]
  },
  {
   "cell_type": "code",
   "execution_count": 162,
   "metadata": {},
   "outputs": [
    {
     "name": "stdout",
     "output_type": "stream",
     "text": [
      "epoch 100 : loss : 5719.1045\n",
      "epoch 100 : loss : 5547.8809\n",
      "epoch 100 : loss : 5382.1533\n",
      "epoch 100 : loss : 5221.7441\n",
      "epoch 100 : loss : 5066.4795\n",
      "epoch 100 : loss : 4916.1938\n",
      "epoch 100 : loss : 4770.7246\n",
      "epoch 100 : loss : 4629.9165\n",
      "epoch 100 : loss : 4493.6177\n",
      "epoch 100 : loss : 4361.6816\n",
      "epoch 100 : loss : 4233.9692\n",
      "epoch 100 : loss : 4110.3423\n",
      "epoch 100 : loss : 3990.6677\n",
      "epoch 100 : loss : 3874.8196\n",
      "epoch 100 : loss : 3762.6733\n",
      "epoch 100 : loss : 3654.1104\n",
      "epoch 100 : loss : 3549.0132\n",
      "epoch 100 : loss : 3447.2710\n",
      "epoch 100 : loss : 3348.7756\n",
      "epoch 100 : loss : 3253.4219\n",
      "epoch 100 : loss : 3161.1091\n",
      "epoch 100 : loss : 3071.7388\n",
      "epoch 100 : loss : 2985.2163\n",
      "epoch 100 : loss : 2901.4502\n",
      "epoch 100 : loss : 2820.3513\n",
      "epoch 100 : loss : 2741.8345\n",
      "epoch 100 : loss : 2665.8159\n",
      "epoch 100 : loss : 2592.2156\n",
      "epoch 100 : loss : 2520.9561\n",
      "epoch 100 : loss : 2451.9622\n",
      "epoch 100 : loss : 2385.1606\n",
      "epoch 100 : loss : 2320.4817\n",
      "epoch 100 : loss : 2257.8572\n",
      "epoch 100 : loss : 2197.2205\n",
      "epoch 100 : loss : 2138.5088\n",
      "epoch 100 : loss : 2081.6599\n",
      "epoch 100 : loss : 2026.6144\n",
      "epoch 100 : loss : 1973.3147\n",
      "epoch 100 : loss : 1921.7043\n",
      "epoch 100 : loss : 1871.7297\n",
      "epoch 100 : loss : 1823.3383\n",
      "epoch 100 : loss : 1776.4799\n",
      "epoch 100 : loss : 1731.1050\n",
      "epoch 100 : loss : 1687.1664\n",
      "epoch 100 : loss : 1644.6182\n",
      "epoch 100 : loss : 1603.4161\n",
      "epoch 100 : loss : 1563.5168\n",
      "epoch 100 : loss : 1524.8794\n",
      "epoch 100 : loss : 1487.4626\n",
      "epoch 100 : loss : 1451.2288\n",
      "epoch 100 : loss : 1416.1395\n",
      "epoch 100 : loss : 1382.1584\n",
      "epoch 100 : loss : 1349.2501\n",
      "epoch 100 : loss : 1317.3807\n",
      "epoch 100 : loss : 1286.5168\n",
      "epoch 100 : loss : 1256.6267\n",
      "epoch 100 : loss : 1227.6793\n",
      "epoch 100 : loss : 1199.6447\n",
      "epoch 100 : loss : 1172.4937\n",
      "epoch 100 : loss : 1146.1985\n",
      "epoch 100 : loss : 1120.7314\n",
      "epoch 100 : loss : 1096.0668\n",
      "epoch 100 : loss : 1072.1787\n",
      "epoch 100 : loss : 1049.0428\n",
      "epoch 100 : loss : 1026.6349\n",
      "epoch 100 : loss : 1004.9322\n",
      "epoch 100 : loss : 983.9120\n",
      "epoch 100 : loss : 963.5530\n",
      "epoch 100 : loss : 943.8343\n",
      "epoch 100 : loss : 924.7353\n",
      "epoch 100 : loss : 906.2366\n",
      "epoch 100 : loss : 888.3193\n",
      "epoch 100 : loss : 870.9647\n",
      "epoch 100 : loss : 854.1552\n",
      "epoch 100 : loss : 837.8734\n",
      "epoch 100 : loss : 822.1027\n",
      "epoch 100 : loss : 806.8271\n",
      "epoch 100 : loss : 792.0307\n",
      "epoch 100 : loss : 777.6985\n",
      "epoch 100 : loss : 763.8157\n",
      "epoch 100 : loss : 750.3683\n",
      "epoch 100 : loss : 737.3426\n",
      "epoch 100 : loss : 724.7249\n",
      "epoch 100 : loss : 712.5027\n",
      "epoch 100 : loss : 700.6635\n",
      "epoch 100 : loss : 689.1950\n",
      "epoch 100 : loss : 678.0857\n",
      "epoch 100 : loss : 667.3243\n",
      "epoch 100 : loss : 656.8996\n",
      "epoch 100 : loss : 646.8013\n",
      "epoch 100 : loss : 637.0189\n",
      "epoch 100 : loss : 627.5425\n",
      "epoch 100 : loss : 618.3625\n",
      "epoch 100 : loss : 609.4697\n",
      "epoch 100 : loss : 600.8549\n",
      "epoch 100 : loss : 592.5093\n",
      "epoch 100 : loss : 584.4246\n",
      "epoch 100 : loss : 576.5924\n",
      "epoch 100 : loss : 569.0050\n",
      "epoch 100 : loss : 561.6547\n"
     ]
    }
   ],
   "source": [
    "## training loop\n",
    "\n",
    "num_epochs = 100\n",
    "\n",
    "for epochs in range(num_epochs):\n",
    "    # forward pass\n",
    "    y_predicted = model(X)\n",
    "    loss = criterion(y_predicted, y)\n",
    "    \n",
    "    # backward pass\n",
    "    loss.backward()\n",
    "    \n",
    "    # computing weights\n",
    "    optimzer.step()\n",
    "    \n",
    "    # zero gradients\n",
    "    optimzer.zero_grad()\n",
    "    \n",
    "    if (epoch+1) % 10 == 0:\n",
    "        print(f'epoch {epoch+1} : loss : {loss.item():.4f}')\n"
   ]
  },
  {
   "cell_type": "code",
   "execution_count": 164,
   "metadata": {},
   "outputs": [
    {
     "data": {
      "image/png": "iVBORw0KGgoAAAANSUhEUgAAAjMAAAGdCAYAAADnrPLBAAAAOXRFWHRTb2Z0d2FyZQBNYXRwbG90bGliIHZlcnNpb24zLjYuMiwgaHR0cHM6Ly9tYXRwbG90bGliLm9yZy8o6BhiAAAACXBIWXMAAA9hAAAPYQGoP6dpAABEb0lEQVR4nO3df3RU9Z3/8dclwogUIjGYEBMNq3ZbF9c90q5CS0mqop6qaASLfOtKV+m6gIqgnkX9ClqR1h/grtZfWyu2W4I/CLr7beuCmiiuWtGVij/qr4YmhMQAYgIUE5nc7x83M2Qy987cSWbm3jvzfJwzJ+bOnZkPxXZe/fx4vw3TNE0BAAAE1BCvBwAAADAYhBkAABBohBkAABBohBkAABBohBkAABBohBkAABBohBkAABBohBkAABBoh3g9gGzo6enR9u3bNXLkSBmG4fVwAACAC6Zpas+ePSorK9OQIc7zL3kRZrZv366KigqvhwEAAAagublZ5eXljs/nRZgZOXKkJOs/jFGjRnk8GgAA4EZnZ6cqKiqi3+NO8iLMRJaWRo0aRZgBACBgkm0RYQMwAAAINMIMAAAINMIMAAAINMIMAAAINMIMAAAINMIMAAAINMIMAAAINMIMAAAItLwomgcAgO+Ew9LGjVJrqzR2rDR5slRQ4PWoAokwAwBAttXVSVdfLW3bdvBaebn0r/8q1dR4N66AYpkJAIBsqquTpk+PDTKS1NJiXa+r82ZcAxEOSw0NUm2t9TMc9mQYhBkAALIlHLZmZEwz/rnItQULPAsFKamrkyorpepqadYs62dlpSdhjDADAEC2bNwYPyPTl2lKzc3WfX7ms9klwgwAANnS2pre+7zgw9klwgwAANkydmx67/OCD2eXCDMAAGTL5MnWqSXDsH/eMKSKCus+v/Lh7BJhBgCAbCkosI5fS/GBJvL7Pff4u96MD2eXCDMAAGRTTY301FPSUUfFXi8vt677vc6MD2eXKJoHAEC21dRI06YFswJwZHZp+nQruPTdCOzR7BJhBgAALxQUSFVVXo9iYCKzS3ZVjO+5J+uzS4QZAACQOh/NLhFmAADAwPhkdokwAwAA7AWkszdhBgAAxAtQZ2+OZgMAgFg+672UDGEGAAAc5MPeS8kQZgAAwEE+7L2UDGEGAAAc5MPeS8kQZgAAwEE+7L2UDGEGAAAc5MPeS8kQZgAAwEEB7OxNmAEAALEC1tmbonkAACCej3ovJUOYAQAA9nzSeykZlpkAAECgMTMDAECmpNqoMSCNHf2GMAMAQCak2qgxQI0d/Sajy0wvvfSSzj33XJWVlckwDD399NMxz8+ePVuGYcQ8Tj311Jh7urq6dOWVV6q4uFgjRozQeeedp22JyiwDAOC1VBs1Bqyxo99kNMzs27dPJ510ku677z7He8466yy1trZGH7/97W9jnl+wYIHWrVunNWvW6OWXX9bevXt1zjnnKOyjBlcAAESl2qgxgI0d/Sajy0xnn322zj777IT3hEIhlZaW2j7X0dGhRx55RL/61a90+umnS5L+4z/+QxUVFXruued05plnpn3MAAAMSiqNGquqUr8fcTw/zdTQ0KAjjzxSX/3qVzVnzhy1t7dHn3vzzTf15ZdfaurUqdFrZWVlGj9+vF555RXH9+zq6lJnZ2fMAwCArEi1UWMAGzv2ZZrSvn3ejsHTMHP22Wfr17/+tV544QXdfffd2rRpk7773e+qq6tLktTW1qZhw4Zp9OjRMa8rKSlRW1ub4/suX75chYWF0UdFRUVG/xwAgDwTDksNDVJtrfWz7xJQqo0aA9jYMeKRR6QhQ6SvfEV67jnvxuHpaabvf//70X8eP368vvGNb+iYY47Rb37zG9Uk2LltmqYMpwZYkhYvXqyFCxdGf+/s7CTQAADSI9mpo0ijxpYW+30whmE9H2nUmOr9PvD229JJJ8Ve6zfvkFWeLzP1NXbsWB1zzDH66KOPJEmlpaXq7u7W7t27Y+5rb29XSUmJ4/uEQiGNGjUq5gEAwKC5OXWUaqPGADV23LNHKimJDzKvvCJNmODNmCSfhZldu3apublZY3un0iZMmKChQ4dqw4YN0XtaW1v1zjvvaNKkSV4NEwCQj1I5dZRqo0afN3Y0TelHP5JGjZL6bG3VXXdZz02c6N3YpAwvM+3du1cff/xx9PfGxkZt3rxZRUVFKioq0tKlS3XhhRdq7Nix2rp1q2644QYVFxfrggsukCQVFhbqsssu06JFi3TEEUeoqKhI1157rU488cTo6SYAALIi1VNHqTZq9Gljx4cekq64IvZadbW0fr10iE9K72Z0GG+88Yaqq6ujv0f2sVx66aV64IEHtGXLFv3yl7/U559/rrFjx6q6ulqPP/64Ro4cGX3NypUrdcghh+iiiy7S/v37ddppp2nVqlUq8MF0GwAgjwzk1FGqjRp91Njx2Wclu+oqLS1SWVn2x5OIYZp282W5pbOzU4WFhero6GD/DABgYBoarCmJZOrrfRNIBuLzz+03827YIGV7UcTt97dPJogAAPC5AJ46SpXTQWG/T3v4agMwAAC+FaBTR6lasMA+yHR0+D/ISIQZAADc8/mpo1S99poVYiIZLeK556wQE5SdGSwzAQCQisGcOgqHfXFaaf9+6bDD4q//wz9Ijz2W9eEMGmEGAIBUDeTUUbLKwVlSWCjZtSzs6XHeM+N3LDMBAJBpbioHZ9hPfmKFlf5B5tNPrSWloAYZiTADAEBmpVI5OAPef98KKosXx15/8knr4488MiMfm1WEGQAAMimVysFpdOCAFWJOOCH2enW19ZHTp6f14zzFnhkAADJpIJWDB+mkk6zO1v2Fw9KQHJzGyME/EgAAPtLbPDlt9yXwi19YszH9g8yf/mTNxuRikJEIMwAAZFakcrDTDlvDkCoqBlU5uLnZepvLLou9/rOfWSFm3LgBv3UgsMwEAEAmRSoHT59uJY6+G4EHWTnYabbl2GOljz8e2HCDiJkZAMDAhMNW88XaWutnhk7j5IQMVA4+5xz7INPdnV9BRmJmBgAwED4pABcog6kc3Mczz0jnnx9//Q9/kP72b9Mz1KAxTDMILaQGx20LcQCAC5ECcP2/PiJLJgHsURQEu3ZJxcXx15culZYsyfpwssLt9zdhBgDgXjgsVVY6100xDGuGprExkN2j/cpu73BBgVVLJpe5/f5mzwwAwD2PCsDlq3/6J/sgs3dv7geZVLBnBgCQWN9Oz++95+41aSwAl482bpS+85346y+9NKgT3DmLMAMAcGa30deNNBSAS1nf0DXAzbVe+/xzafTo+Os/+pH00ENZH05gEGYAAPacNvomEtkzk+3pgxw4XeVUUy/3d7YOHntmAADxEnV6djLIAnADFgld/WePWlqs63V12RvLAFRX2weZXbsIMm4RZgAA8ZJt9LUziAJwA5YodEWuLVjgy4J+//EfVohpaIi9/tOfWkMvKvJkWIHEMhMAIJ7bDbw33SSdcIJ3e1RSOV1VVZW1YSXyl79II0bYP8dMzMAQZgAA8dxu4D3tNG9DgtvQ5ZPTVU77Ynp6nJ9DciwzAQDiZaHTc1q4DV1enK7qwzDs/6P8n/+xZmMIMoNDmAEAxIt0epbiv2m92uhrx+eh65FH7If2139thZhJk7I/plxEmAEA2MtAp+e082noOnDA+vjLL49/zjSlP/4xq8PJefRmAgAkFoRidHZ1ZioqrCAzmNA1gD+70yTRX/4iDR8+8KHkIxpN9kGYAYA8kO7QlWIhPqcQc9tt0o03DnwY+Yww0wdhBgCQEqfqx5HE0meZrb5e+u537d8m979hM4uu2QAADITLQnzmgbAMwz7ImCZBJpuoMwMA+S4Ie2KyyUUhPqO5SRoa/9T27Z6fAs9LzMwAQD6rq5MqK60GQbNmWT8rK/3Rzygctmr919ZaP7PVkiBBgb0StclQ/JTLzJnWTAxBxhsZDTMvvfSSzj33XJWVlckwDD399NMxz5umqaVLl6qsrEzDhw9XVVWV3n333Zh7urq6dOWVV6q4uFgjRozQeeedp22p9gsBAMTzc4NGu5BVWio9+WTmP9smkbytE2XIVLtK4p4zTStvwTsZDTP79u3TSSedpPvuu8/2+TvuuEMrVqzQfffdp02bNqm0tFRnnHGG9uzZE71nwYIFWrdundasWaOXX35Ze/fu1TnnnKOwD5uGAUBg+LlBo1PI2rlTuugi6frrM/v5/QrxGTJ1kt6Ou808EGZfjF+YWSLJXLduXfT3np4es7S01PzJT34SvfbFF1+YhYWF5oMPPmiapml+/vnn5tChQ801a9ZE72lpaTGHDBliPvvss64/u6Ojw5RkdnR0DP4PAgC5oL4+skc18aO+PrvjOnDANMvLk4/rySczO461ax0/+jWdYppr12b282Gapvvvb8/2zDQ2NqqtrU1Tp06NXguFQpoyZYpeeeUVSdKbb76pL7/8MuaesrIyjR8/PnqPna6uLnV2dsY8AAB9+LVBY7LNtxFz5ki//nVG9tKcd55kXBhfR2aIwjIrjtYpa6/3R/VjRHl2mqmtrU2SVFISu/5YUlKiP//5z9F7hg0bptGjR8fdE3m9neXLl+uWW25J84gBIIf4tUGj2/D0+efSD35g/XOCQnap+PRTa1uOHXN1be9Jr8b8PunlU56fZjL6lUw0TTPuWn/J7lm8eLE6Ojqij+bm5rSMFQByhl8bNA4kPKVhw7Jh2AeZnp7eLUQXXyxVVRFkfMqzMFPa+29N/xmW9vb26GxNaWmpuru7tXv3bsd77IRCIY0aNSrmAQDow6cNGjV5slRcnNprBrFh2TDs89yaNdbbJvn/1vAJz8LMuHHjVFpaqg0bNkSvdXd368UXX9Sk3p7oEyZM0NChQ2PuaW1t1TvvvBO9BwAwQH7sil1QIN1/f+qvM02pudnac+PC0qXOQcU0pe9/P/UhwDsZ3TOzd+9effzxx9HfGxsbtXnzZhUVFenoo4/WggULdPvtt+v444/X8ccfr9tvv12HHXaYZs2aJUkqLCzUZZddpkWLFumII45QUVGRrr32Wp144ok6/fTTMzl0AMgPNTXStGn+qgA8Y4Z03XXSnXem/toke26++MK5czXHrIMro2HmjTfeUHV1dfT3hQsXSpIuvfRSrVq1Stdff73279+vuXPnavfu3TrllFO0fv16jRw5MvqalStX6pBDDtFFF12k/fv367TTTtOqVatUwLolAKRHQYG1H8RP7rhD+vu/l+bOlXbscP+6BHtunGZi9u+XDj00xfHBV+iaDQDwr0jfqJYWa0/Mzp329xmGtTzWGH/ayCnELFliLTfBv9x+f9NoEgDgX31njYYPt04tSbFrQg4bltessQ4h2cn9/xufXzw/mg0AgCsuNyxHTiHZBZlIHV/kFmZmAADBkWTDstOSUlublKCiBwKOMAMACBabDctOIWbaNOnppzM+IniMMAMACKyGBqnPodkYLCflD8IMAMCfIieZHOrfJCp6h/xCmAGAIEvyhR9YdXXS1VfHdtDubShp19Fakt54Q5owIUvjg68QZgAgqBJ84XvSiiBd6uqsI9j9pliGbvuTDlw41PYlzMbkN45mA0AQRb7w+wYZKS0dpD0VDlsBrU86+UBflSFTBxQfZDhqDYkwAwDBY/OFHzWIDtK+sHFjTEAzZOpr+iDutp4XGggxiCLMAEDQ9PvCj5NiB+mUhcPWMaLaWutnOkNTb6NIQ6YMxaeVRzVbpgwZbYkbSiK/sGcGAIImSWfolO9Lhd0+neJi6f77rW7XgxS69Pvqln0PAlN9ji8laCiJ/MPMDAAEjdsv8nR/4Tvt09m5U7roIun66wf81u3t1lHr7i/jv5bM3nmaqIoK69QW0IswAwBBM3mydWrJqdCKYaT/Cz/RPp2IO++0eiSlyDDsWw18oVBsiIm4++7cOH6OtCHMAEDQFBRYx6+l+EDj0EF60JLt04mYO9f1HhrDsM9jU9QgU4ZC6rZ/4Zgxrt4f+YMwAwBB5LKDdNq43X+zY0fSjccXXJCgeq8MNcihP0GqY0HeYAMwAARVkg7SaRGpMPzee+5f8/zztuM4cEAaal/zzlq9amhQshwjic2/iGOYZu6f1O/s7FRhYaE6Ojo0atQor4cDAN5ItfWB3cklt/pVInaaidm2rc/kUjgsVVZahf/svpoMw3rfxkb2zOQJt9/fLDMBQD6oq7OCQnW1NGuW9bOy0rlSsNPJJbd6KxE77YuRrLwSs0rmxV4g5ATCDADkulRbH7g5uZTESvNqGWaP7XMJWxBkey8QcgLLTACQyyJLN04zLHZLNw0N1szNANlV7pVSzEa52g0cKWGZCQAwsNYHAzwt5NSC4KWbn0t9kqegQKqqki6+2PpJkEECnGYCgFw2kNYHKZ4WcpqJkXpbEFTXp/R+QKqYmQGAXDaQ1gfJKgz3+m9NdV5SkiHTGELrAWQFYQYActlAWh8kOlUUeZlMnaX/jrse7aPE6SNkEWEGAHLZQI87O5wqctoXc5/mxfZR4vQRsojTTACQD+wK4JWXS3PmSMcf73xiKByWGhpknH6a41ubxhAr9KxaZbW/5vQR0sTt9zdhBgDyRd/jzh99JP37v8eHmz5VeyXp/felE06wf7uY5SRmYZABHM0GAMSKHHcOhaSlS5MW0TMM+yDzpQ45uKTEchJ8gKPZAJAr3BSaS1Td1zQlw5BxoX0w+du/lf7wv2Fp43MUs4OvEGYAIBc47Ynpt2yUqIieIVNOJWMOZp/e2R3ARwgzAHKfH0vjp3NMkd5L/WdbIstGfZeBbIro7dUIjdRe27fO/V2VyAXsmQGQ21LtFh20MSVbNpKkBQus+6S4InqGTNsgs/2pVwgyCAzPw8zSpUtlGEbMo7S0NPq8aZpaunSpysrKNHz4cFVVVendd9/1cMQAAiPVbtFBHFOqvZd6i+g51YuRJLPiaI09/5TUxgF4yPMwI0l/8zd/o9bW1uhjy5Yt0efuuOMOrVixQvfdd582bdqk0tJSnXHGGdqzZ4+HIwbge6nOWAR1TCn2Xjr9zAIZ25ptbzGNIVbNGKr2ImB8EWYOOeQQlZaWRh9jxoyRZM3K3HPPPbrxxhtVU1Oj8ePH67HHHtNf/vIXrV692uNRA/C1gXSLDuKYXPZeMkvHyjCk55+3eS7SgoBj1ggoX4SZjz76SGVlZRo3bpxmzpypP/3pT5KkxsZGtbW1aerUqdF7Q6GQpkyZoldeecXx/bq6utTZ2RnzAJBnUpmx6K1yq9pa62emZmsG0sE6GRe9lwyZGvLdqrinNjwbllnfIK1eLdXXS42NBBkEkuenmU455RT98pe/1Fe/+lV9+umnuu222zRp0iS9++67amtrkySVlJTEvKakpER//vOfHd9z+fLluuWWWzI6bgA+57Zb9EcfWZtvkx1pzuaY3N4XORE1fbq1NGQYMUtYyY9aF0iqcvdZgI/5rp3Bvn37dOyxx+r666/Xqaeeqm9961vavn27xvb5L/ecOXPU3NysZ5991vY9urq61NXVFf29s7NTFRUVtDMA8kk4bIWUlhb7PSqGIRUVSbt22T8npX/Jxc2YysutGZJke1bs6soUFEjhsFboGi3SCtuX+et/8YHEAtvOYMSIETrxxBP10UcfRU81RWZoItrb2+Nma/oKhUIaNWpUzANAnnHTLdpJpjYID7SDdX9OJ6LCYRkybYOMaRJkkLt8F2a6urr0/vvva+zYsRo3bpxKS0u1YcOG6PPd3d168cUXNWnSJA9HCSAQamqs2ZWjjoq9Xl5u9Saym5WJiGzGvffe9AaaRGNyMxPkcCLK6aj10qWEGOQ+z5eZrr32Wp177rk6+uij1d7erttuu00vvviitmzZomOOOUY//elPtXz5cj366KM6/vjjdfvtt6uhoUEffPCBRo4c6eoz6JoN5Dm7artPPGEVrHMjE3toIpuOGxqs36uqrEeyWZmGBqvIXi+nWjESIQbB5/b72/MNwNu2bdPFF1+snTt3asyYMTr11FP12muv6ZhjjpEkXX/99dq/f7/mzp2r3bt365RTTtH69etdBxkAiHaL7svtJlvJvi1AXwNpTfDMM7F7Xm67zV1o6j3ptFHf1ndkf4TblGGdUNLFLv5wQPB5PjOTDczMAIiTbDNuf06bc902eOzLqZeSm43HDQ0yqqvs/0gaoiGRmZr6ehpCIvACuwEYALIi0WZcO3YF7Zw24m7bJl14oRVK+htEFWDDkG2QOV4fypRhBRnDkCoqrNmhTMtWfR4gCcIMgPzltBk3kUhBu0ShJGLmTOnJJ2OvDaAKsGE45y1Thj7UXx+8UcpOOwI/NvBE3iLMAMhvNTXS1q3SypXu7o/stUkWSiQr8Fx0UewXfApVgFu3hZ1DzNo6meUVsRez1Y7Ajw08kdfYMwMAUuoF7Wpr3Z+GqqiwXidZR72vuSbpS5xOKe36xTMq+uG0g2NOdePxYEX+c3IKcqkU/gOSYM8MAKQi1YJ2qZyGam6Wli2zQkCSIONUL0aylpSK/vF86frrD465qkq6+GJ3x7rTwY8NPJH3CDMA8o/TxtVUCtpFGjy6tWRJwhCQLMSY6hOw7rwzfi9OtmSiWSYwSIQZAPkl2cbVyB6a+vrE3aT7zuQMQlhD3IeYvubN8+b0ULqbZQJpwJ4ZAPljMPVdnDz1lHVqaQDBwinEbNS39W39T/I38KKWTDqbZQJJsGcGAPoaRH2XhKZPt5arUpBwSam+wV2QkbxZyklXs0wgjQgzAPLDYDauJisON2OGtHZt0j00/6DHEoYY05S1F2fMmITvE+XVUs5gm2UCaeZ5byYAyIqBblx1266gpuZgXRkbjiHGGGK93+Teo9sFBdL991sBKZFsVfl1UlMjTZuW/aPhgA1mZgDkh4FsXE2lOFw4LC1cGPd2TktKS7TUCjJS/LLM9OnSddc5j9Ew/LGU48XRcMAGG4AB5IdUN66mWhyuocE6GRV52mEmRtLBE0oVFVYocerE/eMfSytWSHv2HLye6DVAjmEDMAD0lerG1VT32PQuT/1KP0h81Pqm/5v4yLd08Pj4LbccDDJFRdbvTq8B8hh7ZgDkvkjZ/64uaelS6eGHrRmaiPLy+NmOVPfYHHlkwhATVVUlnXaa8/s5HR/fvdsa+/jxhBmgH8IMgNzmtIH3lluk44933riawh4ba2InPqD8jd7ROzrR/ViTHR83DOv4+LRp7E8B+mCZCUDuSrSBd+lSKRRy3ri6c2fiwGAY1ube6irbp00Z9kGmvd35Pel7BAwIYQZAbhpMkby6OuuItUMBvff1NRlmj+1zCVsQSIlnfOh7BAwIYQZAbhroLEeiECTrlNIJej/ueufusMzyivjNxdEXGslrw9D3CBgQ9swAyE2pzHJENgi3tkqffmobghIetTYlqfe01PTpVnDpG4bclvmPdOJOdnzcy2J5gA8xMwMgN7mdvfjoo9gu2tdcE/N0wj5Kzz0fmzkGW+afvkfAgFA0D0BuclMkr6hI2rXL9uV/0XCN0F9sn4vuibnpJquwnd1nD6bMv90JLIrlIQ+5/f5mmQlAbipwsezjwGkmZpO+oW/oTXefXVWVwmD7oe8RkBLCDIDcFVn2saszc/nl0pIlMbe7akHQ12ACSzKDDURAHmHPDIDcVlMjbd1qtQ/o20bg+OOjtxylbYlbENgFmSOOIGwAPsHMDIDcZzfL0btB2FULAjsPP8yyD+ATzMwAyEtGdZVtkFmuf7GCjGFYsy92J5PWrmUjLuAjzMwAyCuJ9v5GZ2MiNz38MBtxgQBgZgZAXrjuOucgY5ZXxC4r9a0LE1miuvhi5z5OADzFzAwA7w22LksSjiEmssoU3ur+8zM8VgCpI8wA8JZdgbjycqtGzCD3pTiFmOOOswr/Rrk9Bp3BsQIYOJaZAHinrs4qate/F1JLi3W9rm5Ab2sYCWZjVtfqo39vcOyIne2xAhg82hkA8Eak3YBTZ+tIU8XGRtfLOC+8IJ12mv1zZnnFwGdUMjDWlLG8hTzk9vs7MDMz999/v8aNG6dDDz1UEyZM0MaNG70eEoDB2LjRORxI1oaW5mbrPhcMwz7IdK1ZJ9MYMrgZlTSPNWV1dbHNMKurrd+ZDQIkBSTMPP7441qwYIFuvPFGvfXWW5o8ebLOPvtsNTU1eT00AAPV2pqW+xIuKR0Ia9i1V9k3moxcW7BA6u6WGhqk2lrrZ/8lqDSNdUBY3gKSCkSYWbFihS677DJdfvnl+vrXv6577rlHFRUVeuCBB7weGgC3wuHYwHDkke5e11upt7+EIcbszSpuZ1TKyxPPejiMwe1YBywctjYcJwtjqe7/AXKM78NMd3e33nzzTU2dOjXm+tSpU/XKK6/Yvqarq0udnZ0xDwAeslsmmT3bqrDrlEgMQ6qosPaG9LFrl4sQE+F2pmTHjtjf+896TJ5sBZ4UxzpoXi9vAQHh+zCzc+dOhcNhlZSUxFwvKSlRW1ub7WuWL1+uwsLC6KOioiIbQwVgJ9Eyya5d1hdy/5AQ+f2ee2I2uRqGVFwc/xEffmg/eTHgmZL+sx4FBdZm4b5jSzLWtPByeQsIEN+HmQij3/+AmKYZdy1i8eLF6ujoiD6am5uzMUQA/SVbJon0Pyori32ubwVeJV9S6tMAO1ayGZVE+s961NRYY7Lr1dRnrGnl1fIWEDC+L5pXXFysgoKCuFmY9vb2uNmaiFAopFAolI3hAfnJ7TFhN8sku3ZJzz1nvb7f+yXso+SmqERkRmX6dCvQDKQSRd9Zj5qa7PZqioSxlhb7sUeOhKd7eQsIGN/PzAwbNkwTJkzQhg0bYq5v2LBBkyZN8mhUQB5L5Ziw2+WP9vaY/kfmEOcgYx4Ip5ZJnGZUxoxx93ovZz28Wt4CAsb3YUaSFi5cqJ///Of6xS9+offff1/XXHONmpqadMUVV3g9NCC/pHpMeADLJIYhDbH5X6Zf6IdWM8iB1FepqZG2bpXq66XVq62f27alvqnXi3ovXixvAQETmArA999/v+644w61trZq/PjxWrlypb7zne+4ei0VgIE0GEgV3MhrnJZJJOve2loZF81w/OiYjtaR8JGOL/JIOJNix2f3GZF7+/850jmeRKgAjDzk9vs7MGFmMAgzQBo0NFgzEcnU18c2bXQKAb2u1L/pPl1p+1xMiOkrne0D7JpHVlRYyzeRcOKHdgZAHsq5dgYAPDbQY8I1NdITT9h+yRsybYOMWd/gHGSkgyeNli61r9ibCrslqMbG2FkW6r0AvkaYAeDOYI4JFxfHBA5DpgzFz9R8v7rdmsBxG5xuuy09+1YKCmI2IMcFL+q9AL5GmAHgzmCq4PZ+yTuFGMlaUloz53nrl1RPEGW6TxH1XgBfI8wAcGcQx4R/s/VvEoaY6JJSJAykWuwu032KvGpnAMAVwgwA95yOCRcXS48/bnuaxzCkc27427jrPX1DTP8wkCg4OcnkvhXqvQC+RpgBkJqaGmnlytiiczt2SAsXxizzJGxBIOPg9l6nMOAUnJLJ1L4V6r0AvsXRbCBXZaouSZJ6K4bZ4/hSc62LY9D9Rf4czz9vbfhNpv/R8HSj3guQNdSZ6YMwg7xjVzulvNxaKhnMDEKCeivbdJQqZH98OeZ/ZQYaBpIV4KPWC5Bz3H5/+77RJIAUOc2cRE78OC2JuAkZDvVWnDb37thhbaeJETkGbSfRGBI1jWTfCpDX2DMD5JJw2JqRsZu5SHTix23PoX77URIetTal4tFhq6hdbW3y4nZuxsC+FQA2WGYCcslAWg6k0nOo9/2dAozU24Kgvl767DP3S12p9j1i3wqQF9gz0wdhBjkv8uW+dq10333J71+92qp2m2LPoQNdYQ091D40RI9ZFxVJV14p3Xqru3BC3yMADujNBOSKcJKlmr7LM26CjHSwOF0KPYcMQ7ZBZqO+HdtH6bPPpFtucb/URd8jAIPEBmDAz5KdSkrSkTpOZJYjUpzORU0WQ6bksHKVsBmkk77hpKpKeuYZd6+j7xEAB8zMAH4VCSr9Zy36nkpy2uxrx+7ET4JeQtP0dMLNveaTT9kcVUpBS4tVO+aRR9zd77bvUbKZLAA5hz0zgB+52UdSXGydfXbLrjidQ+2WRCFGUuozQnaKi6WdO93dO2aMNTOTbM9MpurrAPAEe2aAIHOzj8RtkJk/3zpd1NgY/4Xer+eQ01HrpUv75JZEx79T4TbISNL/+T/ugkyimaxMddQG4Dn2zAB+lM79IRdemLi8f01N4hYE/TNLsqCVCdOmJX4+WX0dw7A2HU+bxokoIAcxMwP4kdv9IcXFzt0c+3eitrFmTYJmkAfC9pMv2dyI6+LPIIkTUUCeI8wAfjR5srXXI1lQuf/+g7/3f15KWN7fMKxSM/1FQ4zTDIbboDVYqbQocBuwOBEF5CTCDOBH/fayxOj7JT9jRsrl/Q3DPiOdoteso9Z2bQz6Sha00iWVFgVuA1a2ghiArOI0E+BndqdznE4lJSnvnyh7xNSLcWoh0H9c06f3vjiFo+GmKR1xhFVYz+l1RUXSE09Y+3zc7m+hozaQk2hn0AdhBoE2yD5EH34o/fVf2z/nWPTOzZd/oqAlJX7OLgi5CVGJOAWswb4vAM8QZvogzCBnJQk6TrMx+373kg47e0ry9+/bkDLVz0/0nNsZp1Rl6n0BeMLt9zdHs4GgSlAgzrjQ+YvbNCXVtrj7jGQbZgsKnMNOoudqaqxj0unufJ2p9wXga4QZIIgcKvAa25qlC+1fEnNrJjfMul0Wi4SdyP1PPJGe8JEoRAHISZxmAoLGpkDcFwol7qPU/ym3R7+T1Xfpr28H71mzrJ+JTkelej8A2CDMAEHTr0CcIVPD9UXcbR9ceZ/zQSO3R79TmSFJtZ0A7QcApAlhBgia3n0sTn2UJOuU0ld/fr00b54VSrq742+qqUm5Ro2jZO0EJKudQKSDdar3A0AChBkgYK58cnLCEBM9br1/v1Uh+JprpMMOk66/Pv4FNTXS1q3WqaXVq50bUiaTajsB2g8ASCM2AAMBYq0Alcddd6wXExEOS3feaf3zHXfEPpeODbOpthOg/QCANGJmBggApxYEv9XZyYNMXytW2C85DVaqp6NoPwAgjQgzgI85hRhJMo8o1tl6NrU3DIcPNqdMp1RPR2XqNBWAvORpmKmsrJRhGDGPf/mXf4m5p6mpSeeee65GjBih4uJiXXXVVerOxP+zBHzkuecShJjIUeuHHx7Ym3/yyYDH5SjV01GZOE0FIG95PjNz6623qrW1Nfq46aabos+Fw2F973vf0759+/Tyyy9rzZo1Wrt2rRYtWuThiIHMMgzpjDPir5sHwjLrG6TaWqmhwap0u3atNcORimOPTccw46V6Oiqdp6kA5DXPNwCPHDlSpaWlts+tX79e7733npqbm1VWViZJuvvuuzV79mwtW7aMPkvIKU4zMQ8+KP3TmDqp0r51gbZutU79NDdLs2dLPT3OH1JQIM2dm85hx0q1nQDtBwCkgaeNJisrK9XV1aXu7m5VVFRoxowZuu666zRs2DBJ0s0336xnnnlGf/jDH6Kv2b17t4qKivTCCy+ourra9n27urrU1dUV/b2zs1MVFRU0msTADbJzdSJOIUbqXU5yaF1g2w36+usPnlqyc9118aeZAMCnAtFo8uqrr9bJJ5+s0aNH6/XXX9fixYvV2Nion//855KktrY2lZSUxLxm9OjRGjZsmNra2hzfd/ny5brlllsyOnbkkQQNHQezFNLYKP3VX9k/F80tyYrLGYZVXG7aNCtcRYLKihWxBeeGDJFmzJCWLx/weBPKYNgDgKTMNFuyZIkpKeFj06ZNtq996qmnTEnmzp07TdM0zTlz5phTp06Nu2/o0KFmbW2t4xi++OILs6OjI/pobm42JZkdHR3p+UMif6xda5qGEdlze/BhGNZj7doBvW3/t4s8Dhzod2N9vfPNfR/19bGv6+oyzdmzTXPEiNj7yssHPGZHa9da79v3c4qLTfOJJ9L7OQDyTkdHh6vv77TPzMyfP18zZ85MeE9lZaXt9VNPPVWS9PHHH+uII45QaWmpfv/738fcs3v3bn355ZdxMzZ9hUIhhUKh1AYO9JfqrIgLTktK//AP0mOP2Twx0OJy/+//WW/Yf+yRvkfp2mDrtAS2c6d00UUsawHIirSHmeLiYhUXFw/otW+99ZYkaWxvoayJEydq2bJlam1tjV5bv369QqGQJkyYkJ4BA05SKbmfpILujBlWfrB9m/qG3noqNoFoIMXlMhDCbCX6nIg775T+/u+twAMAGeLZnplXX31Vr732mqqrq1VYWKhNmzbpmmuu0Xnnnaejjz5akjR16lSdcMIJuuSSS3TnnXfqs88+07XXXqs5c+awkReZl4aS+198IQ0fbv9ctHJvtZz34ESKy7W02IcGw7CONofD1pHtsWOtf05TCEsoWdiLmDtXuuAC9tAAyBjP6syEQiE9/vjjqqqq0gknnKCbb75Zc+bMUW1tbfSegoIC/eY3v9Ghhx6qb33rW7rooot0/vnn66677vJq2Mgngyy5bxj2QeZzHR7fgiCy/FNXF3s9WXE507QaSp5+ujRrllRdbS3vuDHYvkduX79jBw0jAWSUp0ezs8Xt0S4gRjgsVVYmnhUpL7eOJfWZdXDaF/OtSaZe/mCMtGuX/Q0O7yfJ/kTVEUc4v5cb9fWDm5lpaLDCkxurV0sXXzzwzwKQl9x+f3teARjwrRRL7j/0UOIWBC+f+ePE4aPv8k9/NTVWcbz6eisYPPecdOihKf1xYsaejr5HkydLbvfH0TASQAYRZoBEXJTcj+ypveKK+JdH+yiFwweDUTJ2yzf967hI1oxRqtLZ96igwF3TShpGAsgwz9sZAL6XoOS+00zMJ5/0K4i3caP02WfuPq//LIbdElNRkbv3KiqK/dzycivIpKvv0YwZ1vFrp6rDhkHDSAAZR5gB3CgoiNlf4hRiDj9c2r3b5gm3m2WPOCJ2FsOpjovbYPTEE9bYM1mZ9447rOPXc+dam30jKirSG5wAwAFhBkjBiy8675lNuJXe7Z6Rq646GDbc1HFJ5rPPrNmTTJs+3Tp+TUsDAB7gNBPgUqLNvUklOxklWbMyn356MACkclrISUWF/ekoAAgATjMBaWIY9kGmvj6FSZNEJ6MiLrnEmtmINIgcbB0Yyfl0FADkEMIM4OCyyxLPxrgq0RIOWzMstbXWZtzHH48/GRWZNbnnHmsmprLS2iuTruPM6QhFAOBj7JkB+mlvl5z6mKa0KGt3Cqm8XFq50qrP8swzVoCJzMRERKoBP/FE4lYGblHjBUCOY2YG6MMw7INMT88Agsz06fG9i1parHYDO3cm6DzZ+0ELF0orVhwcWP+BGoa1z8Zp+ihdxfEAwOcIM4Cc98U8++zBRtOuJetaLVnHmN00gxwzJnHRvocfPvgH6CudxfEAwOdYZkJee/RR6R//0f4580B4YEEgWTdp04ytx5JIa6vV08ihaJ8kK9TYLWdR4wVAniDMIC91dTm3Nop2tC4tln7wAytIpFIzJZ0bbiP7XfoV7YuRoEIxAOQD6swg7zgtGXVrqIbqgP2T5eXW0Wo3Mx1u68MUF1uNJ1PoyA0A+YQ6M0A/Tntl1xTNlSnDOchIB08Y1dUl/6DJk60gkmxjbqRJI/tdAGBQCDPIeS+8YOUDu3ZGZn2Dvv/ZA8nfJDJ7smBB/FHq/hIVyOsbVGbMSNqRGwCQHGEGOStyCum00+yfM02ltr8lcsLITUXdmhp3QaWmRtq61SonvHq19bOxkSADAClgAzByktMKT0eHFLPsOpCCcm4DkNuNuYk29wIAkmJmBjnl9NPtg8zy5dbEStz+sWT7W+ykEoAiQeXii62f7IEBgLRjZgY54d13pfHj7Z9LeF4vsr9l+vTkHxI5YURFXQDwFWZmEHiGYR9kovtikonsbykvT/whEieMAMCHCDMILKcWBH/+8wD6MvbdiLtggdVGoK/iYqvxIxtzAcB3CDMInKuusg8xl15qhZijjx7gG0f2t6xcKf3sZ1aAidixQ7rmGnd1ZgAAWcWeGQRGW5vz3tu01rGuq5O+//34N40UzqMGDAD4CjMzCATDsA8yrvfFuOWm47WbwnkAgKwhzMDXDj3UfknpzTfTHGIi3HS8dls4DwCQFYQZ+NLjj1shpqsr9vo3vmHliZNPztAHuy2Il87O2ACAQWHPDHylu1sKheyfy0p/d7cF8QZSORgAkBHMzMA3DMM+yITDWQoykvuO1xTOAwDfIMzAc1dcYZ8dXn/dCjFDsvlvaaQisFN6Mk0K5wGAz7DMBM+8/bZ00knx1+fMkR5+OPvjAQAEk2GaWZvA90xnZ6cKCwvV0dGhUXGdBpFtPT3OExue/9sYDkuVlc4nmiL9mRobmZ0BgAxz+/3NMhOyyjDsM8AXXyQIMuGw1NAg1dZaPzNZ44Wj2QAQOBkNM8uWLdOkSZN02GGH6fDDD7e9p6mpSeeee65GjBih4uJiXXXVVeru7o65Z8uWLZoyZYqGDx+uo446SrfeeqvyYEIppyxbZr8v5oUXrHzgdIJJdXXWTEl1tTRrlvWzsjJzbQU4mg0AgZPRPTPd3d2aMWOGJk6cqEceeSTu+XA4rO9973saM2aMXn75Ze3atUuXXnqpTNPUvffeK8maYjrjjDNUXV2tTZs26cMPP9Ts2bM1YsQILVq0KJPDRxr8+c9W9ujvjDOk9euTvLiuzmofkM22AhzNBoDAycqemVWrVmnBggX6/PPPY67/7ne/0znnnKPm5maVlZVJktasWaPZs2ervb1do0aN0gMPPKDFixfr008/Vaj3/77/5Cc/0b333qtt27bJcDpC2wd7Zrzh9Ffj6t84r/auRD63pcV+oOyZAYCsCcSemVdffVXjx4+PBhlJOvPMM9XV1aU333wzes+UKVOiQSZyz/bt27V161bb9+3q6lJnZ2fMA9lTXGwfZD7/PIUNvl7tXYkczZbi/xCR3zmaDQC+4mmYaWtrU0lJScy10aNHa9iwYWpra3O8J/J75J7+li9frsLCwuijoqIiA6NHf6tWWd/3u3bFXq+ttbJHYWEKb+bl3pWaGmsJ66ijYq+Xl9MxGwB8KOUws3TpUhmGkfDxxhtvuH4/u2Ui0zRjrve/J7Iy5rTEtHjxYnV0dEQfzc3NrseD1H32mRVifvjD2OvjxlkhZubMAbyp13tXamqkrVul+npp9WrrZ2MjQQYAfCjlDcDz58/XzCTfTpV2Oz5tlJaW6ve//33Mtd27d+vLL7+Mzr6UlpbGzcC0t7dLUtyMTUQoFIpZlkLmDGpfTCKRtgLJ9q5ksq1AQYFUVZW59wcApEXKYaa4uFjFxcVp+fCJEydq2bJlam1t1dje/4e9fv16hUIhTZgwIXrPDTfcoO7ubg0bNix6T1lZmevQhPSbOFF67bX46y0tUp8tUAMX2bsyfboVXPoGGvauAAD6yOiemaamJm3evFlNTU0Kh8PavHmzNm/erL1790qSpk6dqhNOOEGXXHKJ3nrrLT3//PO69tprNWfOnOiu5VmzZikUCmn27Nl65513tG7dOt1+++1auHChq5NMSK/f/c7KEv2DzIoVVt5IS5CJYO8KAMCFjB7Nnj17th577LG46/X19arqnb5vamrS3Llz9cILL2j48OGaNWuW7rrrrphloi1btmjevHl6/fXXNXr0aF1xxRW6+eabXYcZjmYP3v790mGH2T+X8cP94bB1aqm11dojM3kyMzIAkAfcfn/TmwlJOWXGnh7n5wAAGKxA1JmBv/3gB/Zh5f33rdkYggwAwA8IM4izaZMVVH7969jr11xjhZivfc2bcQEAYCejvZkQLOGwdIjDvxG5vxgJAAgqZmYgyZqJsQsy3d0EGQCAvxFm8tyNN9rvffmf/7FCzNCh2R+TwmGpocHqg9DQYP0OAIADlpny1CefSMcdF3/9ggukurrsjyeqrk66+urYJpPl5VYBPerKAABsEGbyjGlKQxzm4zxfTqqrsyr+9h9IS4t1nUJ5AAAbLDPlkaFD7YPM3r0+CDLhsDUjYzeQyLUFC1hyAgDEIczkgQcesPbFHDgQe/3pp62cMGKEJ8OKtXFj7NJSf6YpNTdb9wEA0AfLTDmsvV2yayx+4onS229nfzwJtbam9z4AQN4gzOQop+q8ni8nOentmp62+wAAeYNlphwzfrx9kPn0Ux8HGclqHlle7pzCDEOqqLDuAwCgD8JMjnj6aev7/t13Y68/8IAVYo480pNhuVdQYB2/luIDTeT3e+6hWzYAIA7LTAG3d680cmT89WHDpK6u7I9nUGpqrOPXdnVm7rmHY9kAAFuEmQBzWpHp6QlwR+uaGmnaNOvUUmurtUdm8mRmZAAAjggzAXT++dIzz8Rf//hj6dhjsz6c9CsokKqqvB4FACAg2DMTIO+9Z8249A8yN91k7YvJiSADAECKmJkJgHDYvqO15PMTSgAAZAEzMz43YYJ9kDlwgCADAIBEmPGtt96ylpT+939jr3/8sRVi2A8LAICFMOMznZ1SUZF08smx1//t39gXAwCAHcKMT5imNHu2VFgo7d598PrKldZzV17p2dAAAPA1NgD7QG2tNGtW7LXTT5eefZblJAAAkiHMeOiDD6SvfS3+emurVFqa/fEAABBELDN5YP9+6bjj4oPM889bS0oEGQAA3CPMZNnChdJhh0mffHLw2pIlVoj57ne9GxcAAEHFMlOW/OY30jnnxF6bMEF65RWrKSQAABgYwkyGNTVJxxwTf72xUaqszPpwAADIOSwzZUh3t/TNb8YHmWeesZaUCDIAAKQHYSYDfvxjKRSS3njj4LWrrrJCzHnneTcuAAByEctMadTQIFVXx16rrJTefdfa9AsAANKPMJMGn35qf5z6vfekr389++MBACCfsMw0CKYpnXVWfJD51a+s5wgyAABkXkbDzLJlyzRp0iQddthhOvzww23vMQwj7vHggw/G3LNlyxZNmTJFw4cP11FHHaVbb71VpmlmcuiurF4t/fd/H/z9kkuknh7pBz/wbkwAAOSbjC4zdXd3a8aMGZo4caIeeeQRx/seffRRnXXWWdHfCwsLo//c2dmpM844Q9XV1dq0aZM+/PBDzZ49WyNGjNCiRYsyOfykvvpVacwYqavLOoLdZ9gAACBLMhpmbrnlFknSqlWrEt53+OGHq9Shhv+vf/1rffHFF1q1apVCoZDGjx+vDz/8UCtWrNDChQtlGEa6h+3aN78ptbd79vEAAEA+2TMzf/58FRcX65vf/KYefPBB9fT0RJ979dVXNWXKFIVCoei1M888U9u3b9fWrVtt36+rq0udnZ0xDwAAkJs8DzM//vGP9eSTT+q5557TzJkztWjRIt1+++3R59va2lRSUhLzmsjvbW1ttu+5fPlyFRYWRh8VFRWZ+wMAAABPpRxmli5dartpt+/jjb7V4pK46aabNHHiRP3d3/2dFi1apFtvvVV33nlnzD39l5Iim3+dlpgWL16sjo6O6KO5uTnFPyUAAAiKlPfMzJ8/XzNnzkx4T+UgavWfeuqp6uzs1KeffqqSkhKVlpbGzcC0925U6T9jExEKhWKWpQAAQO5KOcwUFxeruLg4E2ORJL311ls69NBDo0e5J06cqBtuuEHd3d0a1tteev369SorKxtUaAIAALkho6eZmpqa9Nlnn6mpqUnhcFibN2+WJB133HH6yle+ov/6r/9SW1ubJk6cqOHDh6u+vl433nijfvSjH0VnVmbNmqVbbrlFs2fP1g033KCPPvpIt99+u26++WZPTzIBAAB/MMwMVp+bPXu2Hnvssbjr9fX1qqqq0rPPPqvFixfr448/Vk9Pj/7qr/5Kl19+uebNm6dDDjmYs7Zs2aJ58+bp9ddf1+jRo3XFFVekFGY6OztVWFiojo4OjRo1Km1/PgAAkDluv78zGmb8gjADAEDwuP3+9vxoNgAAwGAQZgAAQKARZgAAQKARZgAAQKARZgAAQKARZgAAQKARZgAAQKARZgAAQKARZgAAQKARZgAAQKARZgAAQKARZgAAQKARZgAAQKARZgAAQKARZgAAQKARZgAAQKAd4vUAkEA4LG3cKLW2SmPHSpMnSwUFXo8KAABfIcz4VV2ddPXV0rZtB6+Vl0v/+q9STY134wIAwGdYZvKjujpp+vTYICNJLS3W9bo6b8YFAIAPEWb8Jhy2ZmRMM/65yLUFC6z7AAAAYcZ3Nm6Mn5HpyzSl5mbrPgAAQJjxndbW9N4HAECOI8z4zdix6b0PAIAcR5jxm8mTrVNLhmH/vGFIFRXWfQAAgDDjOwUF1vFrKT7QRH6/5x7qzQAA0Isw40c1NdJTT0lHHRV7vbzcuk6dGQAAoiiaNxiZrNBbUyNNm0YFYAAAkiDMDFQ2KvQWFEhVVel5LwAAchTLTANBhV4AAHyDMJMqKvQCAOArhJlUUaEXAABfIcykigq9AAD4ChuAU+Vlhd5Mnp4CACCgMjYzs3XrVl122WUaN26chg8frmOPPVZLlixRd3d3zH1NTU0699xzNWLECBUXF+uqq66Ku2fLli2aMmWKhg8frqOOOkq33nqrTLs9K9ngVYXeujqpslKqrpZmzbJ+Vlay2RgAkPcyNjPzxz/+UT09PXrooYd03HHH6Z133tGcOXO0b98+3XXXXZKkcDis733vexozZoxefvll7dq1S5deeqlM09S9994rSers7NQZZ5yh6upqbdq0SR9++KFmz56tESNGaNGiRZkavrNIhd7p063g0jdUZapCb+T0VP8AFzk9RSE9AEA+M7PojjvuMMeNGxf9/be//a05ZMgQs6WlJXqttrbWDIVCZkdHh2mapnn//febhYWF5hdffBG9Z/ny5WZZWZnZ09Pj6nM7OjpMSdH3TIu1a02zvNw0rYhhPSoqrOvpdOBA/Of0fRiG9bkHDqT3cwEA8Jjb7++sbgDu6OhQUVFR9PdXX31V48ePV1lZWfTamWeeqa6uLr355pvRe6ZMmaJQKBRzz/bt27V169asjT1OTY20datUXy+tXm39bGxM/wwJp6cAAEgoaxuAP/nkE9177726++67o9fa2tpUUlISc9/o0aM1bNgwtbW1Re+prKyMuSfymra2No0bNy7us7q6utTV1RX9vbOzM11/jFjZqNDL6SkAABJKeWZm6dKlMgwj4eONN96Iec327dt11llnacaMGbr88stjnjNsNtKaphlzvf89Zu/eEbvXStLy5ctVWFgYfVRUVKT6x/QPL09PAQAQACnPzMyfP18zZ85MeE/fmZTt27erurpaEydO1MMPPxxzX2lpqX7/+9/HXNu9e7e+/PLL6OxLaWlpdJYmor29XZLiZnUiFi9erIULF0Z/7+zsDG6giZyeammxrzpsGNbz6T49BQBAQKQcZoqLi1VcXOzq3paWFlVXV2vChAl69NFHNWRI7ETQxIkTtWzZMrW2tmps78zC+vXrFQqFNGHChOg9N9xwg7q7uzVs2LDoPWVlZXHLTxGhUChmj02geXF6CgCAAMnYBuDt27erqqpKFRUVuuuuu7Rjxw61tbXFzLJMnTpVJ5xwgi655BK99dZbev7553Xttddqzpw5GjVqlCRp1qxZCoVCmj17tt555x2tW7dOt99+uxYuXOi4zJRzamqs49dHHRV7vbycY9kAgLxnmGZmqs+tWrVKP/zhD22f6/uRTU1Nmjt3rl544QUNHz5cs2bN0l133RUzs7JlyxbNmzdPr7/+ukaPHq0rrrhCN998s+sw09nZqcLCQnV0dERDUiBRARgAkEfcfn9nLMz4Sc6EGQAA8ojb728aTQIAgEAjzAAAgEAjzAAAgEAjzAAAgEAjzAAAgEAjzAAAgEAjzAAAgEAjzAAAgEAjzAAAgEBLudFkEEWKHHd2dno8EgAA4FbkeztZs4K8CDN79uyRJFVUVHg8EgAAkKo9e/aosLDQ8fm86M3U09Oj7du3a+TIkTnTabuzs1MVFRVqbm6m35QP8PfhP/yd+At/H/4ThL8T0zS1Z88elZWVacgQ550xeTEzM2TIEJWXl3s9jIwYNWqUb/8lzEf8ffgPfyf+wt+H//j97yTRjEwEG4ABAECgEWYAAECgEWYCKhQKacmSJQqFQl4PBeLvw4/4O/EX/j78J5f+TvJiAzAAAMhdzMwAAIBAI8wAAIBAI8wAAIBAI8wAAIBAI8wE3NatW3XZZZdp3LhxGj58uI499lgtWbJE3d3dXg8try1btkyTJk3SYYcdpsMPP9zr4eSd+++/X+PGjdOhhx6qCRMmaOPGjV4PKW+99NJLOvfcc1VWVibDMPT00097PaS8tnz5cn3zm9/UyJEjdeSRR+r888/XBx984PWwBo0wE3B//OMf1dPTo4ceekjvvvuuVq5cqQcffFA33HCD10PLa93d3ZoxY4b++Z//2euh5J3HH39cCxYs0I033qi33npLkydP1tlnn62mpiavh5aX9u3bp5NOOkn33Xef10OBpBdffFHz5s3Ta6+9pg0bNujAgQOaOnWq9u3b5/XQBoWj2Tnozjvv1AMPPKA//elPXg8l761atUoLFizQ559/7vVQ8sYpp5yik08+WQ888ED02te//nWdf/75Wr58uYcjg2EYWrdunc4//3yvh4JeO3bs0JFHHqkXX3xR3/nOd7wezoAxM5ODOjo6VFRU5PUwgKzr7u7Wm2++qalTp8Zcnzp1ql555RWPRgX4V0dHhyQF/juDMJNjPvnkE91777264oorvB4KkHU7d+5UOBxWSUlJzPWSkhK1tbV5NCrAn0zT1MKFC/Xtb39b48eP93o4g0KY8amlS5fKMIyEjzfeeCPmNdu3b9dZZ52lGTNm6PLLL/do5LlrIH8n8IZhGDG/m6YZdw3Id/Pnz9fbb7+t2tpar4cyaId4PQDYmz9/vmbOnJnwnsrKyug/b9++XdXV1Zo4caIefvjhDI8uP6X6d4LsKy4uVkFBQdwsTHt7e9xsDZDPrrzySv3nf/6nXnrpJZWXl3s9nEEjzPhUcXGxiouLXd3b0tKi6upqTZgwQY8++qiGDGHCLRNS+TuBN4YNG6YJEyZow4YNuuCCC6LXN2zYoGnTpnk4MsAfTNPUlVdeqXXr1qmhoUHjxo3zekhpQZgJuO3bt6uqqkpHH3207rrrLu3YsSP6XGlpqYcjy29NTU367LPP1NTUpHA4rM2bN0uSjjvuOH3lK1/xdnA5buHChbrkkkv0jW98IzpT2dTUxD4yj+zdu1cff/xx9PfGxkZt3rxZRUVFOvrooz0cWX6aN2+eVq9erWeeeUYjR46MzmIWFhZq+PDhHo9uEEwE2qOPPmpKsn3AO5deeqnt30l9fb3XQ8sLP/vZz8xjjjnGHDZsmHnyySebL774otdDylv19fW2/1249NJLvR5aXnL6vnj00Ue9HtqgUGcGAAAEGpsrAABAoBFmAABAoBFmAABAoBFmAABAoBFmAABAoBFmAABAoBFmAABAoBFmAABAoBFmAABAoBFmAABAoBFmAABAoBFmAABAoP1/b66LV1bJYZ8AAAAASUVORK5CYII=",
      "text/plain": [
       "<Figure size 640x480 with 1 Axes>"
      ]
     },
     "metadata": {},
     "output_type": "display_data"
    }
   ],
   "source": [
    "        \n",
    "# plot\n",
    "predicted = model(X).detach()  ## tensor grads are not tracked one of the methods\n",
    "                                ## new tensor with autogard   False\n",
    "     \n",
    "plt.plot(X_numpy, y_numpy,'ro')\n",
    "plt.plot(X_numpy, predicted,'b')    \n",
    "plt.show()"
   ]
  },
  {
   "attachments": {},
   "cell_type": "markdown",
   "metadata": {},
   "source": [
    "## Logestic Regression"
   ]
  },
  {
   "cell_type": "code",
   "execution_count": 165,
   "metadata": {},
   "outputs": [],
   "source": [
    "import torch.nn as nn\n",
    "import torch\n",
    "import numpy as np\n",
    "from sklearn import datasets\n",
    "import matplotlib.pyplot as plt\n",
    "from sklearn.preprocessing import StandardScaler\n",
    "from sklearn.model_selection import train_test_split"
   ]
  },
  {
   "cell_type": "code",
   "execution_count": 178,
   "metadata": {},
   "outputs": [
    {
     "name": "stdout",
     "output_type": "stream",
     "text": [
      "569 30\n"
     ]
    }
   ],
   "source": [
    "## prepare data\n",
    "\n",
    "bc = datasets.load_breast_cancer()\n",
    "X, y = bc.data, bc.target\n",
    "\n",
    "n_samples, n_features = X.shape\n",
    "print(n_samples, n_features)\n",
    "\n",
    "X_train, X_test, y_train, y_test = train_test_split(X,y, test_size=0.2, random_state=123)\n",
    "\n",
    "## scaling the features\n",
    "sc = StandardScaler()\n",
    "X_train = sc.fit_transform(X_train)\n",
    "X_test = sc.transform(X_test)\n",
    "\n",
    "## convert to torch tensors\n",
    "X_train = torch.from_numpy(X_train.astype(np.float32))\n",
    "X_test = torch.from_numpy(X_test.astype(np.float32))\n",
    "y_train = torch.from_numpy(y_train.astype(np.float32))\n",
    "y_test = torch.from_numpy(y_test.astype(np.float32))\n",
    "\n",
    "# reshape y\n",
    "y_train = y_train.view(y_train.shape[0],1)\n",
    "y_test = y_test.view(y_test.shape[0],1)\n",
    "\n",
    "input_size = n_features\n",
    "output_size = 1\n",
    "\n"
   ]
  },
  {
   "cell_type": "code",
   "execution_count": 179,
   "metadata": {},
   "outputs": [
    {
     "name": "stdout",
     "output_type": "stream",
     "text": [
      "torch.Size([455, 30])\n",
      "torch.Size([455, 1])\n"
     ]
    }
   ],
   "source": [
    "print(X_train.shape)\n",
    "print(y_train.shape)"
   ]
  },
  {
   "cell_type": "code",
   "execution_count": 180,
   "metadata": {},
   "outputs": [],
   "source": [
    "## model\n",
    "\n",
    "class LogesticRegression(nn.Module):\n",
    "    def __init__(self,n_input_features):\n",
    "        super(LogesticRegression,self).__init__()\n",
    "        self.linear = nn.Linear(n_input_features, 1)\n",
    "        \n",
    "    def forward(self, X):\n",
    "        y_pred = torch.sigmoid(self.linear(X))\n",
    "        return y_pred\n",
    "\n",
    "model = LogesticRegression(n_features)"
   ]
  },
  {
   "cell_type": "code",
   "execution_count": 181,
   "metadata": {},
   "outputs": [],
   "source": [
    "## loss and optimzer\n",
    "learning_rate = 0.01\n",
    "\n",
    "\n",
    "criterion = nn.BCELoss()\n",
    "optimzer = torch.optim.SGD(model.parameters(), lr=learning_rate)"
   ]
  },
  {
   "cell_type": "code",
   "execution_count": 182,
   "metadata": {},
   "outputs": [
    {
     "data": {
      "text/plain": [
       "torch.Size([455, 30])"
      ]
     },
     "execution_count": 182,
     "metadata": {},
     "output_type": "execute_result"
    }
   ],
   "source": [
    "X_train.shape"
   ]
  },
  {
   "cell_type": "code",
   "execution_count": 183,
   "metadata": {},
   "outputs": [
    {
     "name": "stdout",
     "output_type": "stream",
     "text": [
      "epoch 100 : loss : 0.6884\n",
      "epoch 100 : loss : 0.6689\n",
      "epoch 100 : loss : 0.6505\n",
      "epoch 100 : loss : 0.6332\n",
      "epoch 100 : loss : 0.6170\n",
      "epoch 100 : loss : 0.6017\n",
      "epoch 100 : loss : 0.5872\n",
      "epoch 100 : loss : 0.5736\n",
      "epoch 100 : loss : 0.5608\n",
      "epoch 100 : loss : 0.5487\n",
      "epoch 100 : loss : 0.5372\n",
      "epoch 100 : loss : 0.5263\n",
      "epoch 100 : loss : 0.5160\n",
      "epoch 100 : loss : 0.5062\n",
      "epoch 100 : loss : 0.4969\n",
      "epoch 100 : loss : 0.4881\n",
      "epoch 100 : loss : 0.4796\n",
      "epoch 100 : loss : 0.4716\n",
      "epoch 100 : loss : 0.4639\n",
      "epoch 100 : loss : 0.4565\n",
      "epoch 100 : loss : 0.4495\n",
      "epoch 100 : loss : 0.4427\n",
      "epoch 100 : loss : 0.4362\n",
      "epoch 100 : loss : 0.4300\n",
      "epoch 100 : loss : 0.4241\n",
      "epoch 100 : loss : 0.4183\n",
      "epoch 100 : loss : 0.4128\n",
      "epoch 100 : loss : 0.4075\n",
      "epoch 100 : loss : 0.4024\n",
      "epoch 100 : loss : 0.3974\n",
      "epoch 100 : loss : 0.3926\n",
      "epoch 100 : loss : 0.3880\n",
      "epoch 100 : loss : 0.3836\n",
      "epoch 100 : loss : 0.3793\n",
      "epoch 100 : loss : 0.3751\n",
      "epoch 100 : loss : 0.3711\n",
      "epoch 100 : loss : 0.3672\n",
      "epoch 100 : loss : 0.3634\n",
      "epoch 100 : loss : 0.3597\n",
      "epoch 100 : loss : 0.3561\n",
      "epoch 100 : loss : 0.3527\n",
      "epoch 100 : loss : 0.3493\n",
      "epoch 100 : loss : 0.3460\n",
      "epoch 100 : loss : 0.3429\n",
      "epoch 100 : loss : 0.3398\n",
      "epoch 100 : loss : 0.3368\n",
      "epoch 100 : loss : 0.3338\n",
      "epoch 100 : loss : 0.3310\n",
      "epoch 100 : loss : 0.3282\n",
      "epoch 100 : loss : 0.3255\n",
      "epoch 100 : loss : 0.3229\n",
      "epoch 100 : loss : 0.3203\n",
      "epoch 100 : loss : 0.3178\n",
      "epoch 100 : loss : 0.3153\n",
      "epoch 100 : loss : 0.3129\n",
      "epoch 100 : loss : 0.3106\n",
      "epoch 100 : loss : 0.3083\n",
      "epoch 100 : loss : 0.3061\n",
      "epoch 100 : loss : 0.3039\n",
      "epoch 100 : loss : 0.3017\n",
      "epoch 100 : loss : 0.2997\n",
      "epoch 100 : loss : 0.2976\n",
      "epoch 100 : loss : 0.2956\n",
      "epoch 100 : loss : 0.2936\n",
      "epoch 100 : loss : 0.2917\n",
      "epoch 100 : loss : 0.2898\n",
      "epoch 100 : loss : 0.2880\n",
      "epoch 100 : loss : 0.2862\n",
      "epoch 100 : loss : 0.2844\n",
      "epoch 100 : loss : 0.2827\n",
      "epoch 100 : loss : 0.2810\n",
      "epoch 100 : loss : 0.2793\n",
      "epoch 100 : loss : 0.2777\n",
      "epoch 100 : loss : 0.2761\n",
      "epoch 100 : loss : 0.2745\n",
      "epoch 100 : loss : 0.2730\n",
      "epoch 100 : loss : 0.2714\n",
      "epoch 100 : loss : 0.2699\n",
      "epoch 100 : loss : 0.2685\n",
      "epoch 100 : loss : 0.2670\n",
      "epoch 100 : loss : 0.2656\n",
      "epoch 100 : loss : 0.2642\n",
      "epoch 100 : loss : 0.2629\n",
      "epoch 100 : loss : 0.2615\n",
      "epoch 100 : loss : 0.2602\n",
      "epoch 100 : loss : 0.2589\n",
      "epoch 100 : loss : 0.2576\n",
      "epoch 100 : loss : 0.2564\n",
      "epoch 100 : loss : 0.2551\n",
      "epoch 100 : loss : 0.2539\n",
      "epoch 100 : loss : 0.2527\n",
      "epoch 100 : loss : 0.2515\n",
      "epoch 100 : loss : 0.2503\n",
      "epoch 100 : loss : 0.2492\n",
      "epoch 100 : loss : 0.2481\n",
      "epoch 100 : loss : 0.2470\n",
      "epoch 100 : loss : 0.2459\n",
      "epoch 100 : loss : 0.2448\n",
      "epoch 100 : loss : 0.2437\n",
      "epoch 100 : loss : 0.2427\n"
     ]
    }
   ],
   "source": [
    "## training loop\n",
    "\n",
    "num_epochs = 100\n",
    "\n",
    "for epochs in range(num_epochs):\n",
    "    # forward pass\n",
    "    y_predicted = model(X_train)\n",
    "    loss = criterion(y_predicted, y_train)\n",
    "    \n",
    "    # backward pass\n",
    "    loss.backward()\n",
    "    \n",
    "    # computing weights\n",
    "    optimzer.step()\n",
    "    \n",
    "    # zero gradients\n",
    "    optimzer.zero_grad()\n",
    "    \n",
    "    if (epoch+1) % 10 == 0:\n",
    "        print(f'epoch {epoch+1} : loss : {loss.item():.4f}')\n"
   ]
  },
  {
   "cell_type": "code",
   "execution_count": 184,
   "metadata": {},
   "outputs": [
    {
     "name": "stdout",
     "output_type": "stream",
     "text": [
      "Accuray : 0.9649\n"
     ]
    }
   ],
   "source": [
    "with torch.no_grad():\n",
    "    y_predicted = model(X_test) ## used sigmoid function  can use softmax\n",
    "    y_predicted_cls = y_predicted.round()  ## >0.5 1 else 0\n",
    "    acc = y_predicted_cls.eq(y_test).sum()/ float(y_test.shape[0]) \n",
    "    print(f'Accuray : {acc:.4f}')"
   ]
  },
  {
   "attachments": {},
   "cell_type": "markdown",
   "metadata": {},
   "source": [
    "## Datasets and DataLoaders"
   ]
  },
  {
   "cell_type": "code",
   "execution_count": 6,
   "metadata": {},
   "outputs": [],
   "source": [
    "import pandas as pd\n",
    "url = 'https://raw.githubusercontent.com/patrickloeber/pytorchTutorial/master/data/wine/wine.csv'\n",
    "df = pd.read_csv(url,index_col=0,parse_dates=[0])"
   ]
  },
  {
   "cell_type": "code",
   "execution_count": 7,
   "metadata": {},
   "outputs": [],
   "source": [
    "df.to_csv('datasets/wine.csv')"
   ]
  },
  {
   "cell_type": "code",
   "execution_count": null,
   "metadata": {},
   "outputs": [],
   "source": [
    "## slow methods\n",
    "## on whole dataset and gradient on whole data set \n",
    "data = np.loadxt(\"\")\n",
    "# training loop \n",
    "for epoch in range(1000):\n",
    "    x,y = data\n",
    "    ## forward\n",
    "    ## backward\n",
    "    ## weight updates"
   ]
  },
  {
   "attachments": {},
   "cell_type": "markdown",
   "metadata": {},
   "source": [
    "Solution -  dividing dataset into small batches"
   ]
  },
  {
   "cell_type": "code",
   "execution_count": null,
   "metadata": {},
   "outputs": [],
   "source": [
    "## training loop\n",
    "\n",
    "for epoch in range(1000):\n",
    "    ## loop over all batches\n",
    "    for i in range(total_batches):\n",
    "        X_batch, y_batch = ..."
   ]
  },
  {
   "cell_type": "code",
   "execution_count": 9,
   "metadata": {},
   "outputs": [],
   "source": [
    "import torchvision\n",
    "from torch.utils.data import Dataset, DataLoader\n",
    "import math"
   ]
  },
  {
   "cell_type": "code",
   "execution_count": 19,
   "metadata": {},
   "outputs": [],
   "source": [
    "class WineDataset(Dataset):\n",
    "    def __init__(self):\n",
    "        ## data loading\n",
    "        xy = np.loadtxt('datasets/wine.csv',\n",
    "                        delimiter=\",\",\n",
    "                        dtype=np.float32,\n",
    "                        skiprows = 2\n",
    "                        )\n",
    "        self.x = torch.from_numpy(xy[:,1:])\n",
    "        self.y = torch.from_numpy(xy[:, [0]]) #n_samples, 1\n",
    "        self.n_samples = xy.shape[0]       \n",
    "        \n",
    "    def __getitem__(self, index):\n",
    "        return self.x[index], self.y[index]\n",
    "    \n",
    "    def __len__(self):\n",
    "        return self.n_samples\n",
    " "
   ]
  },
  {
   "cell_type": "code",
   "execution_count": 24,
   "metadata": {},
   "outputs": [],
   "source": [
    "dataset = WineDataset()\n",
    "dataloader = DataLoader(dataset = dataset, batch_size=4, shuffle=True)"
   ]
  },
  {
   "cell_type": "code",
   "execution_count": 25,
   "metadata": {},
   "outputs": [
    {
     "name": "stdout",
     "output_type": "stream",
     "text": [
      "tensor([[1.3200e+01, 1.7800e+00, 2.1400e+00, 1.1200e+01, 1.0000e+02, 2.6500e+00,\n",
      "         2.7600e+00, 2.6000e-01, 1.2800e+00, 4.3800e+00, 1.0500e+00, 3.4000e+00,\n",
      "         1.0500e+03],\n",
      "        [1.3110e+01, 1.9000e+00, 2.7500e+00, 2.5500e+01, 1.1600e+02, 2.2000e+00,\n",
      "         1.2800e+00, 2.6000e-01, 1.5600e+00, 7.1000e+00, 6.1000e-01, 1.3300e+00,\n",
      "         4.2500e+02],\n",
      "        [1.3480e+01, 1.8100e+00, 2.4100e+00, 2.0500e+01, 1.0000e+02, 2.7000e+00,\n",
      "         2.9800e+00, 2.6000e-01, 1.8600e+00, 5.1000e+00, 1.0400e+00, 3.4700e+00,\n",
      "         9.2000e+02],\n",
      "        [1.2690e+01, 1.5300e+00, 2.2600e+00, 2.0700e+01, 8.0000e+01, 1.3800e+00,\n",
      "         1.4600e+00, 5.8000e-01, 1.6200e+00, 3.0500e+00, 9.6000e-01, 2.0600e+00,\n",
      "         4.9500e+02]]) tensor([[1.],\n",
      "        [3.],\n",
      "        [1.],\n",
      "        [2.]])\n"
     ]
    }
   ],
   "source": [
    "\n",
    "dataiter = iter(dataloader)\n",
    "data = next(dataiter)\n",
    "features, labels = data\n",
    "print(features, labels)"
   ]
  },
  {
   "cell_type": "code",
   "execution_count": 28,
   "metadata": {},
   "outputs": [
    {
     "name": "stdout",
     "output_type": "stream",
     "text": [
      "177 45\n"
     ]
    }
   ],
   "source": [
    "## training loop\n",
    "\n",
    "num_epochs = 2\n",
    "total_samples = len(dataset)\n",
    "\n",
    "n_iterations = math.ceil(total_samples / 4)\n",
    "print(total_samples , n_iterations)"
   ]
  },
  {
   "cell_type": "code",
   "execution_count": 29,
   "metadata": {},
   "outputs": [
    {
     "name": "stdout",
     "output_type": "stream",
     "text": [
      "Epochs 1/2, steps : 5/45, inputs torch.Size([4, 13])\n",
      "Epochs 1/2, steps : 10/45, inputs torch.Size([4, 13])\n",
      "Epochs 1/2, steps : 15/45, inputs torch.Size([4, 13])\n",
      "Epochs 1/2, steps : 20/45, inputs torch.Size([4, 13])\n",
      "Epochs 1/2, steps : 25/45, inputs torch.Size([4, 13])\n",
      "Epochs 1/2, steps : 30/45, inputs torch.Size([4, 13])\n",
      "Epochs 1/2, steps : 35/45, inputs torch.Size([4, 13])\n",
      "Epochs 1/2, steps : 40/45, inputs torch.Size([4, 13])\n",
      "Epochs 1/2, steps : 45/45, inputs torch.Size([1, 13])\n",
      "Epochs 2/2, steps : 5/45, inputs torch.Size([4, 13])\n",
      "Epochs 2/2, steps : 10/45, inputs torch.Size([4, 13])\n",
      "Epochs 2/2, steps : 15/45, inputs torch.Size([4, 13])\n",
      "Epochs 2/2, steps : 20/45, inputs torch.Size([4, 13])\n",
      "Epochs 2/2, steps : 25/45, inputs torch.Size([4, 13])\n",
      "Epochs 2/2, steps : 30/45, inputs torch.Size([4, 13])\n",
      "Epochs 2/2, steps : 35/45, inputs torch.Size([4, 13])\n",
      "Epochs 2/2, steps : 40/45, inputs torch.Size([4, 13])\n",
      "Epochs 2/2, steps : 45/45, inputs torch.Size([1, 13])\n"
     ]
    }
   ],
   "source": [
    "for epoch in range(num_epochs):\n",
    "    for i,(input, labels) in enumerate(dataloader):\n",
    "        ## forward and backword pass\n",
    "        \n",
    "        if (i+1) % 5 == 0:\n",
    "            print(f\"Epochs {epoch+1}/{num_epochs}, steps : {i+1}/{n_iterations}, inputs {input.shape}\")"
   ]
  },
  {
   "cell_type": "code",
   "execution_count": null,
   "metadata": {},
   "outputs": [],
   "source": [
    "torchvision.datasets.MNIST()\n",
    "# fashionMNIST and more datasets"
   ]
  },
  {
   "attachments": {},
   "cell_type": "markdown",
   "metadata": {},
   "source": [
    "## Dataset Transforms"
   ]
  },
  {
   "attachments": {},
   "cell_type": "markdown",
   "metadata": {},
   "source": [
    "apply transform -> convert to tensors  \n",
    "eg: images, numpy and other available on offical docs  \n",
    "\n",
    "- using Lambda\n",
    "- custom classes\n",
    "- multiple classes"
   ]
  },
  {
   "cell_type": "code",
   "execution_count": 22,
   "metadata": {},
   "outputs": [
    {
     "name": "stdout",
     "output_type": "stream",
     "text": [
      "Downloading http://yann.lecun.com/exdb/mnist/train-images-idx3-ubyte.gz\n",
      "Downloading http://yann.lecun.com/exdb/mnist/train-images-idx3-ubyte.gz to ./datasets\\MNIST\\raw\\train-images-idx3-ubyte.gz\n"
     ]
    },
    {
     "data": {
      "application/vnd.jupyter.widget-view+json": {
       "model_id": "08653236cd6348d2a437cf7f47d614ef",
       "version_major": 2,
       "version_minor": 0
      },
      "text/plain": [
       "  0%|          | 0/9912422 [00:00<?, ?it/s]"
      ]
     },
     "metadata": {},
     "output_type": "display_data"
    },
    {
     "name": "stdout",
     "output_type": "stream",
     "text": [
      "Extracting ./datasets\\MNIST\\raw\\train-images-idx3-ubyte.gz to ./datasets\\MNIST\\raw\n",
      "\n",
      "Downloading http://yann.lecun.com/exdb/mnist/train-labels-idx1-ubyte.gz\n",
      "Downloading http://yann.lecun.com/exdb/mnist/train-labels-idx1-ubyte.gz to ./datasets\\MNIST\\raw\\train-labels-idx1-ubyte.gz\n"
     ]
    },
    {
     "data": {
      "application/vnd.jupyter.widget-view+json": {
       "model_id": "71553239936f475a888bc0bc23b386a8",
       "version_major": 2,
       "version_minor": 0
      },
      "text/plain": [
       "  0%|          | 0/28881 [00:00<?, ?it/s]"
      ]
     },
     "metadata": {},
     "output_type": "display_data"
    },
    {
     "name": "stdout",
     "output_type": "stream",
     "text": [
      "Extracting ./datasets\\MNIST\\raw\\train-labels-idx1-ubyte.gz to ./datasets\\MNIST\\raw\n",
      "\n",
      "Downloading http://yann.lecun.com/exdb/mnist/t10k-images-idx3-ubyte.gz\n",
      "Downloading http://yann.lecun.com/exdb/mnist/t10k-images-idx3-ubyte.gz to ./datasets\\MNIST\\raw\\t10k-images-idx3-ubyte.gz\n"
     ]
    },
    {
     "data": {
      "application/vnd.jupyter.widget-view+json": {
       "model_id": "922a3165677e45ab8e4c812c1011f7bf",
       "version_major": 2,
       "version_minor": 0
      },
      "text/plain": [
       "  0%|          | 0/1648877 [00:00<?, ?it/s]"
      ]
     },
     "metadata": {},
     "output_type": "display_data"
    },
    {
     "name": "stdout",
     "output_type": "stream",
     "text": [
      "Extracting ./datasets\\MNIST\\raw\\t10k-images-idx3-ubyte.gz to ./datasets\\MNIST\\raw\n",
      "\n",
      "Downloading http://yann.lecun.com/exdb/mnist/t10k-labels-idx1-ubyte.gz\n",
      "Downloading http://yann.lecun.com/exdb/mnist/t10k-labels-idx1-ubyte.gz to ./datasets\\MNIST\\raw\\t10k-labels-idx1-ubyte.gz\n"
     ]
    },
    {
     "data": {
      "application/vnd.jupyter.widget-view+json": {
       "model_id": "5e1ca3c17eed40f2889e520c326a3ae1",
       "version_major": 2,
       "version_minor": 0
      },
      "text/plain": [
       "  0%|          | 0/4542 [00:00<?, ?it/s]"
      ]
     },
     "metadata": {},
     "output_type": "display_data"
    },
    {
     "name": "stdout",
     "output_type": "stream",
     "text": [
      "Extracting ./datasets\\MNIST\\raw\\t10k-labels-idx1-ubyte.gz to ./datasets\\MNIST\\raw\n",
      "\n"
     ]
    }
   ],
   "source": [
    "dataset = torchvision.datasets.MNIST(root = './datasets', transform=torchvision.transforms.ToTensor(), download=True)"
   ]
  },
  {
   "cell_type": "code",
   "execution_count": 43,
   "metadata": {},
   "outputs": [],
   "source": [
    "class WineDataset(Dataset):\n",
    "    def __init__(self, transform=None):\n",
    "        ## data loading\n",
    "        xy = np.loadtxt('datasets/wine.csv',\n",
    "                        delimiter=\",\",\n",
    "                        dtype=np.float32,\n",
    "                        skiprows = 2\n",
    "                        )\n",
    "        # we dont need to convert to tensor array\n",
    "        self.x = xy[:,1:]\n",
    "        self.y = xy[:, [0]] #n_samples, 1\n",
    "        self.n_samples = xy.shape[0] \n",
    "        \n",
    "        self.transform = transform      \n",
    "        \n",
    "    def __getitem__(self, index):\n",
    "        sample =  self.x[index], self.y[index]\n",
    "        \n",
    "        if self.transform:\n",
    "            sample = self.transform(sample)\n",
    "            \n",
    "        return sample \n",
    "    \n",
    "    def __len__(self):\n",
    "        return self.n_samples\n",
    " "
   ]
  },
  {
   "cell_type": "code",
   "execution_count": 44,
   "metadata": {},
   "outputs": [],
   "source": [
    "class ToTensor:\n",
    "    def __call__(self,sample):\n",
    "        inputs, targets = sample\n",
    "        return torch.from_numpy(inputs), torch.from_numpy(targets)"
   ]
  },
  {
   "cell_type": "code",
   "execution_count": 45,
   "metadata": {},
   "outputs": [],
   "source": [
    "class MulTransform:\n",
    "    def __init__(self, factor):\n",
    "        self.factor = factor\n",
    "        \n",
    "    def __call__(self,sample):\n",
    "        inputs, target = sample\n",
    "        inputs *= self.factor\n",
    "        return inputs, target"
   ]
  },
  {
   "cell_type": "code",
   "execution_count": 46,
   "metadata": {},
   "outputs": [
    {
     "name": "stdout",
     "output_type": "stream",
     "text": [
      "<class 'numpy.ndarray'> <class 'numpy.ndarray'>\n"
     ]
    }
   ],
   "source": [
    "# without transform\n",
    "dataset = WineDataset()\n",
    "first_data = dataset[0]\n",
    "features, labels = first_data\n",
    "print(type(features), type(labels))"
   ]
  },
  {
   "cell_type": "code",
   "execution_count": 47,
   "metadata": {},
   "outputs": [
    {
     "name": "stdout",
     "output_type": "stream",
     "text": [
      "<class 'torch.Tensor'> <class 'torch.Tensor'>\n"
     ]
    }
   ],
   "source": [
    "# with transform\n",
    "dataset = WineDataset(transform=ToTensor())\n",
    "first_data = dataset[0]\n",
    "features, labels = first_data\n",
    "print(type(features), type(labels))"
   ]
  },
  {
   "cell_type": "code",
   "execution_count": 48,
   "metadata": {},
   "outputs": [
    {
     "name": "stdout",
     "output_type": "stream",
     "text": [
      "tensor([1.3200e+01, 1.7800e+00, 2.1400e+00, 1.1200e+01, 1.0000e+02, 2.6500e+00,\n",
      "        2.7600e+00, 2.6000e-01, 1.2800e+00, 4.3800e+00, 1.0500e+00, 3.4000e+00,\n",
      "        1.0500e+03])\n"
     ]
    }
   ],
   "source": [
    "print(features)"
   ]
  },
  {
   "cell_type": "code",
   "execution_count": 52,
   "metadata": {},
   "outputs": [
    {
     "name": "stdout",
     "output_type": "stream",
     "text": [
      "<class 'torch.Tensor'> <class 'torch.Tensor'>\n",
      "tensor([2.6400e+01, 3.5600e+00, 4.2800e+00, 2.2400e+01, 2.0000e+02, 5.3000e+00,\n",
      "        5.5200e+00, 5.2000e-01, 2.5600e+00, 8.7600e+00, 2.1000e+00, 6.8000e+00,\n",
      "        2.1000e+03])\n"
     ]
    }
   ],
   "source": [
    "## multiple transforms\n",
    "composed = torchvision.transforms.Compose([ToTensor(), MulTransform(2)])\n",
    "dataset = WineDataset(transform=composed)\n",
    "first_data = dataset[0]\n",
    "features, labels = first_data\n",
    "print(type(features), type(labels))\n",
    "print(features)"
   ]
  },
  {
   "attachments": {},
   "cell_type": "markdown",
   "metadata": {},
   "source": [
    "## Softmax and Crossentropy"
   ]
  },
  {
   "cell_type": "markdown",
   "metadata": {},
   "source": [
    "[Softmax and Cross Entropy](https://deepnotes.io/softmax-crossentropy)"
   ]
  },
  {
   "attachments": {},
   "cell_type": "markdown",
   "metadata": {},
   "source": [
    "![models](img\\Softmax-and-cross-entropy-loss-function.png)"
   ]
  },
  {
   "cell_type": "code",
   "execution_count": 57,
   "metadata": {},
   "outputs": [
    {
     "name": "stdout",
     "output_type": "stream",
     "text": [
      "Softmax output :  [0.94259941 0.04692926 0.01047133]\n"
     ]
    }
   ],
   "source": [
    "## softmax demo\n",
    "\n",
    "def softmax(x):\n",
    "    return np.exp(x)/ np.sum(np.exp(x), axis=0)\n",
    "\n",
    "x = np.array([5, 2, 0.5])\n",
    "outputs = softmax(x)\n",
    "print(\"Softmax output : \", outputs)"
   ]
  },
  {
   "cell_type": "code",
   "execution_count": 60,
   "metadata": {},
   "outputs": [
    {
     "name": "stdout",
     "output_type": "stream",
     "text": [
      "tensor([0.9426, 0.0469, 0.0105])\n"
     ]
    }
   ],
   "source": [
    "x = torch.tensor([5,2,0.5])\n",
    "outputs = torch.softmax(x, dim = 0)\n",
    "print(outputs)"
   ]
  },
  {
   "attachments": {},
   "cell_type": "markdown",
   "metadata": {},
   "source": [
    "![softmax](img\\Softmax.png)"
   ]
  },
  {
   "attachments": {},
   "cell_type": "markdown",
   "metadata": {},
   "source": [
    "1 .CrossEntropy layer applies LogSoftMax implicitly, so need to add softmax layer  \n",
    "    Directly apply CrossEntropy loss  \n",
    "    Y_pred has raw score not Softmax\n",
    "\n",
    "2. Y has class labels, not One hot encodings \n"
   ]
  },
  {
   "cell_type": "code",
   "execution_count": 64,
   "metadata": {},
   "outputs": [
    {
     "name": "stdout",
     "output_type": "stream",
     "text": [
      "Loss of good prediction :  0.48195124078826923\n",
      "Loss of bad prediction :  2.107994078088514\n"
     ]
    }
   ],
   "source": [
    "## cross entropy loss\n",
    "\n",
    "def cross_entropy(actual, expected):\n",
    "    loss = - np.sum(actual * np.log(expected))\n",
    "    return loss\n",
    "\n",
    "Y = np.array([0.9,0.1,0])\n",
    "#good prediction\n",
    "Y_pred_good = np.array([0.7, 0.2, 0.1])\n",
    "# bad prediction\n",
    "Y_pred_bad = np.array([0.1, 0.7, 0.6])\n",
    "\n",
    "l1 = cross_entropy(Y, Y_pred_good)\n",
    "l2 = cross_entropy(Y, Y_pred_bad)\n",
    "print(\"Loss of good prediction : \", l1)\n",
    "print(\"Loss of bad prediction : \", l2)"
   ]
  },
  {
   "cell_type": "code",
   "execution_count": 70,
   "metadata": {},
   "outputs": [
    {
     "name": "stdout",
     "output_type": "stream",
     "text": [
      "good prediction :  0.399801641702652\n",
      "bad prediction :  1.4969021081924438\n"
     ]
    }
   ],
   "source": [
    "## torch\n",
    "\n",
    "loss = nn.CrossEntropyLoss()\n",
    "# 3 samples\n",
    "Y = torch.tensor([2,0,1])\n",
    "\n",
    "'''\n",
    "    Y_pred has n_samples * n_classes\n",
    "    Eg :  3*3\n",
    "'''\n",
    "# good prediction\n",
    "Y_pred_good = torch.Tensor([[0.0, 1.0, 2.1],\n",
    "                            [2.0, 0.0, 0.1],\n",
    "                            [0.0, 1.0, 0.1],]) #not softmax values\n",
    "# bad prediction\n",
    "Y_pred_bad = torch.Tensor([[0.5, 2, 0.1],\n",
    "                           [1.0, 3.0, 0.1],\n",
    "                           [1.0, 4.0, 1.1],])\n",
    "\n",
    "l1 = loss(Y_pred_good, Y)\n",
    "l2 = loss(Y_pred_bad, Y)\n",
    "\n",
    "print(\"good prediction : \", l1.item())\n",
    "print(\"bad prediction : \", l2.item()) "
   ]
  },
  {
   "cell_type": "code",
   "execution_count": 71,
   "metadata": {},
   "outputs": [
    {
     "name": "stdout",
     "output_type": "stream",
     "text": [
      "tensor([2, 0, 1]) tensor([1, 1, 1])\n"
     ]
    }
   ],
   "source": [
    "_, predictions1 = torch.max(Y_pred_good, 1) # 1 is dimersion\n",
    "_, predictions2 = torch.max(Y_pred_bad, 1)\n",
    "\n",
    "print(predictions1, predictions2)"
   ]
  },
  {
   "attachments": {},
   "cell_type": "markdown",
   "metadata": {},
   "source": [
    "![crossentropy](img\\cross-entropy_1.png)"
   ]
  },
  {
   "cell_type": "code",
   "execution_count": 72,
   "metadata": {},
   "outputs": [],
   "source": [
    "## Complete implementation for Multiclass Classification\n",
    "\n",
    "class NeuralNetwork(nn.Module):\n",
    "    def __init__(self, input_size, hidden_size, num_classes):\n",
    "        super(NeuralNetwork, self).__init__()\n",
    "        self.linear1 = nn.Linear(input_size, hidden_size)\n",
    "        self.relu = nn.ReLU()\n",
    "        self.linear2 = nn.Linear(hidden_size, num_classes)\n",
    "        \n",
    "    def forward(self,x):\n",
    "        out = self.linear1(x)\n",
    "        out = self.relu(out)\n",
    "        out = self.linear2(out)\n",
    "        ## no need for softmax\n",
    "        return out"
   ]
  },
  {
   "cell_type": "code",
   "execution_count": 73,
   "metadata": {},
   "outputs": [],
   "source": [
    "model = NeuralNetwork(input_size=28*28, hidden_size=5, num_classes=3)\n",
    "criterion = nn.CrossEntropyLoss() # applies softmax"
   ]
  },
  {
   "cell_type": "code",
   "execution_count": 77,
   "metadata": {},
   "outputs": [],
   "source": [
    "## Complete implementation for Binary Classification\n",
    "# apply sigmiod\n",
    "     \n",
    "class NeuralNetwork(nn.Module):\n",
    "    def __init__(self, input_size, hidden_size):\n",
    "        super(NeuralNetwork, self).__init__()\n",
    "        self.linear1 = nn.Linear(input_size, hidden_size)\n",
    "        self.relu = nn.ReLU()\n",
    "        self.linear2 = nn.Linear(hidden_size, 1)\n",
    "        \n",
    "    def forward(self,x):\n",
    "        out = self.linear1(x)\n",
    "        out = self.relu(out)\n",
    "        out = self.linear2(out)\n",
    "        y_pred = torch.softmax(out)\n",
    "        ## no need for softmax\n",
    "        return y_pred"
   ]
  },
  {
   "cell_type": "code",
   "execution_count": 78,
   "metadata": {},
   "outputs": [],
   "source": [
    "model = NeuralNetwork(input_size=28*28, hidden_size=5)\n",
    "criterion = nn.BCELoss() "
   ]
  },
  {
   "attachments": {},
   "cell_type": "markdown",
   "metadata": {},
   "source": [
    "## Activation Functions"
   ]
  },
  {
   "attachments": {},
   "cell_type": "markdown",
   "metadata": {},
   "source": [
    "Activation function apply a nonlinear transformation and decide whether a neuron should be activated"
   ]
  },
  {
   "attachments": {},
   "cell_type": "markdown",
   "metadata": {},
   "source": [
    "- Step Function\n",
    "- Sigmoid\n",
    "- TanH\n",
    "- ReLU\n",
    "- LeakyRELU\n",
    "- Softmax"
   ]
  },
  {
   "attachments": {},
   "cell_type": "markdown",
   "metadata": {},
   "source": [
    "![activation](img\\activation.webp)"
   ]
  },
  {
   "attachments": {},
   "cell_type": "markdown",
   "metadata": {},
   "source": [
    "'''\n",
    "mostly APIs are present in NN\n",
    "but some are present in \n",
    "import torch.nn.functional as f\n",
    "'''"
   ]
  },
  {
   "attachments": {},
   "cell_type": "markdown",
   "metadata": {},
   "source": [
    "### Way 1"
   ]
  },
  {
   "cell_type": "code",
   "execution_count": 79,
   "metadata": {},
   "outputs": [],
   "source": [
    "class NeuralNetwork(nn.Module):\n",
    "    def __init__(self, input_size, hidden_size):\n",
    "        super(NeuralNetwork, self).__init__()\n",
    "        self.linear1 = nn.Linear(input_size, hidden_size)\n",
    "        self.relu = nn.ReLU()\n",
    "        self.linear2 = nn.Linear(hidden_size, 1)\n",
    "        self.sigmoid = nn.Sigmoid()\n",
    "        \n",
    "    def forward(self,x):\n",
    "        out = self.linear1(x)\n",
    "        out = self.relu(out)\n",
    "        out = self.linear2(out)\n",
    "        out = self.sigmoid(out)\n",
    "        return out"
   ]
  },
  {
   "attachments": {},
   "cell_type": "markdown",
   "metadata": {},
   "source": [
    "### Way 2"
   ]
  },
  {
   "cell_type": "code",
   "execution_count": 80,
   "metadata": {},
   "outputs": [],
   "source": [
    "class NeuralNetwork(nn.Module):\n",
    "    def __init__(self, input_size, hidden_size):\n",
    "        super(NeuralNetwork, self).__init__()\n",
    "        self.linear1 = nn.Linear(input_size, hidden_size)\n",
    "        self.linear2 = nn.Linear(hidden_size, 1)\n",
    "        \n",
    "    def forward(self,x):\n",
    "        out = torch.relu(self.linear1(x))\n",
    "        out = torch.sigmiod(self.linear2(out))\n",
    "        return out"
   ]
  },
  {
   "attachments": {},
   "cell_type": "markdown",
   "metadata": {},
   "source": [
    "## Feed Forward Net"
   ]
  },
  {
   "attachments": {},
   "cell_type": "markdown",
   "metadata": {},
   "source": [
    "putting everything together"
   ]
  },
  {
   "cell_type": "code",
   "execution_count": 81,
   "metadata": {},
   "outputs": [],
   "source": [
    "# mnist\n",
    "# Dataloaders and transformers\n",
    "# Multilayers Neural Network and activation functions\n",
    "# loss and optimzers\n",
    "# training loss\n",
    "# Model Evaluation\n",
    "# GPU Support"
   ]
  },
  {
   "cell_type": "code",
   "execution_count": 118,
   "metadata": {},
   "outputs": [],
   "source": [
    "import torch\n",
    "import torch.nn as nn\n",
    "import torchvision\n",
    "import torchvision.transforms as transforms\n",
    "import matplotlib.pyplot as plt"
   ]
  },
  {
   "cell_type": "code",
   "execution_count": 119,
   "metadata": {},
   "outputs": [
    {
     "data": {
      "text/plain": [
       "device(type='cuda')"
      ]
     },
     "execution_count": 119,
     "metadata": {},
     "output_type": "execute_result"
    }
   ],
   "source": [
    "## device configuration\n",
    "device = torch.device('cuda' if torch.cuda.is_available() else 'cpu')\n",
    "device"
   ]
  },
  {
   "cell_type": "code",
   "execution_count": 120,
   "metadata": {},
   "outputs": [],
   "source": [
    "## hyperparameters\n",
    "input_size = 784  #28*28\n",
    "hidden_size = 100\n",
    "num_class = 10\n",
    "num_epochs =2\n",
    "batch_size = 100\n",
    "learning_rate = 0.001"
   ]
  },
  {
   "cell_type": "code",
   "execution_count": 121,
   "metadata": {},
   "outputs": [],
   "source": [
    "## MNIST\n",
    "train_dataset = torchvision.datasets.MNIST(\n",
    "    root = './datasets', train = True, transform = transforms.ToTensor(), download = True\n",
    "    )\n",
    "\n",
    "test_dataset = torchvision.datasets.MNIST(\n",
    "    root = './datasets', train = False, transform = transforms.ToTensor()\n",
    "    )\n"
   ]
  },
  {
   "cell_type": "code",
   "execution_count": 122,
   "metadata": {},
   "outputs": [],
   "source": [
    "## loader\n",
    "\n",
    "train_loader = torch.utils.data.DataLoader( dataset=train_dataset, batch_size=batch_size,\n",
    "                                           shuffle=True)\n",
    "\n",
    "test_loader = torch.utils.data.DataLoader( dataset=test_dataset, batch_size=batch_size,\n",
    "                                           shuffle=False)"
   ]
  },
  {
   "cell_type": "code",
   "execution_count": 123,
   "metadata": {},
   "outputs": [
    {
     "name": "stdout",
     "output_type": "stream",
     "text": [
      "torch.Size([100, 1, 28, 28]) torch.Size([100])\n"
     ]
    }
   ],
   "source": [
    "## example\n",
    "examples = iter(train_loader)\n",
    "samples, labels = next(examples)\n",
    "print(samples.shape, labels.shape)"
   ]
  },
  {
   "cell_type": "code",
   "execution_count": 124,
   "metadata": {},
   "outputs": [
    {
     "data": {
      "image/png": "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",
      "text/plain": [
       "<Figure size 640x480 with 6 Axes>"
      ]
     },
     "metadata": {},
     "output_type": "display_data"
    }
   ],
   "source": [
    "## Plot\n",
    "for i in range(6):\n",
    "    plt.subplot(2,3,i+1)\n",
    "    plt.imshow(samples[i][0], cmap='gray')\n",
    "plt.show()"
   ]
  },
  {
   "cell_type": "code",
   "execution_count": 125,
   "metadata": {},
   "outputs": [],
   "source": [
    "class NeuralNet(nn.Module):\n",
    "    def __init__(self,input_size, hidden_size, num_class):\n",
    "        super(NeuralNet, self).__init__()\n",
    "        self.linear1 = nn.Linear(input_size, hidden_size)\n",
    "        self.relu = nn.ReLU()\n",
    "        self.linear2 = nn.Linear(hidden_size, num_class)\n",
    "        \n",
    "    def forward(self,X):\n",
    "        out = self.linear1(X)\n",
    "        out = self.relu(out)\n",
    "        out = self.linear2(out)\n",
    "        return out\n",
    "    "
   ]
  },
  {
   "cell_type": "code",
   "execution_count": 131,
   "metadata": {},
   "outputs": [],
   "source": [
    "model = NeuralNet(input_size=input_size,\n",
    "                  hidden_size = hidden_size,\n",
    "                  num_class = num_class\n",
    "                  )\n",
    "\n",
    "criterion = nn.CrossEntropyLoss()\n",
    "optimizer = torch.optim.Adam(model.parameters(),\n",
    "                             lr = learning_rate\n",
    "                             )"
   ]
  },
  {
   "cell_type": "code",
   "execution_count": 135,
   "metadata": {},
   "outputs": [
    {
     "name": "stdout",
     "output_type": "stream",
     "text": [
      "epoch : 1/2, step = 100/600, loss = 0.4987400472164154 \n",
      "epoch : 1/2, step = 200/600, loss = 0.30544528365135193 \n",
      "epoch : 1/2, step = 300/600, loss = 0.32905757427215576 \n",
      "epoch : 1/2, step = 400/600, loss = 0.3386017084121704 \n",
      "epoch : 1/2, step = 500/600, loss = 0.2924143671989441 \n",
      "epoch : 1/2, step = 600/600, loss = 0.3283098340034485 \n",
      "epoch : 2/2, step = 100/600, loss = 0.2507687509059906 \n",
      "epoch : 2/2, step = 200/600, loss = 0.1743239164352417 \n",
      "epoch : 2/2, step = 300/600, loss = 0.2192099690437317 \n",
      "epoch : 2/2, step = 400/600, loss = 0.18231706321239471 \n",
      "epoch : 2/2, step = 500/600, loss = 0.12892799079418182 \n",
      "epoch : 2/2, step = 600/600, loss = 0.12002149224281311 \n"
     ]
    }
   ],
   "source": [
    "## training loop\n",
    "\n",
    "n_total_steps = len(train_loader)\n",
    "\n",
    "for epoch in range(num_epochs):\n",
    "    for i,(images, labels) in enumerate(train_loader):\n",
    "        # 100, 1, 28, 28\n",
    "        # # input is 784 -> 100, 786\n",
    "        # images = images.reshape(-1, 28*28).to(device)\n",
    "        # labels = labels.to(device)\n",
    "        \n",
    "        images = images.reshape(-1, 28*28)\n",
    "        labels = labels\n",
    "        \n",
    "        # forwards\n",
    "        output = model(images)\n",
    "        loss = criterion(output, labels)\n",
    "        \n",
    "        #backward\n",
    "        optimizer.zero_grad()\n",
    "        loss.backward()\n",
    "        optimizer.step()\n",
    "        \n",
    "        if (i+1) % 100 == 0:\n",
    "            print(f\"epoch : {epoch+1}/{num_epochs}, step = {i+1}/{n_total_steps}, loss = {loss.item()} \")"
   ]
  },
  {
   "cell_type": "code",
   "execution_count": 138,
   "metadata": {},
   "outputs": [
    {
     "name": "stdout",
     "output_type": "stream",
     "text": [
      "Accuracy :  95.22\n"
     ]
    }
   ],
   "source": [
    "# test\n",
    "with torch.no_grad():\n",
    "    n_correct = 0\n",
    "    n_samples = 0\n",
    "    for images, labels in test_loader:\n",
    "        # images = images.reshape(-1,28*28).to(device)\n",
    "        # labels = labels.to(device)\n",
    "        images = images.reshape(-1,28*28)\n",
    "        labels = labels\n",
    "        outputs = model(images)\n",
    "        \n",
    "        _,predictions = torch.max(outputs, 1)\n",
    "        n_samples += labels.shape[0]\n",
    "        n_correct += (predictions == labels).sum().item()\n",
    "    \n",
    "    acc = 100.0* n_correct/n_samples  \n",
    "    \n",
    "print(\"Accuracy : \", acc)\n"
   ]
  },
  {
   "attachments": {},
   "cell_type": "markdown",
   "metadata": {},
   "source": [
    "## CNN"
   ]
  },
  {
   "attachments": {},
   "cell_type": "markdown",
   "metadata": {},
   "source": [
    "CIFAR 10 Dataset"
   ]
  },
  {
   "attachments": {},
   "cell_type": "markdown",
   "metadata": {},
   "source": [
    "![CNN](img\\cnn1.png)"
   ]
  },
  {
   "cell_type": "code",
   "execution_count": 145,
   "metadata": {},
   "outputs": [],
   "source": [
    "import torch\n",
    "import torch.nn as nn\n",
    "import torchvision\n",
    "import torchvision.transforms as transforms\n",
    "import matplotlib.pyplot as plt\n",
    "import torch.nn.functional as F"
   ]
  },
  {
   "cell_type": "code",
   "execution_count": 146,
   "metadata": {},
   "outputs": [
    {
     "data": {
      "text/plain": [
       "device(type='cuda')"
      ]
     },
     "execution_count": 146,
     "metadata": {},
     "output_type": "execute_result"
    }
   ],
   "source": [
    "## device configuration\n",
    "device = torch.device('cuda' if torch.cuda.is_available() else 'cpu')\n",
    "device"
   ]
  },
  {
   "cell_type": "code",
   "execution_count": 215,
   "metadata": {},
   "outputs": [],
   "source": [
    "## hyperparameters\n",
    "num_epochs = 5\n",
    "batch_size = 4\n",
    "learning_rate = 0.001"
   ]
  },
  {
   "cell_type": "code",
   "execution_count": 216,
   "metadata": {},
   "outputs": [],
   "source": [
    "transform = transforms.Compose(\n",
    "                    [transforms.ToTensor(),\n",
    "                     transforms.Normalize((0.5,0.5,0.5),(0.5,0.5,0.5))\n",
    "                     ])"
   ]
  },
  {
   "cell_type": "code",
   "execution_count": 217,
   "metadata": {},
   "outputs": [
    {
     "name": "stdout",
     "output_type": "stream",
     "text": [
      "Files already downloaded and verified\n"
     ]
    }
   ],
   "source": [
    "## CIFAR10\n",
    "train_dataset = torchvision.datasets.CIFAR10(\n",
    "    root = './datasets', train = True, transform = transforms.ToTensor(), download = True\n",
    "    )\n",
    "\n",
    "test_dataset = torchvision.datasets.CIFAR10(\n",
    "    root = './datasets', train = False, transform = transforms.ToTensor()\n",
    "    )\n"
   ]
  },
  {
   "cell_type": "code",
   "execution_count": 218,
   "metadata": {},
   "outputs": [],
   "source": [
    "## loader\n",
    "\n",
    "train_loader = torch.utils.data.DataLoader( dataset=train_dataset, batch_size=batch_size,\n",
    "                                           shuffle=True)\n",
    "\n",
    "test_loader = torch.utils.data.DataLoader( dataset=test_dataset, batch_size=batch_size,\n",
    "                                           shuffle=False)"
   ]
  },
  {
   "cell_type": "code",
   "execution_count": 219,
   "metadata": {},
   "outputs": [],
   "source": [
    "classes = (\n",
    "'plane',\n",
    "'car','bird',\t\t\t\t\t\t\t\t\t\t\n",
    "'cat',\n",
    "'deer',\n",
    "'dog',\n",
    "'frog',\n",
    "'horse',\n",
    "'ship',\n",
    "'truck')"
   ]
  },
  {
   "attachments": {},
   "cell_type": "markdown",
   "metadata": {},
   "source": [
    "4,3,32,32 -> Conv  \n",
    "4,6,28,28 -> MaxPool  \n",
    "4,6,14,14 -> Conv  \n",
    "4,16,10,10 -> MaxPool  \n",
    "4,16,5,5  "
   ]
  },
  {
   "cell_type": "code",
   "execution_count": 220,
   "metadata": {},
   "outputs": [],
   "source": [
    "class ConvNeuralNet(nn.Module):\n",
    "    def __init__(self):\n",
    "        super(ConvNeuralNet, self).__init__()\n",
    "        self.conv1 = nn.Conv2d(3, 6, 5)\n",
    "        self.pool = nn.MaxPool2d(2,2)\n",
    "        self.conv2 = nn.Conv2d(6, 16, 5)\n",
    "        self.fc1 = nn.Linear(16*5*5, 120) ## explaination above\n",
    "        self.fc2 = nn.Linear(120, 84)\n",
    "        self.fc3 = nn.Linear(84, 10)\n",
    "        \n",
    "    def forward(self,X):\n",
    "        out = self.conv1(X)\n",
    "        out = F.relu(out)\n",
    "        out = self.pool(out)\n",
    "        out = self.conv2(out)\n",
    "        out = F.relu(out)\n",
    "        out = self.pool(out)\n",
    "        out = out.view(-1, 16*5*5)\n",
    "        out = self.fc1(out)\n",
    "        out = F.relu(out)\n",
    "        out = self.fc2(out)\n",
    "        out = F.relu(out)\n",
    "        out = self.fc3(out)\n",
    "        return out\n",
    "    "
   ]
  },
  {
   "cell_type": "code",
   "execution_count": 221,
   "metadata": {},
   "outputs": [],
   "source": [
    "model = ConvNeuralNet()\n",
    "criterion = nn.CrossEntropyLoss()\n",
    "optimizer = torch.optim.SGD(model.parameters(),\n",
    "                             lr = learning_rate\n",
    "                             )"
   ]
  },
  {
   "cell_type": "code",
   "execution_count": 223,
   "metadata": {},
   "outputs": [
    {
     "name": "stdout",
     "output_type": "stream",
     "text": [
      "epoch : 1/10, step = 100/12500, loss = 2.3236610889434814 \n",
      "epoch : 1/10, step = 200/12500, loss = 2.3162119388580322 \n",
      "epoch : 1/10, step = 300/12500, loss = 2.2699716091156006 \n",
      "epoch : 1/10, step = 400/12500, loss = 2.3101437091827393 \n",
      "epoch : 1/10, step = 500/12500, loss = 2.342006206512451 \n",
      "epoch : 1/10, step = 600/12500, loss = 2.2902097702026367 \n",
      "epoch : 1/10, step = 700/12500, loss = 2.326808214187622 \n",
      "epoch : 1/10, step = 800/12500, loss = 2.343761444091797 \n",
      "epoch : 1/10, step = 900/12500, loss = 2.3159637451171875 \n",
      "epoch : 1/10, step = 1000/12500, loss = 2.2501888275146484 \n",
      "epoch : 1/10, step = 1100/12500, loss = 2.375397205352783 \n",
      "epoch : 1/10, step = 1200/12500, loss = 2.294100284576416 \n",
      "epoch : 1/10, step = 1300/12500, loss = 2.3112738132476807 \n",
      "epoch : 1/10, step = 1400/12500, loss = 2.3079235553741455 \n",
      "epoch : 1/10, step = 1500/12500, loss = 2.328502893447876 \n",
      "epoch : 1/10, step = 1600/12500, loss = 2.3429226875305176 \n",
      "epoch : 1/10, step = 1700/12500, loss = 2.3082435131073 \n",
      "epoch : 1/10, step = 1800/12500, loss = 2.2713866233825684 \n",
      "epoch : 1/10, step = 1900/12500, loss = 2.2952828407287598 \n",
      "epoch : 1/10, step = 2000/12500, loss = 2.2547359466552734 \n",
      "epoch : 1/10, step = 2100/12500, loss = 2.334141969680786 \n",
      "epoch : 1/10, step = 2200/12500, loss = 2.3052730560302734 \n",
      "epoch : 1/10, step = 2300/12500, loss = 2.2632665634155273 \n",
      "epoch : 1/10, step = 2400/12500, loss = 2.3449020385742188 \n",
      "epoch : 1/10, step = 2500/12500, loss = 2.329535484313965 \n",
      "epoch : 1/10, step = 2600/12500, loss = 2.251845359802246 \n",
      "epoch : 1/10, step = 2700/12500, loss = 2.2907817363739014 \n",
      "epoch : 1/10, step = 2800/12500, loss = 2.283972978591919 \n",
      "epoch : 1/10, step = 2900/12500, loss = 2.248603343963623 \n",
      "epoch : 1/10, step = 3000/12500, loss = 2.2855677604675293 \n",
      "epoch : 1/10, step = 3100/12500, loss = 2.3406331539154053 \n",
      "epoch : 1/10, step = 3200/12500, loss = 2.3635287284851074 \n",
      "epoch : 1/10, step = 3300/12500, loss = 2.284221887588501 \n",
      "epoch : 1/10, step = 3400/12500, loss = 2.3325324058532715 \n",
      "epoch : 1/10, step = 3500/12500, loss = 2.2729439735412598 \n",
      "epoch : 1/10, step = 3600/12500, loss = 2.3117849826812744 \n",
      "epoch : 1/10, step = 3700/12500, loss = 2.261563777923584 \n",
      "epoch : 1/10, step = 3800/12500, loss = 2.355238676071167 \n",
      "epoch : 1/10, step = 3900/12500, loss = 2.2582712173461914 \n",
      "epoch : 1/10, step = 4000/12500, loss = 2.317466974258423 \n",
      "epoch : 1/10, step = 4100/12500, loss = 2.27620005607605 \n",
      "epoch : 1/10, step = 4200/12500, loss = 2.280346155166626 \n",
      "epoch : 1/10, step = 4300/12500, loss = 2.284910202026367 \n",
      "epoch : 1/10, step = 4400/12500, loss = 2.3181824684143066 \n",
      "epoch : 1/10, step = 4500/12500, loss = 2.30137300491333 \n",
      "epoch : 1/10, step = 4600/12500, loss = 2.292606830596924 \n",
      "epoch : 1/10, step = 4700/12500, loss = 2.250870704650879 \n",
      "epoch : 1/10, step = 4800/12500, loss = 2.281050682067871 \n",
      "epoch : 1/10, step = 4900/12500, loss = 2.2673423290252686 \n",
      "epoch : 1/10, step = 5000/12500, loss = 2.2988405227661133 \n",
      "epoch : 1/10, step = 5100/12500, loss = 2.238962411880493 \n",
      "epoch : 1/10, step = 5200/12500, loss = 2.322617292404175 \n",
      "epoch : 1/10, step = 5300/12500, loss = 2.3088009357452393 \n",
      "epoch : 1/10, step = 5400/12500, loss = 2.3277201652526855 \n",
      "epoch : 1/10, step = 5500/12500, loss = 2.312364101409912 \n",
      "epoch : 1/10, step = 5600/12500, loss = 2.352390766143799 \n",
      "epoch : 1/10, step = 5700/12500, loss = 2.378593921661377 \n",
      "epoch : 1/10, step = 5800/12500, loss = 2.2953360080718994 \n",
      "epoch : 1/10, step = 5900/12500, loss = 2.3031773567199707 \n",
      "epoch : 1/10, step = 6000/12500, loss = 2.3049848079681396 \n",
      "epoch : 1/10, step = 6100/12500, loss = 2.3008337020874023 \n",
      "epoch : 1/10, step = 6200/12500, loss = 2.3311095237731934 \n",
      "epoch : 1/10, step = 6300/12500, loss = 2.3536689281463623 \n",
      "epoch : 1/10, step = 6400/12500, loss = 2.3105390071868896 \n",
      "epoch : 1/10, step = 6500/12500, loss = 2.2810323238372803 \n",
      "epoch : 1/10, step = 6600/12500, loss = 2.336097240447998 \n",
      "epoch : 1/10, step = 6700/12500, loss = 2.282485246658325 \n",
      "epoch : 1/10, step = 6800/12500, loss = 2.2889633178710938 \n",
      "epoch : 1/10, step = 6900/12500, loss = 2.239823579788208 \n",
      "epoch : 1/10, step = 7000/12500, loss = 2.327833652496338 \n",
      "epoch : 1/10, step = 7100/12500, loss = 2.2996315956115723 \n",
      "epoch : 1/10, step = 7200/12500, loss = 2.3025617599487305 \n",
      "epoch : 1/10, step = 7300/12500, loss = 2.3292407989501953 \n",
      "epoch : 1/10, step = 7400/12500, loss = 2.3191075325012207 \n",
      "epoch : 1/10, step = 7500/12500, loss = 2.289851427078247 \n",
      "epoch : 1/10, step = 7600/12500, loss = 2.3314225673675537 \n",
      "epoch : 1/10, step = 7700/12500, loss = 2.3015990257263184 \n",
      "epoch : 1/10, step = 7800/12500, loss = 2.3188717365264893 \n",
      "epoch : 1/10, step = 7900/12500, loss = 2.3393588066101074 \n",
      "epoch : 1/10, step = 8000/12500, loss = 2.307528495788574 \n",
      "epoch : 1/10, step = 8100/12500, loss = 2.3063061237335205 \n",
      "epoch : 1/10, step = 8200/12500, loss = 2.345360517501831 \n",
      "epoch : 1/10, step = 8300/12500, loss = 2.3408288955688477 \n",
      "epoch : 1/10, step = 8400/12500, loss = 2.3203489780426025 \n",
      "epoch : 1/10, step = 8500/12500, loss = 2.3002703189849854 \n",
      "epoch : 1/10, step = 8600/12500, loss = 2.282031536102295 \n",
      "epoch : 1/10, step = 8700/12500, loss = 2.3400800228118896 \n",
      "epoch : 1/10, step = 8800/12500, loss = 2.3394904136657715 \n",
      "epoch : 1/10, step = 8900/12500, loss = 2.296978712081909 \n",
      "epoch : 1/10, step = 9000/12500, loss = 2.297081470489502 \n",
      "epoch : 1/10, step = 9100/12500, loss = 2.29651141166687 \n",
      "epoch : 1/10, step = 9200/12500, loss = 2.3373703956604004 \n",
      "epoch : 1/10, step = 9300/12500, loss = 2.3277459144592285 \n",
      "epoch : 1/10, step = 9400/12500, loss = 2.2986814975738525 \n",
      "epoch : 1/10, step = 9500/12500, loss = 2.278190851211548 \n",
      "epoch : 1/10, step = 9600/12500, loss = 2.251121997833252 \n",
      "epoch : 1/10, step = 9700/12500, loss = 2.3486826419830322 \n",
      "epoch : 1/10, step = 9800/12500, loss = 2.333710193634033 \n",
      "epoch : 1/10, step = 9900/12500, loss = 2.3315842151641846 \n",
      "epoch : 1/10, step = 10000/12500, loss = 2.3121495246887207 \n",
      "epoch : 1/10, step = 10100/12500, loss = 2.3375725746154785 \n",
      "epoch : 1/10, step = 10200/12500, loss = 2.3005197048187256 \n",
      "epoch : 1/10, step = 10300/12500, loss = 2.3113884925842285 \n",
      "epoch : 1/10, step = 10400/12500, loss = 2.327613115310669 \n",
      "epoch : 1/10, step = 10500/12500, loss = 2.2506818771362305 \n",
      "epoch : 1/10, step = 10600/12500, loss = 2.3100454807281494 \n",
      "epoch : 1/10, step = 10700/12500, loss = 2.2919273376464844 \n",
      "epoch : 1/10, step = 10800/12500, loss = 2.3173694610595703 \n",
      "epoch : 1/10, step = 10900/12500, loss = 2.286099910736084 \n",
      "epoch : 1/10, step = 11000/12500, loss = 2.2660140991210938 \n",
      "epoch : 1/10, step = 11100/12500, loss = 2.3143184185028076 \n",
      "epoch : 1/10, step = 11200/12500, loss = 2.322695016860962 \n",
      "epoch : 1/10, step = 11300/12500, loss = 2.298496723175049 \n",
      "epoch : 1/10, step = 11400/12500, loss = 2.3096566200256348 \n",
      "epoch : 1/10, step = 11500/12500, loss = 2.2970499992370605 \n",
      "epoch : 1/10, step = 11600/12500, loss = 2.3050835132598877 \n",
      "epoch : 1/10, step = 11700/12500, loss = 2.2917747497558594 \n",
      "epoch : 1/10, step = 11800/12500, loss = 2.3223063945770264 \n",
      "epoch : 1/10, step = 11900/12500, loss = 2.336871862411499 \n",
      "epoch : 1/10, step = 12000/12500, loss = 2.336277723312378 \n",
      "epoch : 1/10, step = 12100/12500, loss = 2.2874820232391357 \n",
      "epoch : 1/10, step = 12200/12500, loss = 2.2967591285705566 \n",
      "epoch : 1/10, step = 12300/12500, loss = 2.3484625816345215 \n",
      "epoch : 1/10, step = 12400/12500, loss = 2.285472869873047 \n",
      "epoch : 1/10, step = 12500/12500, loss = 2.294374942779541 \n",
      "epoch : 2/10, step = 100/12500, loss = 2.2742748260498047 \n",
      "epoch : 2/10, step = 200/12500, loss = 2.291787624359131 \n",
      "epoch : 2/10, step = 300/12500, loss = 2.3114771842956543 \n",
      "epoch : 2/10, step = 400/12500, loss = 2.289600133895874 \n",
      "epoch : 2/10, step = 500/12500, loss = 2.261809825897217 \n",
      "epoch : 2/10, step = 600/12500, loss = 2.2677693367004395 \n",
      "epoch : 2/10, step = 700/12500, loss = 2.345691204071045 \n",
      "epoch : 2/10, step = 800/12500, loss = 2.3463892936706543 \n",
      "epoch : 2/10, step = 900/12500, loss = 2.337893486022949 \n",
      "epoch : 2/10, step = 1000/12500, loss = 2.289069652557373 \n",
      "epoch : 2/10, step = 1100/12500, loss = 2.298470973968506 \n",
      "epoch : 2/10, step = 1200/12500, loss = 2.2957327365875244 \n",
      "epoch : 2/10, step = 1300/12500, loss = 2.317397117614746 \n",
      "epoch : 2/10, step = 1400/12500, loss = 2.305187940597534 \n",
      "epoch : 2/10, step = 1500/12500, loss = 2.307438850402832 \n",
      "epoch : 2/10, step = 1600/12500, loss = 2.3203182220458984 \n",
      "epoch : 2/10, step = 1700/12500, loss = 2.3463845252990723 \n",
      "epoch : 2/10, step = 1800/12500, loss = 2.3243279457092285 \n",
      "epoch : 2/10, step = 1900/12500, loss = 2.3052053451538086 \n",
      "epoch : 2/10, step = 2000/12500, loss = 2.279792070388794 \n",
      "epoch : 2/10, step = 2100/12500, loss = 2.3101415634155273 \n",
      "epoch : 2/10, step = 2200/12500, loss = 2.3466460704803467 \n",
      "epoch : 2/10, step = 2300/12500, loss = 2.3175787925720215 \n",
      "epoch : 2/10, step = 2400/12500, loss = 2.3348188400268555 \n",
      "epoch : 2/10, step = 2500/12500, loss = 2.3226752281188965 \n",
      "epoch : 2/10, step = 2600/12500, loss = 2.2841150760650635 \n",
      "epoch : 2/10, step = 2700/12500, loss = 2.29813551902771 \n",
      "epoch : 2/10, step = 2800/12500, loss = 2.3024184703826904 \n",
      "epoch : 2/10, step = 2900/12500, loss = 2.3251793384552 \n",
      "epoch : 2/10, step = 3000/12500, loss = 2.276597738265991 \n",
      "epoch : 2/10, step = 3100/12500, loss = 2.303222417831421 \n",
      "epoch : 2/10, step = 3200/12500, loss = 2.303389310836792 \n",
      "epoch : 2/10, step = 3300/12500, loss = 2.3242440223693848 \n",
      "epoch : 2/10, step = 3400/12500, loss = 2.318894386291504 \n",
      "epoch : 2/10, step = 3500/12500, loss = 2.2885982990264893 \n",
      "epoch : 2/10, step = 3600/12500, loss = 2.298720359802246 \n",
      "epoch : 2/10, step = 3700/12500, loss = 2.313577175140381 \n",
      "epoch : 2/10, step = 3800/12500, loss = 2.3010988235473633 \n",
      "epoch : 2/10, step = 3900/12500, loss = 2.3404717445373535 \n",
      "epoch : 2/10, step = 4000/12500, loss = 2.338831901550293 \n",
      "epoch : 2/10, step = 4100/12500, loss = 2.277503490447998 \n",
      "epoch : 2/10, step = 4200/12500, loss = 2.3314642906188965 \n",
      "epoch : 2/10, step = 4300/12500, loss = 2.306255578994751 \n",
      "epoch : 2/10, step = 4400/12500, loss = 2.26481032371521 \n",
      "epoch : 2/10, step = 4500/12500, loss = 2.307584285736084 \n",
      "epoch : 2/10, step = 4600/12500, loss = 2.3129546642303467 \n",
      "epoch : 2/10, step = 4700/12500, loss = 2.284898281097412 \n",
      "epoch : 2/10, step = 4800/12500, loss = 2.302516460418701 \n",
      "epoch : 2/10, step = 4900/12500, loss = 2.2870075702667236 \n",
      "epoch : 2/10, step = 5000/12500, loss = 2.340797185897827 \n",
      "epoch : 2/10, step = 5100/12500, loss = 2.3187997341156006 \n",
      "epoch : 2/10, step = 5200/12500, loss = 2.2482118606567383 \n",
      "epoch : 2/10, step = 5300/12500, loss = 2.336343765258789 \n",
      "epoch : 2/10, step = 5400/12500, loss = 2.326323986053467 \n",
      "epoch : 2/10, step = 5500/12500, loss = 2.3429250717163086 \n",
      "epoch : 2/10, step = 5600/12500, loss = 2.2960238456726074 \n",
      "epoch : 2/10, step = 5700/12500, loss = 2.2747690677642822 \n",
      "epoch : 2/10, step = 5800/12500, loss = 2.3236958980560303 \n",
      "epoch : 2/10, step = 5900/12500, loss = 2.3028769493103027 \n",
      "epoch : 2/10, step = 6000/12500, loss = 2.3237531185150146 \n",
      "epoch : 2/10, step = 6100/12500, loss = 2.311488151550293 \n",
      "epoch : 2/10, step = 6200/12500, loss = 2.3001675605773926 \n",
      "epoch : 2/10, step = 6300/12500, loss = 2.2629570960998535 \n",
      "epoch : 2/10, step = 6400/12500, loss = 2.282766819000244 \n",
      "epoch : 2/10, step = 6500/12500, loss = 2.300955295562744 \n",
      "epoch : 2/10, step = 6600/12500, loss = 2.3087680339813232 \n",
      "epoch : 2/10, step = 6700/12500, loss = 2.3072028160095215 \n",
      "epoch : 2/10, step = 6800/12500, loss = 2.349210739135742 \n",
      "epoch : 2/10, step = 6900/12500, loss = 2.2602627277374268 \n",
      "epoch : 2/10, step = 7000/12500, loss = 2.3420300483703613 \n",
      "epoch : 2/10, step = 7100/12500, loss = 2.2586898803710938 \n",
      "epoch : 2/10, step = 7200/12500, loss = 2.324187755584717 \n",
      "epoch : 2/10, step = 7300/12500, loss = 2.331817150115967 \n",
      "epoch : 2/10, step = 7400/12500, loss = 2.2988693714141846 \n",
      "epoch : 2/10, step = 7500/12500, loss = 2.268592357635498 \n",
      "epoch : 2/10, step = 7600/12500, loss = 2.2993357181549072 \n",
      "epoch : 2/10, step = 7700/12500, loss = 2.3350114822387695 \n",
      "epoch : 2/10, step = 7800/12500, loss = 2.293165445327759 \n",
      "epoch : 2/10, step = 7900/12500, loss = 2.3002614974975586 \n",
      "epoch : 2/10, step = 8000/12500, loss = 2.3163349628448486 \n",
      "epoch : 2/10, step = 8100/12500, loss = 2.2752187252044678 \n",
      "epoch : 2/10, step = 8200/12500, loss = 2.298949956893921 \n",
      "epoch : 2/10, step = 8300/12500, loss = 2.282871723175049 \n",
      "epoch : 2/10, step = 8400/12500, loss = 2.2925398349761963 \n",
      "epoch : 2/10, step = 8500/12500, loss = 2.31703519821167 \n",
      "epoch : 2/10, step = 8600/12500, loss = 2.2789394855499268 \n",
      "epoch : 2/10, step = 8700/12500, loss = 2.2504963874816895 \n",
      "epoch : 2/10, step = 8800/12500, loss = 2.289090394973755 \n",
      "epoch : 2/10, step = 8900/12500, loss = 2.2835166454315186 \n",
      "epoch : 2/10, step = 9000/12500, loss = 2.3216769695281982 \n",
      "epoch : 2/10, step = 9100/12500, loss = 2.2981789112091064 \n",
      "epoch : 2/10, step = 9200/12500, loss = 2.3336455821990967 \n",
      "epoch : 2/10, step = 9300/12500, loss = 2.2871041297912598 \n",
      "epoch : 2/10, step = 9400/12500, loss = 2.292830228805542 \n",
      "epoch : 2/10, step = 9500/12500, loss = 2.2938973903656006 \n",
      "epoch : 2/10, step = 9600/12500, loss = 2.3489952087402344 \n",
      "epoch : 2/10, step = 9700/12500, loss = 2.294938564300537 \n",
      "epoch : 2/10, step = 9800/12500, loss = 2.3311500549316406 \n",
      "epoch : 2/10, step = 9900/12500, loss = 2.299787998199463 \n",
      "epoch : 2/10, step = 10000/12500, loss = 2.273770570755005 \n",
      "epoch : 2/10, step = 10100/12500, loss = 2.27144193649292 \n",
      "epoch : 2/10, step = 10200/12500, loss = 2.32069730758667 \n",
      "epoch : 2/10, step = 10300/12500, loss = 2.2696590423583984 \n",
      "epoch : 2/10, step = 10400/12500, loss = 2.299419403076172 \n",
      "epoch : 2/10, step = 10500/12500, loss = 2.2963218688964844 \n",
      "epoch : 2/10, step = 10600/12500, loss = 2.307183027267456 \n",
      "epoch : 2/10, step = 10700/12500, loss = 2.29337739944458 \n",
      "epoch : 2/10, step = 10800/12500, loss = 2.245802640914917 \n",
      "epoch : 2/10, step = 10900/12500, loss = 2.3240973949432373 \n",
      "epoch : 2/10, step = 11000/12500, loss = 2.330840587615967 \n",
      "epoch : 2/10, step = 11100/12500, loss = 2.331151247024536 \n",
      "epoch : 2/10, step = 11200/12500, loss = 2.3042421340942383 \n",
      "epoch : 2/10, step = 11300/12500, loss = 2.3101205825805664 \n",
      "epoch : 2/10, step = 11400/12500, loss = 2.316333055496216 \n",
      "epoch : 2/10, step = 11500/12500, loss = 2.2793734073638916 \n",
      "epoch : 2/10, step = 11600/12500, loss = 2.2704265117645264 \n",
      "epoch : 2/10, step = 11700/12500, loss = 2.283425807952881 \n",
      "epoch : 2/10, step = 11800/12500, loss = 2.301478147506714 \n",
      "epoch : 2/10, step = 11900/12500, loss = 2.3052704334259033 \n",
      "epoch : 2/10, step = 12000/12500, loss = 2.2917377948760986 \n",
      "epoch : 2/10, step = 12100/12500, loss = 2.295123338699341 \n",
      "epoch : 2/10, step = 12200/12500, loss = 2.3205442428588867 \n",
      "epoch : 2/10, step = 12300/12500, loss = 2.3059194087982178 \n",
      "epoch : 2/10, step = 12400/12500, loss = 2.298269271850586 \n",
      "epoch : 2/10, step = 12500/12500, loss = 2.322619676589966 \n",
      "epoch : 3/10, step = 100/12500, loss = 2.315866708755493 \n",
      "epoch : 3/10, step = 200/12500, loss = 2.308767318725586 \n",
      "epoch : 3/10, step = 300/12500, loss = 2.2950003147125244 \n",
      "epoch : 3/10, step = 400/12500, loss = 2.29232120513916 \n",
      "epoch : 3/10, step = 500/12500, loss = 2.3030011653900146 \n",
      "epoch : 3/10, step = 600/12500, loss = 2.309532880783081 \n",
      "epoch : 3/10, step = 700/12500, loss = 2.2798423767089844 \n",
      "epoch : 3/10, step = 800/12500, loss = 2.326235294342041 \n",
      "epoch : 3/10, step = 900/12500, loss = 2.295856237411499 \n",
      "epoch : 3/10, step = 1000/12500, loss = 2.303339719772339 \n",
      "epoch : 3/10, step = 1100/12500, loss = 2.2893762588500977 \n",
      "epoch : 3/10, step = 1200/12500, loss = 2.28837513923645 \n",
      "epoch : 3/10, step = 1300/12500, loss = 2.292343854904175 \n",
      "epoch : 3/10, step = 1400/12500, loss = 2.2691962718963623 \n",
      "epoch : 3/10, step = 1500/12500, loss = 2.300619125366211 \n",
      "epoch : 3/10, step = 1600/12500, loss = 2.323026657104492 \n",
      "epoch : 3/10, step = 1700/12500, loss = 2.324450731277466 \n",
      "epoch : 3/10, step = 1800/12500, loss = 2.311485528945923 \n",
      "epoch : 3/10, step = 1900/12500, loss = 2.3255791664123535 \n",
      "epoch : 3/10, step = 2000/12500, loss = 2.270951271057129 \n",
      "epoch : 3/10, step = 2100/12500, loss = 2.3133187294006348 \n",
      "epoch : 3/10, step = 2200/12500, loss = 2.3487749099731445 \n",
      "epoch : 3/10, step = 2300/12500, loss = 2.3058207035064697 \n",
      "epoch : 3/10, step = 2400/12500, loss = 2.3172945976257324 \n",
      "epoch : 3/10, step = 2500/12500, loss = 2.2876532077789307 \n",
      "epoch : 3/10, step = 2600/12500, loss = 2.291304111480713 \n",
      "epoch : 3/10, step = 2700/12500, loss = 2.3001599311828613 \n",
      "epoch : 3/10, step = 2800/12500, loss = 2.2763824462890625 \n",
      "epoch : 3/10, step = 2900/12500, loss = 2.303055763244629 \n",
      "epoch : 3/10, step = 3000/12500, loss = 2.289121150970459 \n",
      "epoch : 3/10, step = 3100/12500, loss = 2.3085765838623047 \n",
      "epoch : 3/10, step = 3200/12500, loss = 2.3240435123443604 \n",
      "epoch : 3/10, step = 3300/12500, loss = 2.30379056930542 \n",
      "epoch : 3/10, step = 3400/12500, loss = 2.292503595352173 \n",
      "epoch : 3/10, step = 3500/12500, loss = 2.2652676105499268 \n",
      "epoch : 3/10, step = 3600/12500, loss = 2.2983455657958984 \n",
      "epoch : 3/10, step = 3700/12500, loss = 2.2727484703063965 \n",
      "epoch : 3/10, step = 3800/12500, loss = 2.308284044265747 \n",
      "epoch : 3/10, step = 3900/12500, loss = 2.2577595710754395 \n",
      "epoch : 3/10, step = 4000/12500, loss = 2.270984649658203 \n",
      "epoch : 3/10, step = 4100/12500, loss = 2.307001829147339 \n",
      "epoch : 3/10, step = 4200/12500, loss = 2.329049825668335 \n",
      "epoch : 3/10, step = 4300/12500, loss = 2.263749837875366 \n",
      "epoch : 3/10, step = 4400/12500, loss = 2.3191452026367188 \n",
      "epoch : 3/10, step = 4500/12500, loss = 2.315361499786377 \n",
      "epoch : 3/10, step = 4600/12500, loss = 2.288243293762207 \n",
      "epoch : 3/10, step = 4700/12500, loss = 2.315847873687744 \n",
      "epoch : 3/10, step = 4800/12500, loss = 2.3120455741882324 \n",
      "epoch : 3/10, step = 4900/12500, loss = 2.322068929672241 \n",
      "epoch : 3/10, step = 5000/12500, loss = 2.3315038681030273 \n",
      "epoch : 3/10, step = 5100/12500, loss = 2.293823719024658 \n",
      "epoch : 3/10, step = 5200/12500, loss = 2.319539785385132 \n",
      "epoch : 3/10, step = 5300/12500, loss = 2.263463020324707 \n",
      "epoch : 3/10, step = 5400/12500, loss = 2.317749261856079 \n",
      "epoch : 3/10, step = 5500/12500, loss = 2.313673973083496 \n",
      "epoch : 3/10, step = 5600/12500, loss = 2.32936954498291 \n",
      "epoch : 3/10, step = 5700/12500, loss = 2.2938411235809326 \n",
      "epoch : 3/10, step = 5800/12500, loss = 2.277914524078369 \n",
      "epoch : 3/10, step = 5900/12500, loss = 2.292999267578125 \n",
      "epoch : 3/10, step = 6000/12500, loss = 2.3328771591186523 \n",
      "epoch : 3/10, step = 6100/12500, loss = 2.29291033744812 \n",
      "epoch : 3/10, step = 6200/12500, loss = 2.2777652740478516 \n",
      "epoch : 3/10, step = 6300/12500, loss = 2.2865400314331055 \n",
      "epoch : 3/10, step = 6400/12500, loss = 2.2885236740112305 \n",
      "epoch : 3/10, step = 6500/12500, loss = 2.312079429626465 \n",
      "epoch : 3/10, step = 6600/12500, loss = 2.3043103218078613 \n",
      "epoch : 3/10, step = 6700/12500, loss = 2.2974233627319336 \n",
      "epoch : 3/10, step = 6800/12500, loss = 2.279345989227295 \n",
      "epoch : 3/10, step = 6900/12500, loss = 2.317725419998169 \n",
      "epoch : 3/10, step = 7000/12500, loss = 2.3132972717285156 \n",
      "epoch : 3/10, step = 7100/12500, loss = 2.300652027130127 \n",
      "epoch : 3/10, step = 7200/12500, loss = 2.2532951831817627 \n",
      "epoch : 3/10, step = 7300/12500, loss = 2.308922290802002 \n",
      "epoch : 3/10, step = 7400/12500, loss = 2.300795316696167 \n",
      "epoch : 3/10, step = 7500/12500, loss = 2.339521884918213 \n",
      "epoch : 3/10, step = 7600/12500, loss = 2.2832250595092773 \n",
      "epoch : 3/10, step = 7700/12500, loss = 2.3295960426330566 \n",
      "epoch : 3/10, step = 7800/12500, loss = 2.3021366596221924 \n",
      "epoch : 3/10, step = 7900/12500, loss = 2.294029712677002 \n",
      "epoch : 3/10, step = 8000/12500, loss = 2.288760185241699 \n",
      "epoch : 3/10, step = 8100/12500, loss = 2.301612377166748 \n",
      "epoch : 3/10, step = 8200/12500, loss = 2.3095924854278564 \n",
      "epoch : 3/10, step = 8300/12500, loss = 2.2906641960144043 \n",
      "epoch : 3/10, step = 8400/12500, loss = 2.268138885498047 \n",
      "epoch : 3/10, step = 8500/12500, loss = 2.2952895164489746 \n",
      "epoch : 3/10, step = 8600/12500, loss = 2.2973549365997314 \n",
      "epoch : 3/10, step = 8700/12500, loss = 2.291262626647949 \n",
      "epoch : 3/10, step = 8800/12500, loss = 2.299084424972534 \n",
      "epoch : 3/10, step = 8900/12500, loss = 2.264188289642334 \n",
      "epoch : 3/10, step = 9000/12500, loss = 2.319098949432373 \n",
      "epoch : 3/10, step = 9100/12500, loss = 2.274091958999634 \n",
      "epoch : 3/10, step = 9200/12500, loss = 2.289660930633545 \n",
      "epoch : 3/10, step = 9300/12500, loss = 2.2820847034454346 \n",
      "epoch : 3/10, step = 9400/12500, loss = 2.3038854598999023 \n",
      "epoch : 3/10, step = 9500/12500, loss = 2.305854082107544 \n",
      "epoch : 3/10, step = 9600/12500, loss = 2.311488389968872 \n",
      "epoch : 3/10, step = 9700/12500, loss = 2.2824673652648926 \n",
      "epoch : 3/10, step = 9800/12500, loss = 2.318793773651123 \n",
      "epoch : 3/10, step = 9900/12500, loss = 2.282960891723633 \n",
      "epoch : 3/10, step = 10000/12500, loss = 2.2915706634521484 \n",
      "epoch : 3/10, step = 10100/12500, loss = 2.2824559211730957 \n",
      "epoch : 3/10, step = 10200/12500, loss = 2.317949056625366 \n",
      "epoch : 3/10, step = 10300/12500, loss = 2.305748462677002 \n",
      "epoch : 3/10, step = 10400/12500, loss = 2.288874387741089 \n",
      "epoch : 3/10, step = 10500/12500, loss = 2.309274435043335 \n",
      "epoch : 3/10, step = 10600/12500, loss = 2.279463768005371 \n",
      "epoch : 3/10, step = 10700/12500, loss = 2.3415889739990234 \n",
      "epoch : 3/10, step = 10800/12500, loss = 2.2811875343322754 \n",
      "epoch : 3/10, step = 10900/12500, loss = 2.328063488006592 \n",
      "epoch : 3/10, step = 11000/12500, loss = 2.3174495697021484 \n",
      "epoch : 3/10, step = 11100/12500, loss = 2.2961556911468506 \n",
      "epoch : 3/10, step = 11200/12500, loss = 2.301988124847412 \n",
      "epoch : 3/10, step = 11300/12500, loss = 2.317101001739502 \n",
      "epoch : 3/10, step = 11400/12500, loss = 2.3040692806243896 \n",
      "epoch : 3/10, step = 11500/12500, loss = 2.270855188369751 \n",
      "epoch : 3/10, step = 11600/12500, loss = 2.3200266361236572 \n",
      "epoch : 3/10, step = 11700/12500, loss = 2.325993299484253 \n",
      "epoch : 3/10, step = 11800/12500, loss = 2.2848029136657715 \n",
      "epoch : 3/10, step = 11900/12500, loss = 2.3086133003234863 \n",
      "epoch : 3/10, step = 12000/12500, loss = 2.3152003288269043 \n",
      "epoch : 3/10, step = 12100/12500, loss = 2.2998011112213135 \n",
      "epoch : 3/10, step = 12200/12500, loss = 2.33721923828125 \n",
      "epoch : 3/10, step = 12300/12500, loss = 2.311096668243408 \n",
      "epoch : 3/10, step = 12400/12500, loss = 2.3249826431274414 \n",
      "epoch : 3/10, step = 12500/12500, loss = 2.2973012924194336 \n",
      "epoch : 4/10, step = 100/12500, loss = 2.2741167545318604 \n",
      "epoch : 4/10, step = 200/12500, loss = 2.325989246368408 \n",
      "epoch : 4/10, step = 300/12500, loss = 2.285940408706665 \n",
      "epoch : 4/10, step = 400/12500, loss = 2.277284860610962 \n",
      "epoch : 4/10, step = 500/12500, loss = 2.291236400604248 \n",
      "epoch : 4/10, step = 600/12500, loss = 2.3179738521575928 \n",
      "epoch : 4/10, step = 700/12500, loss = 2.2865514755249023 \n",
      "epoch : 4/10, step = 800/12500, loss = 2.2954487800598145 \n",
      "epoch : 4/10, step = 900/12500, loss = 2.299865961074829 \n",
      "epoch : 4/10, step = 1000/12500, loss = 2.2873356342315674 \n",
      "epoch : 4/10, step = 1100/12500, loss = 2.3087799549102783 \n",
      "epoch : 4/10, step = 1200/12500, loss = 2.2894086837768555 \n",
      "epoch : 4/10, step = 1300/12500, loss = 2.3080224990844727 \n",
      "epoch : 4/10, step = 1400/12500, loss = 2.305093765258789 \n",
      "epoch : 4/10, step = 1500/12500, loss = 2.303518295288086 \n",
      "epoch : 4/10, step = 1600/12500, loss = 2.3026394844055176 \n",
      "epoch : 4/10, step = 1700/12500, loss = 2.288905382156372 \n",
      "epoch : 4/10, step = 1800/12500, loss = 2.3140621185302734 \n",
      "epoch : 4/10, step = 1900/12500, loss = 2.311856746673584 \n",
      "epoch : 4/10, step = 2000/12500, loss = 2.3075129985809326 \n",
      "epoch : 4/10, step = 2100/12500, loss = 2.2782392501831055 \n",
      "epoch : 4/10, step = 2200/12500, loss = 2.2959632873535156 \n",
      "epoch : 4/10, step = 2300/12500, loss = 2.325803756713867 \n",
      "epoch : 4/10, step = 2400/12500, loss = 2.3009278774261475 \n",
      "epoch : 4/10, step = 2500/12500, loss = 2.28061842918396 \n",
      "epoch : 4/10, step = 2600/12500, loss = 2.2955098152160645 \n",
      "epoch : 4/10, step = 2700/12500, loss = 2.316070079803467 \n",
      "epoch : 4/10, step = 2800/12500, loss = 2.3148136138916016 \n",
      "epoch : 4/10, step = 2900/12500, loss = 2.292059898376465 \n",
      "epoch : 4/10, step = 3000/12500, loss = 2.295982837677002 \n",
      "epoch : 4/10, step = 3100/12500, loss = 2.2912862300872803 \n",
      "epoch : 4/10, step = 3200/12500, loss = 2.3016083240509033 \n",
      "epoch : 4/10, step = 3300/12500, loss = 2.3043501377105713 \n",
      "epoch : 4/10, step = 3400/12500, loss = 2.2982277870178223 \n",
      "epoch : 4/10, step = 3500/12500, loss = 2.3152754306793213 \n",
      "epoch : 4/10, step = 3600/12500, loss = 2.3278987407684326 \n",
      "epoch : 4/10, step = 3700/12500, loss = 2.307349681854248 \n",
      "epoch : 4/10, step = 3800/12500, loss = 2.2813117504119873 \n",
      "epoch : 4/10, step = 3900/12500, loss = 2.2953333854675293 \n",
      "epoch : 4/10, step = 4000/12500, loss = 2.317242383956909 \n",
      "epoch : 4/10, step = 4100/12500, loss = 2.32726788520813 \n",
      "epoch : 4/10, step = 4200/12500, loss = 2.3013429641723633 \n",
      "epoch : 4/10, step = 4300/12500, loss = 2.304499387741089 \n",
      "epoch : 4/10, step = 4400/12500, loss = 2.3115527629852295 \n",
      "epoch : 4/10, step = 4500/12500, loss = 2.3091886043548584 \n",
      "epoch : 4/10, step = 4600/12500, loss = 2.2861762046813965 \n",
      "epoch : 4/10, step = 4700/12500, loss = 2.309933662414551 \n",
      "epoch : 4/10, step = 4800/12500, loss = 2.2875871658325195 \n",
      "epoch : 4/10, step = 4900/12500, loss = 2.3055591583251953 \n",
      "epoch : 4/10, step = 5000/12500, loss = 2.2826013565063477 \n",
      "epoch : 4/10, step = 5100/12500, loss = 2.2836670875549316 \n",
      "epoch : 4/10, step = 5200/12500, loss = 2.276529312133789 \n",
      "epoch : 4/10, step = 5300/12500, loss = 2.3192286491394043 \n",
      "epoch : 4/10, step = 5400/12500, loss = 2.2949671745300293 \n",
      "epoch : 4/10, step = 5500/12500, loss = 2.3127365112304688 \n",
      "epoch : 4/10, step = 5600/12500, loss = 2.3085808753967285 \n",
      "epoch : 4/10, step = 5700/12500, loss = 2.290004253387451 \n",
      "epoch : 4/10, step = 5800/12500, loss = 2.266338586807251 \n",
      "epoch : 4/10, step = 5900/12500, loss = 2.2810802459716797 \n",
      "epoch : 4/10, step = 6000/12500, loss = 2.308289051055908 \n",
      "epoch : 4/10, step = 6100/12500, loss = 2.2893245220184326 \n",
      "epoch : 4/10, step = 6200/12500, loss = 2.313723087310791 \n",
      "epoch : 4/10, step = 6300/12500, loss = 2.3046417236328125 \n",
      "epoch : 4/10, step = 6400/12500, loss = 2.3254308700561523 \n",
      "epoch : 4/10, step = 6500/12500, loss = 2.3097524642944336 \n",
      "epoch : 4/10, step = 6600/12500, loss = 2.2841343879699707 \n",
      "epoch : 4/10, step = 6700/12500, loss = 2.3259942531585693 \n",
      "epoch : 4/10, step = 6800/12500, loss = 2.282525062561035 \n",
      "epoch : 4/10, step = 6900/12500, loss = 2.2655861377716064 \n",
      "epoch : 4/10, step = 7000/12500, loss = 2.3036537170410156 \n",
      "epoch : 4/10, step = 7100/12500, loss = 2.3154969215393066 \n",
      "epoch : 4/10, step = 7200/12500, loss = 2.282416820526123 \n",
      "epoch : 4/10, step = 7300/12500, loss = 2.271043300628662 \n",
      "epoch : 4/10, step = 7400/12500, loss = 2.3335213661193848 \n",
      "epoch : 4/10, step = 7500/12500, loss = 2.287832736968994 \n",
      "epoch : 4/10, step = 7600/12500, loss = 2.3065147399902344 \n",
      "epoch : 4/10, step = 7700/12500, loss = 2.294706344604492 \n",
      "epoch : 4/10, step = 7800/12500, loss = 2.291454553604126 \n",
      "epoch : 4/10, step = 7900/12500, loss = 2.299877166748047 \n",
      "epoch : 4/10, step = 8000/12500, loss = 2.292038917541504 \n",
      "epoch : 4/10, step = 8100/12500, loss = 2.3038218021392822 \n",
      "epoch : 4/10, step = 8200/12500, loss = 2.315236806869507 \n",
      "epoch : 4/10, step = 8300/12500, loss = 2.297942876815796 \n",
      "epoch : 4/10, step = 8400/12500, loss = 2.2646484375 \n",
      "epoch : 4/10, step = 8500/12500, loss = 2.317263126373291 \n",
      "epoch : 4/10, step = 8600/12500, loss = 2.3131415843963623 \n",
      "epoch : 4/10, step = 8700/12500, loss = 2.2778713703155518 \n",
      "epoch : 4/10, step = 8800/12500, loss = 2.299241781234741 \n",
      "epoch : 4/10, step = 8900/12500, loss = 2.292451858520508 \n",
      "epoch : 4/10, step = 9000/12500, loss = 2.2898008823394775 \n",
      "epoch : 4/10, step = 9100/12500, loss = 2.288816213607788 \n",
      "epoch : 4/10, step = 9200/12500, loss = 2.289031505584717 \n",
      "epoch : 4/10, step = 9300/12500, loss = 2.288973093032837 \n",
      "epoch : 4/10, step = 9400/12500, loss = 2.3035225868225098 \n",
      "epoch : 4/10, step = 9500/12500, loss = 2.29962158203125 \n",
      "epoch : 4/10, step = 9600/12500, loss = 2.2950234413146973 \n",
      "epoch : 4/10, step = 9700/12500, loss = 2.2909107208251953 \n",
      "epoch : 4/10, step = 9800/12500, loss = 2.30132794380188 \n",
      "epoch : 4/10, step = 9900/12500, loss = 2.324504852294922 \n",
      "epoch : 4/10, step = 10000/12500, loss = 2.2834630012512207 \n",
      "epoch : 4/10, step = 10100/12500, loss = 2.2973217964172363 \n",
      "epoch : 4/10, step = 10200/12500, loss = 2.310856342315674 \n",
      "epoch : 4/10, step = 10300/12500, loss = 2.3309011459350586 \n",
      "epoch : 4/10, step = 10400/12500, loss = 2.2962872982025146 \n",
      "epoch : 4/10, step = 10500/12500, loss = 2.2882254123687744 \n",
      "epoch : 4/10, step = 10600/12500, loss = 2.2833118438720703 \n",
      "epoch : 4/10, step = 10700/12500, loss = 2.2850637435913086 \n",
      "epoch : 4/10, step = 10800/12500, loss = 2.285691738128662 \n",
      "epoch : 4/10, step = 10900/12500, loss = 2.3138580322265625 \n",
      "epoch : 4/10, step = 11000/12500, loss = 2.285996913909912 \n",
      "epoch : 4/10, step = 11100/12500, loss = 2.2979326248168945 \n",
      "epoch : 4/10, step = 11200/12500, loss = 2.2779526710510254 \n",
      "epoch : 4/10, step = 11300/12500, loss = 2.313722610473633 \n",
      "epoch : 4/10, step = 11400/12500, loss = 2.3192105293273926 \n",
      "epoch : 4/10, step = 11500/12500, loss = 2.2983241081237793 \n",
      "epoch : 4/10, step = 11600/12500, loss = 2.294368028640747 \n",
      "epoch : 4/10, step = 11700/12500, loss = 2.3185954093933105 \n",
      "epoch : 4/10, step = 11800/12500, loss = 2.3242876529693604 \n",
      "epoch : 4/10, step = 11900/12500, loss = 2.31215763092041 \n",
      "epoch : 4/10, step = 12000/12500, loss = 2.299086332321167 \n",
      "epoch : 4/10, step = 12100/12500, loss = 2.2888078689575195 \n",
      "epoch : 4/10, step = 12200/12500, loss = 2.3098931312561035 \n",
      "epoch : 4/10, step = 12300/12500, loss = 2.2986583709716797 \n",
      "epoch : 4/10, step = 12400/12500, loss = 2.298424482345581 \n",
      "epoch : 4/10, step = 12500/12500, loss = 2.2920422554016113 \n",
      "epoch : 5/10, step = 100/12500, loss = 2.287527322769165 \n",
      "epoch : 5/10, step = 200/12500, loss = 2.3043782711029053 \n",
      "epoch : 5/10, step = 300/12500, loss = 2.3067028522491455 \n",
      "epoch : 5/10, step = 400/12500, loss = 2.30310320854187 \n",
      "epoch : 5/10, step = 500/12500, loss = 2.287397861480713 \n",
      "epoch : 5/10, step = 600/12500, loss = 2.317531108856201 \n",
      "epoch : 5/10, step = 700/12500, loss = 2.307593822479248 \n",
      "epoch : 5/10, step = 800/12500, loss = 2.302828788757324 \n",
      "epoch : 5/10, step = 900/12500, loss = 2.2951130867004395 \n",
      "epoch : 5/10, step = 1000/12500, loss = 2.297069549560547 \n",
      "epoch : 5/10, step = 1100/12500, loss = 2.280869722366333 \n",
      "epoch : 5/10, step = 1200/12500, loss = 2.279660940170288 \n",
      "epoch : 5/10, step = 1300/12500, loss = 2.306899070739746 \n",
      "epoch : 5/10, step = 1400/12500, loss = 2.30143666267395 \n",
      "epoch : 5/10, step = 1500/12500, loss = 2.2965590953826904 \n",
      "epoch : 5/10, step = 1600/12500, loss = 2.2903661727905273 \n",
      "epoch : 5/10, step = 1700/12500, loss = 2.272799253463745 \n",
      "epoch : 5/10, step = 1800/12500, loss = 2.3053293228149414 \n",
      "epoch : 5/10, step = 1900/12500, loss = 2.284304618835449 \n",
      "epoch : 5/10, step = 2000/12500, loss = 2.30926513671875 \n",
      "epoch : 5/10, step = 2100/12500, loss = 2.2966935634613037 \n",
      "epoch : 5/10, step = 2200/12500, loss = 2.303145408630371 \n",
      "epoch : 5/10, step = 2300/12500, loss = 2.3284900188446045 \n",
      "epoch : 5/10, step = 2400/12500, loss = 2.297382116317749 \n",
      "epoch : 5/10, step = 2500/12500, loss = 2.2767794132232666 \n",
      "epoch : 5/10, step = 2600/12500, loss = 2.314340591430664 \n",
      "epoch : 5/10, step = 2700/12500, loss = 2.297128438949585 \n",
      "epoch : 5/10, step = 2800/12500, loss = 2.2883925437927246 \n",
      "epoch : 5/10, step = 2900/12500, loss = 2.2880523204803467 \n",
      "epoch : 5/10, step = 3000/12500, loss = 2.3010313510894775 \n",
      "epoch : 5/10, step = 3100/12500, loss = 2.3058760166168213 \n",
      "epoch : 5/10, step = 3200/12500, loss = 2.3057620525360107 \n",
      "epoch : 5/10, step = 3300/12500, loss = 2.3019521236419678 \n",
      "epoch : 5/10, step = 3400/12500, loss = 2.31113338470459 \n",
      "epoch : 5/10, step = 3500/12500, loss = 2.2716588973999023 \n",
      "epoch : 5/10, step = 3600/12500, loss = 2.3091468811035156 \n",
      "epoch : 5/10, step = 3700/12500, loss = 2.2862892150878906 \n",
      "epoch : 5/10, step = 3800/12500, loss = 2.299381732940674 \n",
      "epoch : 5/10, step = 3900/12500, loss = 2.3033204078674316 \n",
      "epoch : 5/10, step = 4000/12500, loss = 2.3101999759674072 \n",
      "epoch : 5/10, step = 4100/12500, loss = 2.310231924057007 \n",
      "epoch : 5/10, step = 4200/12500, loss = 2.3006579875946045 \n",
      "epoch : 5/10, step = 4300/12500, loss = 2.3188557624816895 \n",
      "epoch : 5/10, step = 4400/12500, loss = 2.3070695400238037 \n",
      "epoch : 5/10, step = 4500/12500, loss = 2.3088791370391846 \n",
      "epoch : 5/10, step = 4600/12500, loss = 2.3048579692840576 \n",
      "epoch : 5/10, step = 4700/12500, loss = 2.2991135120391846 \n",
      "epoch : 5/10, step = 4800/12500, loss = 2.315420150756836 \n",
      "epoch : 5/10, step = 4900/12500, loss = 2.295928478240967 \n",
      "epoch : 5/10, step = 5000/12500, loss = 2.291226387023926 \n",
      "epoch : 5/10, step = 5100/12500, loss = 2.271383285522461 \n",
      "epoch : 5/10, step = 5200/12500, loss = 2.3062124252319336 \n",
      "epoch : 5/10, step = 5300/12500, loss = 2.286663055419922 \n",
      "epoch : 5/10, step = 5400/12500, loss = 2.307727813720703 \n",
      "epoch : 5/10, step = 5500/12500, loss = 2.286158561706543 \n",
      "epoch : 5/10, step = 5600/12500, loss = 2.292620897293091 \n",
      "epoch : 5/10, step = 5700/12500, loss = 2.310572862625122 \n",
      "epoch : 5/10, step = 5800/12500, loss = 2.3011903762817383 \n",
      "epoch : 5/10, step = 5900/12500, loss = 2.3090991973876953 \n",
      "epoch : 5/10, step = 6000/12500, loss = 2.290252208709717 \n",
      "epoch : 5/10, step = 6100/12500, loss = 2.277555227279663 \n",
      "epoch : 5/10, step = 6200/12500, loss = 2.299950122833252 \n",
      "epoch : 5/10, step = 6300/12500, loss = 2.2986342906951904 \n",
      "epoch : 5/10, step = 6400/12500, loss = 2.2809863090515137 \n",
      "epoch : 5/10, step = 6500/12500, loss = 2.311923027038574 \n",
      "epoch : 5/10, step = 6600/12500, loss = 2.2957563400268555 \n",
      "epoch : 5/10, step = 6700/12500, loss = 2.313114881515503 \n",
      "epoch : 5/10, step = 6800/12500, loss = 2.308389902114868 \n",
      "epoch : 5/10, step = 6900/12500, loss = 2.2943849563598633 \n",
      "epoch : 5/10, step = 7000/12500, loss = 2.313469409942627 \n",
      "epoch : 5/10, step = 7100/12500, loss = 2.3071703910827637 \n",
      "epoch : 5/10, step = 7200/12500, loss = 2.2938623428344727 \n",
      "epoch : 5/10, step = 7300/12500, loss = 2.293020009994507 \n",
      "epoch : 5/10, step = 7400/12500, loss = 2.298250675201416 \n",
      "epoch : 5/10, step = 7500/12500, loss = 2.3053531646728516 \n",
      "epoch : 5/10, step = 7600/12500, loss = 2.3248322010040283 \n",
      "epoch : 5/10, step = 7700/12500, loss = 2.2845609188079834 \n",
      "epoch : 5/10, step = 7800/12500, loss = 2.325977325439453 \n",
      "epoch : 5/10, step = 7900/12500, loss = 2.2939748764038086 \n",
      "epoch : 5/10, step = 8000/12500, loss = 2.2943179607391357 \n",
      "epoch : 5/10, step = 8100/12500, loss = 2.2960095405578613 \n",
      "epoch : 5/10, step = 8200/12500, loss = 2.308044672012329 \n",
      "epoch : 5/10, step = 8300/12500, loss = 2.301272392272949 \n",
      "epoch : 5/10, step = 8400/12500, loss = 2.2900073528289795 \n",
      "epoch : 5/10, step = 8500/12500, loss = 2.3055577278137207 \n",
      "epoch : 5/10, step = 8600/12500, loss = 2.297788381576538 \n",
      "epoch : 5/10, step = 8700/12500, loss = 2.2802581787109375 \n",
      "epoch : 5/10, step = 8800/12500, loss = 2.2963740825653076 \n",
      "epoch : 5/10, step = 8900/12500, loss = 2.303647994995117 \n",
      "epoch : 5/10, step = 9000/12500, loss = 2.2916784286499023 \n",
      "epoch : 5/10, step = 9100/12500, loss = 2.298827648162842 \n",
      "epoch : 5/10, step = 9200/12500, loss = 2.2752585411071777 \n",
      "epoch : 5/10, step = 9300/12500, loss = 2.3174819946289062 \n",
      "epoch : 5/10, step = 9400/12500, loss = 2.2870867252349854 \n",
      "epoch : 5/10, step = 9500/12500, loss = 2.289796829223633 \n",
      "epoch : 5/10, step = 9600/12500, loss = 2.3163602352142334 \n",
      "epoch : 5/10, step = 9700/12500, loss = 2.2953505516052246 \n",
      "epoch : 5/10, step = 9800/12500, loss = 2.308037757873535 \n",
      "epoch : 5/10, step = 9900/12500, loss = 2.3147542476654053 \n",
      "epoch : 5/10, step = 10000/12500, loss = 2.318190574645996 \n",
      "epoch : 5/10, step = 10100/12500, loss = 2.2922465801239014 \n",
      "epoch : 5/10, step = 10200/12500, loss = 2.283400535583496 \n",
      "epoch : 5/10, step = 10300/12500, loss = 2.2898340225219727 \n",
      "epoch : 5/10, step = 10400/12500, loss = 2.319631814956665 \n",
      "epoch : 5/10, step = 10500/12500, loss = 2.2935919761657715 \n",
      "epoch : 5/10, step = 10600/12500, loss = 2.2863340377807617 \n",
      "epoch : 5/10, step = 10700/12500, loss = 2.290910243988037 \n",
      "epoch : 5/10, step = 10800/12500, loss = 2.3088977336883545 \n",
      "epoch : 5/10, step = 10900/12500, loss = 2.2947168350219727 \n",
      "epoch : 5/10, step = 11000/12500, loss = 2.2859859466552734 \n",
      "epoch : 5/10, step = 11100/12500, loss = 2.2995975017547607 \n",
      "epoch : 5/10, step = 11200/12500, loss = 2.2713422775268555 \n",
      "epoch : 5/10, step = 11300/12500, loss = 2.3071107864379883 \n",
      "epoch : 5/10, step = 11400/12500, loss = 2.3024086952209473 \n",
      "epoch : 5/10, step = 11500/12500, loss = 2.304758071899414 \n",
      "epoch : 5/10, step = 11600/12500, loss = 2.318155288696289 \n",
      "epoch : 5/10, step = 11700/12500, loss = 2.3194737434387207 \n",
      "epoch : 5/10, step = 11800/12500, loss = 2.2764954566955566 \n",
      "epoch : 5/10, step = 11900/12500, loss = 2.301945924758911 \n",
      "epoch : 5/10, step = 12000/12500, loss = 2.3090007305145264 \n",
      "epoch : 5/10, step = 12100/12500, loss = 2.2739181518554688 \n",
      "epoch : 5/10, step = 12200/12500, loss = 2.2970407009124756 \n",
      "epoch : 5/10, step = 12300/12500, loss = 2.292308807373047 \n",
      "epoch : 5/10, step = 12400/12500, loss = 2.2978415489196777 \n",
      "epoch : 5/10, step = 12500/12500, loss = 2.2990450859069824 \n",
      "epoch : 6/10, step = 100/12500, loss = 2.3041915893554688 \n",
      "epoch : 6/10, step = 200/12500, loss = 2.280945301055908 \n",
      "epoch : 6/10, step = 300/12500, loss = 2.2714767456054688 \n",
      "epoch : 6/10, step = 400/12500, loss = 2.292491912841797 \n",
      "epoch : 6/10, step = 500/12500, loss = 2.302490711212158 \n",
      "epoch : 6/10, step = 600/12500, loss = 2.282200813293457 \n",
      "epoch : 6/10, step = 700/12500, loss = 2.2858641147613525 \n",
      "epoch : 6/10, step = 800/12500, loss = 2.2922730445861816 \n",
      "epoch : 6/10, step = 900/12500, loss = 2.3122029304504395 \n",
      "epoch : 6/10, step = 1000/12500, loss = 2.301292896270752 \n",
      "epoch : 6/10, step = 1100/12500, loss = 2.3118972778320312 \n",
      "epoch : 6/10, step = 1200/12500, loss = 2.2935681343078613 \n",
      "epoch : 6/10, step = 1300/12500, loss = 2.2966561317443848 \n",
      "epoch : 6/10, step = 1400/12500, loss = 2.3077826499938965 \n",
      "epoch : 6/10, step = 1500/12500, loss = 2.312253475189209 \n",
      "epoch : 6/10, step = 1600/12500, loss = 2.269245147705078 \n",
      "epoch : 6/10, step = 1700/12500, loss = 2.3147542476654053 \n",
      "epoch : 6/10, step = 1800/12500, loss = 2.3177340030670166 \n",
      "epoch : 6/10, step = 1900/12500, loss = 2.2847371101379395 \n",
      "epoch : 6/10, step = 2000/12500, loss = 2.292564868927002 \n",
      "epoch : 6/10, step = 2100/12500, loss = 2.3305397033691406 \n",
      "epoch : 6/10, step = 2200/12500, loss = 2.3107218742370605 \n",
      "epoch : 6/10, step = 2300/12500, loss = 2.313974142074585 \n",
      "epoch : 6/10, step = 2400/12500, loss = 2.3087687492370605 \n",
      "epoch : 6/10, step = 2500/12500, loss = 2.298827648162842 \n",
      "epoch : 6/10, step = 2600/12500, loss = 2.29347562789917 \n",
      "epoch : 6/10, step = 2700/12500, loss = 2.317390203475952 \n",
      "epoch : 6/10, step = 2800/12500, loss = 2.2741215229034424 \n",
      "epoch : 6/10, step = 2900/12500, loss = 2.281363010406494 \n",
      "epoch : 6/10, step = 3000/12500, loss = 2.2941479682922363 \n",
      "epoch : 6/10, step = 3100/12500, loss = 2.2847466468811035 \n",
      "epoch : 6/10, step = 3200/12500, loss = 2.29445481300354 \n",
      "epoch : 6/10, step = 3300/12500, loss = 2.2999930381774902 \n",
      "epoch : 6/10, step = 3400/12500, loss = 2.2820777893066406 \n",
      "epoch : 6/10, step = 3500/12500, loss = 2.2914879322052 \n",
      "epoch : 6/10, step = 3600/12500, loss = 2.2820374965667725 \n",
      "epoch : 6/10, step = 3700/12500, loss = 2.319082260131836 \n",
      "epoch : 6/10, step = 3800/12500, loss = 2.302597999572754 \n",
      "epoch : 6/10, step = 3900/12500, loss = 2.307910680770874 \n",
      "epoch : 6/10, step = 4000/12500, loss = 2.288416862487793 \n",
      "epoch : 6/10, step = 4100/12500, loss = 2.3004093170166016 \n",
      "epoch : 6/10, step = 4200/12500, loss = 2.314220428466797 \n",
      "epoch : 6/10, step = 4300/12500, loss = 2.2762513160705566 \n",
      "epoch : 6/10, step = 4400/12500, loss = 2.2808687686920166 \n",
      "epoch : 6/10, step = 4500/12500, loss = 2.3020057678222656 \n",
      "epoch : 6/10, step = 4600/12500, loss = 2.3008034229278564 \n",
      "epoch : 6/10, step = 4700/12500, loss = 2.290595293045044 \n",
      "epoch : 6/10, step = 4800/12500, loss = 2.3222010135650635 \n",
      "epoch : 6/10, step = 4900/12500, loss = 2.3001351356506348 \n",
      "epoch : 6/10, step = 5000/12500, loss = 2.3004002571105957 \n",
      "epoch : 6/10, step = 5100/12500, loss = 2.2999205589294434 \n",
      "epoch : 6/10, step = 5200/12500, loss = 2.3128662109375 \n",
      "epoch : 6/10, step = 5300/12500, loss = 2.280095338821411 \n",
      "epoch : 6/10, step = 5400/12500, loss = 2.3170084953308105 \n",
      "epoch : 6/10, step = 5500/12500, loss = 2.2809104919433594 \n",
      "epoch : 6/10, step = 5600/12500, loss = 2.294452428817749 \n",
      "epoch : 6/10, step = 5700/12500, loss = 2.2908105850219727 \n",
      "epoch : 6/10, step = 5800/12500, loss = 2.2959041595458984 \n",
      "epoch : 6/10, step = 5900/12500, loss = 2.2841172218322754 \n",
      "epoch : 6/10, step = 6000/12500, loss = 2.294785261154175 \n",
      "epoch : 6/10, step = 6100/12500, loss = 2.2910733222961426 \n",
      "epoch : 6/10, step = 6200/12500, loss = 2.2914371490478516 \n",
      "epoch : 6/10, step = 6300/12500, loss = 2.3185296058654785 \n",
      "epoch : 6/10, step = 6400/12500, loss = 2.305668830871582 \n",
      "epoch : 6/10, step = 6500/12500, loss = 2.2811315059661865 \n",
      "epoch : 6/10, step = 6600/12500, loss = 2.2869248390197754 \n",
      "epoch : 6/10, step = 6700/12500, loss = 2.3032572269439697 \n",
      "epoch : 6/10, step = 6800/12500, loss = 2.3163437843322754 \n",
      "epoch : 6/10, step = 6900/12500, loss = 2.29880428314209 \n",
      "epoch : 6/10, step = 7000/12500, loss = 2.2953577041625977 \n",
      "epoch : 6/10, step = 7100/12500, loss = 2.308884620666504 \n",
      "epoch : 6/10, step = 7200/12500, loss = 2.304837226867676 \n",
      "epoch : 6/10, step = 7300/12500, loss = 2.296663761138916 \n",
      "epoch : 6/10, step = 7400/12500, loss = 2.3040413856506348 \n",
      "epoch : 6/10, step = 7500/12500, loss = 2.2868783473968506 \n",
      "epoch : 6/10, step = 7600/12500, loss = 2.304349422454834 \n",
      "epoch : 6/10, step = 7700/12500, loss = 2.285660743713379 \n",
      "epoch : 6/10, step = 7800/12500, loss = 2.2799723148345947 \n",
      "epoch : 6/10, step = 7900/12500, loss = 2.2756032943725586 \n",
      "epoch : 6/10, step = 8000/12500, loss = 2.2812654972076416 \n",
      "epoch : 6/10, step = 8100/12500, loss = 2.3019227981567383 \n",
      "epoch : 6/10, step = 8200/12500, loss = 2.30851411819458 \n",
      "epoch : 6/10, step = 8300/12500, loss = 2.318209171295166 \n",
      "epoch : 6/10, step = 8400/12500, loss = 2.3139333724975586 \n",
      "epoch : 6/10, step = 8500/12500, loss = 2.3129374980926514 \n",
      "epoch : 6/10, step = 8600/12500, loss = 2.29170823097229 \n",
      "epoch : 6/10, step = 8700/12500, loss = 2.2979116439819336 \n",
      "epoch : 6/10, step = 8800/12500, loss = 2.277247667312622 \n",
      "epoch : 6/10, step = 8900/12500, loss = 2.2905659675598145 \n",
      "epoch : 6/10, step = 9000/12500, loss = 2.293275833129883 \n",
      "epoch : 6/10, step = 9100/12500, loss = 2.291106939315796 \n",
      "epoch : 6/10, step = 9200/12500, loss = 2.3073742389678955 \n",
      "epoch : 6/10, step = 9300/12500, loss = 2.302375555038452 \n",
      "epoch : 6/10, step = 9400/12500, loss = 2.2969815731048584 \n",
      "epoch : 6/10, step = 9500/12500, loss = 2.299990177154541 \n",
      "epoch : 6/10, step = 9600/12500, loss = 2.28615665435791 \n",
      "epoch : 6/10, step = 9700/12500, loss = 2.305807590484619 \n",
      "epoch : 6/10, step = 9800/12500, loss = 2.3174068927764893 \n",
      "epoch : 6/10, step = 9900/12500, loss = 2.3031983375549316 \n",
      "epoch : 6/10, step = 10000/12500, loss = 2.3054351806640625 \n",
      "epoch : 6/10, step = 10100/12500, loss = 2.2834396362304688 \n",
      "epoch : 6/10, step = 10200/12500, loss = 2.3034861087799072 \n",
      "epoch : 6/10, step = 10300/12500, loss = 2.2825121879577637 \n",
      "epoch : 6/10, step = 10400/12500, loss = 2.2870991230010986 \n",
      "epoch : 6/10, step = 10500/12500, loss = 2.294039726257324 \n",
      "epoch : 6/10, step = 10600/12500, loss = 2.3013412952423096 \n",
      "epoch : 6/10, step = 10700/12500, loss = 2.293889045715332 \n",
      "epoch : 6/10, step = 10800/12500, loss = 2.2955803871154785 \n",
      "epoch : 6/10, step = 10900/12500, loss = 2.3022470474243164 \n",
      "epoch : 6/10, step = 11000/12500, loss = 2.3107521533966064 \n",
      "epoch : 6/10, step = 11100/12500, loss = 2.2821176052093506 \n",
      "epoch : 6/10, step = 11200/12500, loss = 2.300863742828369 \n",
      "epoch : 6/10, step = 11300/12500, loss = 2.3030953407287598 \n",
      "epoch : 6/10, step = 11400/12500, loss = 2.304581642150879 \n",
      "epoch : 6/10, step = 11500/12500, loss = 2.289090871810913 \n",
      "epoch : 6/10, step = 11600/12500, loss = 2.2948052883148193 \n",
      "epoch : 6/10, step = 11700/12500, loss = 2.279294729232788 \n",
      "epoch : 6/10, step = 11800/12500, loss = 2.2915797233581543 \n",
      "epoch : 6/10, step = 11900/12500, loss = 2.2751352787017822 \n",
      "epoch : 6/10, step = 12000/12500, loss = 2.289320945739746 \n",
      "epoch : 6/10, step = 12100/12500, loss = 2.291287660598755 \n",
      "epoch : 6/10, step = 12200/12500, loss = 2.2957189083099365 \n",
      "epoch : 6/10, step = 12300/12500, loss = 2.270564317703247 \n",
      "epoch : 6/10, step = 12400/12500, loss = 2.3079190254211426 \n",
      "epoch : 6/10, step = 12500/12500, loss = 2.3008556365966797 \n",
      "epoch : 7/10, step = 100/12500, loss = 2.306178569793701 \n",
      "epoch : 7/10, step = 200/12500, loss = 2.304208517074585 \n",
      "epoch : 7/10, step = 300/12500, loss = 2.3140456676483154 \n",
      "epoch : 7/10, step = 400/12500, loss = 2.2994062900543213 \n",
      "epoch : 7/10, step = 500/12500, loss = 2.30100417137146 \n",
      "epoch : 7/10, step = 600/12500, loss = 2.284691572189331 \n",
      "epoch : 7/10, step = 700/12500, loss = 2.293731689453125 \n",
      "epoch : 7/10, step = 800/12500, loss = 2.3303277492523193 \n",
      "epoch : 7/10, step = 900/12500, loss = 2.302849769592285 \n",
      "epoch : 7/10, step = 1000/12500, loss = 2.28971529006958 \n",
      "epoch : 7/10, step = 1100/12500, loss = 2.2964048385620117 \n",
      "epoch : 7/10, step = 1200/12500, loss = 2.2855734825134277 \n",
      "epoch : 7/10, step = 1300/12500, loss = 2.293299913406372 \n",
      "epoch : 7/10, step = 1400/12500, loss = 2.287050485610962 \n",
      "epoch : 7/10, step = 1500/12500, loss = 2.3259925842285156 \n",
      "epoch : 7/10, step = 1600/12500, loss = 2.3173959255218506 \n",
      "epoch : 7/10, step = 1700/12500, loss = 2.3043410778045654 \n",
      "epoch : 7/10, step = 1800/12500, loss = 2.310105323791504 \n",
      "epoch : 7/10, step = 1900/12500, loss = 2.296114921569824 \n",
      "epoch : 7/10, step = 2000/12500, loss = 2.303452253341675 \n",
      "epoch : 7/10, step = 2100/12500, loss = 2.3001253604888916 \n",
      "epoch : 7/10, step = 2200/12500, loss = 2.3089137077331543 \n",
      "epoch : 7/10, step = 2300/12500, loss = 2.301645278930664 \n",
      "epoch : 7/10, step = 2400/12500, loss = 2.270179510116577 \n",
      "epoch : 7/10, step = 2500/12500, loss = 2.2929224967956543 \n",
      "epoch : 7/10, step = 2600/12500, loss = 2.2931482791900635 \n",
      "epoch : 7/10, step = 2700/12500, loss = 2.2995667457580566 \n",
      "epoch : 7/10, step = 2800/12500, loss = 2.2741284370422363 \n",
      "epoch : 7/10, step = 2900/12500, loss = 2.3144893646240234 \n",
      "epoch : 7/10, step = 3000/12500, loss = 2.30185866355896 \n",
      "epoch : 7/10, step = 3100/12500, loss = 2.2760891914367676 \n",
      "epoch : 7/10, step = 3200/12500, loss = 2.2920949459075928 \n",
      "epoch : 7/10, step = 3300/12500, loss = 2.2931606769561768 \n",
      "epoch : 7/10, step = 3400/12500, loss = 2.2830305099487305 \n",
      "epoch : 7/10, step = 3500/12500, loss = 2.292279005050659 \n",
      "epoch : 7/10, step = 3600/12500, loss = 2.3040003776550293 \n",
      "epoch : 7/10, step = 3700/12500, loss = 2.3167338371276855 \n",
      "epoch : 7/10, step = 3800/12500, loss = 2.295311450958252 \n",
      "epoch : 7/10, step = 3900/12500, loss = 2.2938971519470215 \n",
      "epoch : 7/10, step = 4000/12500, loss = 2.283247470855713 \n",
      "epoch : 7/10, step = 4100/12500, loss = 2.285059928894043 \n",
      "epoch : 7/10, step = 4200/12500, loss = 2.2888987064361572 \n",
      "epoch : 7/10, step = 4300/12500, loss = 2.275330066680908 \n",
      "epoch : 7/10, step = 4400/12500, loss = 2.2968811988830566 \n",
      "epoch : 7/10, step = 4500/12500, loss = 2.2790422439575195 \n",
      "epoch : 7/10, step = 4600/12500, loss = 2.275552749633789 \n",
      "epoch : 7/10, step = 4700/12500, loss = 2.2771427631378174 \n",
      "epoch : 7/10, step = 4800/12500, loss = 2.2732903957366943 \n",
      "epoch : 7/10, step = 4900/12500, loss = 2.2950782775878906 \n",
      "epoch : 7/10, step = 5000/12500, loss = 2.317150592803955 \n",
      "epoch : 7/10, step = 5100/12500, loss = 2.2797276973724365 \n",
      "epoch : 7/10, step = 5200/12500, loss = 2.290834426879883 \n",
      "epoch : 7/10, step = 5300/12500, loss = 2.2971138954162598 \n",
      "epoch : 7/10, step = 5400/12500, loss = 2.290724039077759 \n",
      "epoch : 7/10, step = 5500/12500, loss = 2.2752621173858643 \n",
      "epoch : 7/10, step = 5600/12500, loss = 2.306609630584717 \n",
      "epoch : 7/10, step = 5700/12500, loss = 2.302424192428589 \n",
      "epoch : 7/10, step = 5800/12500, loss = 2.286654472351074 \n",
      "epoch : 7/10, step = 5900/12500, loss = 2.2945666313171387 \n",
      "epoch : 7/10, step = 6000/12500, loss = 2.280834913253784 \n",
      "epoch : 7/10, step = 6100/12500, loss = 2.302530527114868 \n",
      "epoch : 7/10, step = 6200/12500, loss = 2.304245948791504 \n",
      "epoch : 7/10, step = 6300/12500, loss = 2.305217742919922 \n",
      "epoch : 7/10, step = 6400/12500, loss = 2.303659439086914 \n",
      "epoch : 7/10, step = 6500/12500, loss = 2.2744524478912354 \n",
      "epoch : 7/10, step = 6600/12500, loss = 2.2821736335754395 \n",
      "epoch : 7/10, step = 6700/12500, loss = 2.280330181121826 \n",
      "epoch : 7/10, step = 6800/12500, loss = 2.2947983741760254 \n",
      "epoch : 7/10, step = 6900/12500, loss = 2.303380012512207 \n",
      "epoch : 7/10, step = 7000/12500, loss = 2.2915523052215576 \n",
      "epoch : 7/10, step = 7100/12500, loss = 2.3034257888793945 \n",
      "epoch : 7/10, step = 7200/12500, loss = 2.2906856536865234 \n",
      "epoch : 7/10, step = 7300/12500, loss = 2.298762798309326 \n",
      "epoch : 7/10, step = 7400/12500, loss = 2.2905001640319824 \n",
      "epoch : 7/10, step = 7500/12500, loss = 2.2979581356048584 \n",
      "epoch : 7/10, step = 7600/12500, loss = 2.307270050048828 \n",
      "epoch : 7/10, step = 7700/12500, loss = 2.302255153656006 \n",
      "epoch : 7/10, step = 7800/12500, loss = 2.269500255584717 \n",
      "epoch : 7/10, step = 7900/12500, loss = 2.2999229431152344 \n",
      "epoch : 7/10, step = 8000/12500, loss = 2.284788131713867 \n",
      "epoch : 7/10, step = 8100/12500, loss = 2.3203296661376953 \n",
      "epoch : 7/10, step = 8200/12500, loss = 2.277233123779297 \n",
      "epoch : 7/10, step = 8300/12500, loss = 2.3076705932617188 \n",
      "epoch : 7/10, step = 8400/12500, loss = 2.30865216255188 \n",
      "epoch : 7/10, step = 8500/12500, loss = 2.319462299346924 \n",
      "epoch : 7/10, step = 8600/12500, loss = 2.2845664024353027 \n",
      "epoch : 7/10, step = 8700/12500, loss = 2.3069164752960205 \n",
      "epoch : 7/10, step = 8800/12500, loss = 2.3084027767181396 \n",
      "epoch : 7/10, step = 8900/12500, loss = 2.2916479110717773 \n",
      "epoch : 7/10, step = 9000/12500, loss = 2.2874584197998047 \n",
      "epoch : 7/10, step = 9100/12500, loss = 2.2811999320983887 \n",
      "epoch : 7/10, step = 9200/12500, loss = 2.296375274658203 \n",
      "epoch : 7/10, step = 9300/12500, loss = 2.26578426361084 \n",
      "epoch : 7/10, step = 9400/12500, loss = 2.2894930839538574 \n",
      "epoch : 7/10, step = 9500/12500, loss = 2.286569833755493 \n",
      "epoch : 7/10, step = 9600/12500, loss = 2.310420274734497 \n",
      "epoch : 7/10, step = 9700/12500, loss = 2.317110300064087 \n",
      "epoch : 7/10, step = 9800/12500, loss = 2.3202500343322754 \n",
      "epoch : 7/10, step = 9900/12500, loss = 2.287717580795288 \n",
      "epoch : 7/10, step = 10000/12500, loss = 2.2897253036499023 \n",
      "epoch : 7/10, step = 10100/12500, loss = 2.2607059478759766 \n",
      "epoch : 7/10, step = 10200/12500, loss = 2.303405523300171 \n",
      "epoch : 7/10, step = 10300/12500, loss = 2.2877259254455566 \n",
      "epoch : 7/10, step = 10400/12500, loss = 2.2940173149108887 \n",
      "epoch : 7/10, step = 10500/12500, loss = 2.2975916862487793 \n",
      "epoch : 7/10, step = 10600/12500, loss = 2.2688136100769043 \n",
      "epoch : 7/10, step = 10700/12500, loss = 2.282799482345581 \n",
      "epoch : 7/10, step = 10800/12500, loss = 2.2766573429107666 \n",
      "epoch : 7/10, step = 10900/12500, loss = 2.2801196575164795 \n",
      "epoch : 7/10, step = 11000/12500, loss = 2.284825563430786 \n",
      "epoch : 7/10, step = 11100/12500, loss = 2.300055503845215 \n",
      "epoch : 7/10, step = 11200/12500, loss = 2.304999828338623 \n",
      "epoch : 7/10, step = 11300/12500, loss = 2.2613677978515625 \n",
      "epoch : 7/10, step = 11400/12500, loss = 2.279855728149414 \n",
      "epoch : 7/10, step = 11500/12500, loss = 2.277194023132324 \n",
      "epoch : 7/10, step = 11600/12500, loss = 2.3104963302612305 \n",
      "epoch : 7/10, step = 11700/12500, loss = 2.298619270324707 \n",
      "epoch : 7/10, step = 11800/12500, loss = 2.2827486991882324 \n",
      "epoch : 7/10, step = 11900/12500, loss = 2.2796125411987305 \n",
      "epoch : 7/10, step = 12000/12500, loss = 2.291810989379883 \n",
      "epoch : 7/10, step = 12100/12500, loss = 2.306122064590454 \n",
      "epoch : 7/10, step = 12200/12500, loss = 2.307203531265259 \n",
      "epoch : 7/10, step = 12300/12500, loss = 2.256596803665161 \n",
      "epoch : 7/10, step = 12400/12500, loss = 2.265824794769287 \n",
      "epoch : 7/10, step = 12500/12500, loss = 2.3171348571777344 \n",
      "epoch : 8/10, step = 100/12500, loss = 2.2813429832458496 \n",
      "epoch : 8/10, step = 200/12500, loss = 2.284529447555542 \n",
      "epoch : 8/10, step = 300/12500, loss = 2.2928855419158936 \n",
      "epoch : 8/10, step = 400/12500, loss = 2.255786418914795 \n",
      "epoch : 8/10, step = 500/12500, loss = 2.2835640907287598 \n",
      "epoch : 8/10, step = 600/12500, loss = 2.2924561500549316 \n",
      "epoch : 8/10, step = 700/12500, loss = 2.294278621673584 \n",
      "epoch : 8/10, step = 800/12500, loss = 2.2900915145874023 \n",
      "epoch : 8/10, step = 900/12500, loss = 2.2863478660583496 \n",
      "epoch : 8/10, step = 1000/12500, loss = 2.284642457962036 \n",
      "epoch : 8/10, step = 1100/12500, loss = 2.276493549346924 \n",
      "epoch : 8/10, step = 1200/12500, loss = 2.2904951572418213 \n",
      "epoch : 8/10, step = 1300/12500, loss = 2.278683662414551 \n",
      "epoch : 8/10, step = 1400/12500, loss = 2.3085315227508545 \n",
      "epoch : 8/10, step = 1500/12500, loss = 2.2610321044921875 \n",
      "epoch : 8/10, step = 1600/12500, loss = 2.316226005554199 \n",
      "epoch : 8/10, step = 1700/12500, loss = 2.3080317974090576 \n",
      "epoch : 8/10, step = 1800/12500, loss = 2.286344528198242 \n",
      "epoch : 8/10, step = 1900/12500, loss = 2.315953016281128 \n",
      "epoch : 8/10, step = 2000/12500, loss = 2.3062145709991455 \n",
      "epoch : 8/10, step = 2100/12500, loss = 2.288330078125 \n",
      "epoch : 8/10, step = 2200/12500, loss = 2.299478054046631 \n",
      "epoch : 8/10, step = 2300/12500, loss = 2.303988218307495 \n",
      "epoch : 8/10, step = 2400/12500, loss = 2.2750868797302246 \n",
      "epoch : 8/10, step = 2500/12500, loss = 2.2971138954162598 \n",
      "epoch : 8/10, step = 2600/12500, loss = 2.2771434783935547 \n",
      "epoch : 8/10, step = 2700/12500, loss = 2.301588773727417 \n",
      "epoch : 8/10, step = 2800/12500, loss = 2.272306442260742 \n",
      "epoch : 8/10, step = 2900/12500, loss = 2.2949161529541016 \n",
      "epoch : 8/10, step = 3000/12500, loss = 2.2871522903442383 \n",
      "epoch : 8/10, step = 3100/12500, loss = 2.2853941917419434 \n",
      "epoch : 8/10, step = 3200/12500, loss = 2.283515453338623 \n",
      "epoch : 8/10, step = 3300/12500, loss = 2.312854051589966 \n",
      "epoch : 8/10, step = 3400/12500, loss = 2.2900993824005127 \n",
      "epoch : 8/10, step = 3500/12500, loss = 2.2658185958862305 \n",
      "epoch : 8/10, step = 3600/12500, loss = 2.3329122066497803 \n",
      "epoch : 8/10, step = 3700/12500, loss = 2.3059608936309814 \n",
      "epoch : 8/10, step = 3800/12500, loss = 2.3010640144348145 \n",
      "epoch : 8/10, step = 3900/12500, loss = 2.282691717147827 \n",
      "epoch : 8/10, step = 4000/12500, loss = 2.281482696533203 \n",
      "epoch : 8/10, step = 4100/12500, loss = 2.316946506500244 \n",
      "epoch : 8/10, step = 4200/12500, loss = 2.301262378692627 \n",
      "epoch : 8/10, step = 4300/12500, loss = 2.249192476272583 \n",
      "epoch : 8/10, step = 4400/12500, loss = 2.2883546352386475 \n",
      "epoch : 8/10, step = 4500/12500, loss = 2.2860851287841797 \n",
      "epoch : 8/10, step = 4600/12500, loss = 2.3050642013549805 \n",
      "epoch : 8/10, step = 4700/12500, loss = 2.294887065887451 \n",
      "epoch : 8/10, step = 4800/12500, loss = 2.288949966430664 \n",
      "epoch : 8/10, step = 4900/12500, loss = 2.270078182220459 \n",
      "epoch : 8/10, step = 5000/12500, loss = 2.3267862796783447 \n",
      "epoch : 8/10, step = 5100/12500, loss = 2.3070359230041504 \n",
      "epoch : 8/10, step = 5200/12500, loss = 2.3111701011657715 \n",
      "epoch : 8/10, step = 5300/12500, loss = 2.259392261505127 \n",
      "epoch : 8/10, step = 5400/12500, loss = 2.2783732414245605 \n",
      "epoch : 8/10, step = 5500/12500, loss = 2.3441786766052246 \n",
      "epoch : 8/10, step = 5600/12500, loss = 2.3184778690338135 \n",
      "epoch : 8/10, step = 5700/12500, loss = 2.2815964221954346 \n",
      "epoch : 8/10, step = 5800/12500, loss = 2.3020853996276855 \n",
      "epoch : 8/10, step = 5900/12500, loss = 2.3060526847839355 \n",
      "epoch : 8/10, step = 6000/12500, loss = 2.279353618621826 \n",
      "epoch : 8/10, step = 6100/12500, loss = 2.2908973693847656 \n",
      "epoch : 8/10, step = 6200/12500, loss = 2.313678741455078 \n",
      "epoch : 8/10, step = 6300/12500, loss = 2.292111396789551 \n",
      "epoch : 8/10, step = 6400/12500, loss = 2.309242010116577 \n",
      "epoch : 8/10, step = 6500/12500, loss = 2.3097245693206787 \n",
      "epoch : 8/10, step = 6600/12500, loss = 2.292402505874634 \n",
      "epoch : 8/10, step = 6700/12500, loss = 2.290078639984131 \n",
      "epoch : 8/10, step = 6800/12500, loss = 2.26383113861084 \n",
      "epoch : 8/10, step = 6900/12500, loss = 2.3007612228393555 \n",
      "epoch : 8/10, step = 7000/12500, loss = 2.279872417449951 \n",
      "epoch : 8/10, step = 7100/12500, loss = 2.315267562866211 \n",
      "epoch : 8/10, step = 7200/12500, loss = 2.2897255420684814 \n",
      "epoch : 8/10, step = 7300/12500, loss = 2.3113908767700195 \n",
      "epoch : 8/10, step = 7400/12500, loss = 2.2946581840515137 \n",
      "epoch : 8/10, step = 7500/12500, loss = 2.264983654022217 \n",
      "epoch : 8/10, step = 7600/12500, loss = 2.313865900039673 \n",
      "epoch : 8/10, step = 7700/12500, loss = 2.261070489883423 \n",
      "epoch : 8/10, step = 7800/12500, loss = 2.3068461418151855 \n",
      "epoch : 8/10, step = 7900/12500, loss = 2.283581018447876 \n",
      "epoch : 8/10, step = 8000/12500, loss = 2.346942186355591 \n",
      "epoch : 8/10, step = 8100/12500, loss = 2.305237293243408 \n",
      "epoch : 8/10, step = 8200/12500, loss = 2.2716784477233887 \n",
      "epoch : 8/10, step = 8300/12500, loss = 2.2589900493621826 \n",
      "epoch : 8/10, step = 8400/12500, loss = 2.287674903869629 \n",
      "epoch : 8/10, step = 8500/12500, loss = 2.305187702178955 \n",
      "epoch : 8/10, step = 8600/12500, loss = 2.319373607635498 \n",
      "epoch : 8/10, step = 8700/12500, loss = 2.2805328369140625 \n",
      "epoch : 8/10, step = 8800/12500, loss = 2.2704551219940186 \n",
      "epoch : 8/10, step = 8900/12500, loss = 2.315014362335205 \n",
      "epoch : 8/10, step = 9000/12500, loss = 2.3066415786743164 \n",
      "epoch : 8/10, step = 9100/12500, loss = 2.2541332244873047 \n",
      "epoch : 8/10, step = 9200/12500, loss = 2.293642044067383 \n",
      "epoch : 8/10, step = 9300/12500, loss = 2.2904343605041504 \n",
      "epoch : 8/10, step = 9400/12500, loss = 2.2670211791992188 \n",
      "epoch : 8/10, step = 9500/12500, loss = 2.2891013622283936 \n",
      "epoch : 8/10, step = 9600/12500, loss = 2.286393642425537 \n",
      "epoch : 8/10, step = 9700/12500, loss = 2.308131217956543 \n",
      "epoch : 8/10, step = 9800/12500, loss = 2.265308380126953 \n",
      "epoch : 8/10, step = 9900/12500, loss = 2.298076629638672 \n",
      "epoch : 8/10, step = 10000/12500, loss = 2.3418827056884766 \n",
      "epoch : 8/10, step = 10100/12500, loss = 2.2890243530273438 \n",
      "epoch : 8/10, step = 10200/12500, loss = 2.34525203704834 \n",
      "epoch : 8/10, step = 10300/12500, loss = 2.2639455795288086 \n",
      "epoch : 8/10, step = 10400/12500, loss = 2.302159070968628 \n",
      "epoch : 8/10, step = 10500/12500, loss = 2.2556564807891846 \n",
      "epoch : 8/10, step = 10600/12500, loss = 2.3097171783447266 \n",
      "epoch : 8/10, step = 10700/12500, loss = 2.3059847354888916 \n",
      "epoch : 8/10, step = 10800/12500, loss = 2.285200595855713 \n",
      "epoch : 8/10, step = 10900/12500, loss = 2.2628753185272217 \n",
      "epoch : 8/10, step = 11000/12500, loss = 2.3029072284698486 \n",
      "epoch : 8/10, step = 11100/12500, loss = 2.2913315296173096 \n",
      "epoch : 8/10, step = 11200/12500, loss = 2.322416067123413 \n",
      "epoch : 8/10, step = 11300/12500, loss = 2.2909984588623047 \n",
      "epoch : 8/10, step = 11400/12500, loss = 2.2329487800598145 \n",
      "epoch : 8/10, step = 11500/12500, loss = 2.3287651538848877 \n",
      "epoch : 8/10, step = 11600/12500, loss = 2.302459478378296 \n",
      "epoch : 8/10, step = 11700/12500, loss = 2.3106236457824707 \n",
      "epoch : 8/10, step = 11800/12500, loss = 2.29518461227417 \n",
      "epoch : 8/10, step = 11900/12500, loss = 2.291632890701294 \n",
      "epoch : 8/10, step = 12000/12500, loss = 2.2862672805786133 \n",
      "epoch : 8/10, step = 12100/12500, loss = 2.2800257205963135 \n",
      "epoch : 8/10, step = 12200/12500, loss = 2.2821555137634277 \n",
      "epoch : 8/10, step = 12300/12500, loss = 2.240356683731079 \n",
      "epoch : 8/10, step = 12400/12500, loss = 2.3057491779327393 \n",
      "epoch : 8/10, step = 12500/12500, loss = 2.2428059577941895 \n",
      "epoch : 9/10, step = 100/12500, loss = 2.2564358711242676 \n",
      "epoch : 9/10, step = 200/12500, loss = 2.2972676753997803 \n",
      "epoch : 9/10, step = 300/12500, loss = 2.292985677719116 \n",
      "epoch : 9/10, step = 400/12500, loss = 2.320295572280884 \n",
      "epoch : 9/10, step = 500/12500, loss = 2.2857728004455566 \n",
      "epoch : 9/10, step = 600/12500, loss = 2.2691845893859863 \n",
      "epoch : 9/10, step = 700/12500, loss = 2.2899842262268066 \n",
      "epoch : 9/10, step = 800/12500, loss = 2.272174119949341 \n",
      "epoch : 9/10, step = 900/12500, loss = 2.2589175701141357 \n",
      "epoch : 9/10, step = 1000/12500, loss = 2.310713529586792 \n",
      "epoch : 9/10, step = 1100/12500, loss = 2.314239025115967 \n",
      "epoch : 9/10, step = 1200/12500, loss = 2.2701609134674072 \n",
      "epoch : 9/10, step = 1300/12500, loss = 2.2886128425598145 \n",
      "epoch : 9/10, step = 1400/12500, loss = 2.3212594985961914 \n",
      "epoch : 9/10, step = 1500/12500, loss = 2.304220199584961 \n",
      "epoch : 9/10, step = 1600/12500, loss = 2.3035531044006348 \n",
      "epoch : 9/10, step = 1700/12500, loss = 2.2861311435699463 \n",
      "epoch : 9/10, step = 1800/12500, loss = 2.314072608947754 \n",
      "epoch : 9/10, step = 1900/12500, loss = 2.2613396644592285 \n",
      "epoch : 9/10, step = 2000/12500, loss = 2.3094236850738525 \n",
      "epoch : 9/10, step = 2100/12500, loss = 2.2684788703918457 \n",
      "epoch : 9/10, step = 2200/12500, loss = 2.287142753601074 \n",
      "epoch : 9/10, step = 2300/12500, loss = 2.282686471939087 \n",
      "epoch : 9/10, step = 2400/12500, loss = 2.3354310989379883 \n",
      "epoch : 9/10, step = 2500/12500, loss = 2.292163610458374 \n",
      "epoch : 9/10, step = 2600/12500, loss = 2.302943468093872 \n",
      "epoch : 9/10, step = 2700/12500, loss = 2.3228566646575928 \n",
      "epoch : 9/10, step = 2800/12500, loss = 2.2471671104431152 \n",
      "epoch : 9/10, step = 2900/12500, loss = 2.2802648544311523 \n",
      "epoch : 9/10, step = 3000/12500, loss = 2.2870914936065674 \n",
      "epoch : 9/10, step = 3100/12500, loss = 2.3216042518615723 \n",
      "epoch : 9/10, step = 3200/12500, loss = 2.2844700813293457 \n",
      "epoch : 9/10, step = 3300/12500, loss = 2.2655422687530518 \n",
      "epoch : 9/10, step = 3400/12500, loss = 2.3095264434814453 \n",
      "epoch : 9/10, step = 3500/12500, loss = 2.2882137298583984 \n",
      "epoch : 9/10, step = 3600/12500, loss = 2.288966178894043 \n",
      "epoch : 9/10, step = 3700/12500, loss = 2.313549041748047 \n",
      "epoch : 9/10, step = 3800/12500, loss = 2.295814037322998 \n",
      "epoch : 9/10, step = 3900/12500, loss = 2.313950300216675 \n",
      "epoch : 9/10, step = 4000/12500, loss = 2.2536141872406006 \n",
      "epoch : 9/10, step = 4100/12500, loss = 2.26241397857666 \n",
      "epoch : 9/10, step = 4200/12500, loss = 2.249858856201172 \n",
      "epoch : 9/10, step = 4300/12500, loss = 2.298119068145752 \n",
      "epoch : 9/10, step = 4400/12500, loss = 2.3270068168640137 \n",
      "epoch : 9/10, step = 4500/12500, loss = 2.2467007637023926 \n",
      "epoch : 9/10, step = 4600/12500, loss = 2.301753044128418 \n",
      "epoch : 9/10, step = 4700/12500, loss = 2.28190279006958 \n",
      "epoch : 9/10, step = 4800/12500, loss = 2.293501615524292 \n",
      "epoch : 9/10, step = 4900/12500, loss = 2.3320088386535645 \n",
      "epoch : 9/10, step = 5000/12500, loss = 2.2777867317199707 \n",
      "epoch : 9/10, step = 5100/12500, loss = 2.308176040649414 \n",
      "epoch : 9/10, step = 5200/12500, loss = 2.291267156600952 \n",
      "epoch : 9/10, step = 5300/12500, loss = 2.317833423614502 \n",
      "epoch : 9/10, step = 5400/12500, loss = 2.3112871646881104 \n",
      "epoch : 9/10, step = 5500/12500, loss = 2.2616467475891113 \n",
      "epoch : 9/10, step = 5600/12500, loss = 2.3293800354003906 \n",
      "epoch : 9/10, step = 5700/12500, loss = 2.2666683197021484 \n",
      "epoch : 9/10, step = 5800/12500, loss = 2.282240867614746 \n",
      "epoch : 9/10, step = 5900/12500, loss = 2.301237106323242 \n",
      "epoch : 9/10, step = 6000/12500, loss = 2.262835741043091 \n",
      "epoch : 9/10, step = 6100/12500, loss = 2.197567939758301 \n",
      "epoch : 9/10, step = 6200/12500, loss = 2.274731397628784 \n",
      "epoch : 9/10, step = 6300/12500, loss = 2.312467575073242 \n",
      "epoch : 9/10, step = 6400/12500, loss = 2.303208589553833 \n",
      "epoch : 9/10, step = 6500/12500, loss = 2.2705440521240234 \n",
      "epoch : 9/10, step = 6600/12500, loss = 2.3012924194335938 \n",
      "epoch : 9/10, step = 6700/12500, loss = 2.2439260482788086 \n",
      "epoch : 9/10, step = 6800/12500, loss = 2.2813796997070312 \n",
      "epoch : 9/10, step = 6900/12500, loss = 2.2689368724823 \n",
      "epoch : 9/10, step = 7000/12500, loss = 2.305662155151367 \n",
      "epoch : 9/10, step = 7100/12500, loss = 2.2888622283935547 \n",
      "epoch : 9/10, step = 7200/12500, loss = 2.264167547225952 \n",
      "epoch : 9/10, step = 7300/12500, loss = 2.270148277282715 \n",
      "epoch : 9/10, step = 7400/12500, loss = 2.282365083694458 \n",
      "epoch : 9/10, step = 7500/12500, loss = 2.331164836883545 \n",
      "epoch : 9/10, step = 7600/12500, loss = 2.239431858062744 \n",
      "epoch : 9/10, step = 7700/12500, loss = 2.2887494564056396 \n",
      "epoch : 9/10, step = 7800/12500, loss = 2.3108162879943848 \n",
      "epoch : 9/10, step = 7900/12500, loss = 2.314324140548706 \n",
      "epoch : 9/10, step = 8000/12500, loss = 2.299724578857422 \n",
      "epoch : 9/10, step = 8100/12500, loss = 2.278322696685791 \n",
      "epoch : 9/10, step = 8200/12500, loss = 2.280811071395874 \n",
      "epoch : 9/10, step = 8300/12500, loss = 2.3300106525421143 \n",
      "epoch : 9/10, step = 8400/12500, loss = 2.2722387313842773 \n",
      "epoch : 9/10, step = 8500/12500, loss = 2.339954376220703 \n",
      "epoch : 9/10, step = 8600/12500, loss = 2.2770261764526367 \n",
      "epoch : 9/10, step = 8700/12500, loss = 2.2612931728363037 \n",
      "epoch : 9/10, step = 8800/12500, loss = 2.293578863143921 \n",
      "epoch : 9/10, step = 8900/12500, loss = 2.2603442668914795 \n",
      "epoch : 9/10, step = 9000/12500, loss = 2.317869186401367 \n",
      "epoch : 9/10, step = 9100/12500, loss = 2.2681353092193604 \n",
      "epoch : 9/10, step = 9200/12500, loss = 2.3060860633850098 \n",
      "epoch : 9/10, step = 9300/12500, loss = 2.277276039123535 \n",
      "epoch : 9/10, step = 9400/12500, loss = 2.275935173034668 \n",
      "epoch : 9/10, step = 9500/12500, loss = 2.276292085647583 \n",
      "epoch : 9/10, step = 9600/12500, loss = 2.331027030944824 \n",
      "epoch : 9/10, step = 9700/12500, loss = 2.3201682567596436 \n",
      "epoch : 9/10, step = 9800/12500, loss = 2.291715621948242 \n",
      "epoch : 9/10, step = 9900/12500, loss = 2.2708628177642822 \n",
      "epoch : 9/10, step = 10000/12500, loss = 2.2719106674194336 \n",
      "epoch : 9/10, step = 10100/12500, loss = 2.299051284790039 \n",
      "epoch : 9/10, step = 10200/12500, loss = 2.2114994525909424 \n",
      "epoch : 9/10, step = 10300/12500, loss = 2.274054527282715 \n",
      "epoch : 9/10, step = 10400/12500, loss = 2.2733030319213867 \n",
      "epoch : 9/10, step = 10500/12500, loss = 2.2364020347595215 \n",
      "epoch : 9/10, step = 10600/12500, loss = 2.295060157775879 \n",
      "epoch : 9/10, step = 10700/12500, loss = 2.356721878051758 \n",
      "epoch : 9/10, step = 10800/12500, loss = 2.225255250930786 \n",
      "epoch : 9/10, step = 10900/12500, loss = 2.298548698425293 \n",
      "epoch : 9/10, step = 11000/12500, loss = 2.2723264694213867 \n",
      "epoch : 9/10, step = 11100/12500, loss = 2.2592883110046387 \n",
      "epoch : 9/10, step = 11200/12500, loss = 2.224801540374756 \n",
      "epoch : 9/10, step = 11300/12500, loss = 2.2881970405578613 \n",
      "epoch : 9/10, step = 11400/12500, loss = 2.2695746421813965 \n",
      "epoch : 9/10, step = 11500/12500, loss = 2.2836060523986816 \n",
      "epoch : 9/10, step = 11600/12500, loss = 2.3187670707702637 \n",
      "epoch : 9/10, step = 11700/12500, loss = 2.2104742527008057 \n",
      "epoch : 9/10, step = 11800/12500, loss = 2.28485107421875 \n",
      "epoch : 9/10, step = 11900/12500, loss = 2.3071138858795166 \n",
      "epoch : 9/10, step = 12000/12500, loss = 2.330693483352661 \n",
      "epoch : 9/10, step = 12100/12500, loss = 2.3782958984375 \n",
      "epoch : 9/10, step = 12200/12500, loss = 2.2777633666992188 \n",
      "epoch : 9/10, step = 12300/12500, loss = 2.2953290939331055 \n",
      "epoch : 9/10, step = 12400/12500, loss = 2.2248141765594482 \n",
      "epoch : 9/10, step = 12500/12500, loss = 2.288731336593628 \n",
      "epoch : 10/10, step = 100/12500, loss = 2.3163721561431885 \n",
      "epoch : 10/10, step = 200/12500, loss = 2.274677276611328 \n",
      "epoch : 10/10, step = 300/12500, loss = 2.283294916152954 \n",
      "epoch : 10/10, step = 400/12500, loss = 2.273787498474121 \n",
      "epoch : 10/10, step = 500/12500, loss = 2.3150761127471924 \n",
      "epoch : 10/10, step = 600/12500, loss = 2.290255069732666 \n",
      "epoch : 10/10, step = 700/12500, loss = 2.2311525344848633 \n",
      "epoch : 10/10, step = 800/12500, loss = 2.287776470184326 \n",
      "epoch : 10/10, step = 900/12500, loss = 2.2555575370788574 \n",
      "epoch : 10/10, step = 1000/12500, loss = 2.2872042655944824 \n",
      "epoch : 10/10, step = 1100/12500, loss = 2.242105007171631 \n",
      "epoch : 10/10, step = 1200/12500, loss = 2.289903163909912 \n",
      "epoch : 10/10, step = 1300/12500, loss = 2.302279472351074 \n",
      "epoch : 10/10, step = 1400/12500, loss = 2.250027894973755 \n",
      "epoch : 10/10, step = 1500/12500, loss = 2.285825729370117 \n",
      "epoch : 10/10, step = 1600/12500, loss = 2.268144130706787 \n",
      "epoch : 10/10, step = 1700/12500, loss = 2.277622699737549 \n",
      "epoch : 10/10, step = 1800/12500, loss = 2.210024356842041 \n",
      "epoch : 10/10, step = 1900/12500, loss = 2.2718887329101562 \n",
      "epoch : 10/10, step = 2000/12500, loss = 2.1954245567321777 \n",
      "epoch : 10/10, step = 2100/12500, loss = 2.266223907470703 \n",
      "epoch : 10/10, step = 2200/12500, loss = 2.251845359802246 \n",
      "epoch : 10/10, step = 2300/12500, loss = 2.3232944011688232 \n",
      "epoch : 10/10, step = 2400/12500, loss = 2.2867050170898438 \n",
      "epoch : 10/10, step = 2500/12500, loss = 2.303719997406006 \n",
      "epoch : 10/10, step = 2600/12500, loss = 2.249077320098877 \n",
      "epoch : 10/10, step = 2700/12500, loss = 2.2340919971466064 \n",
      "epoch : 10/10, step = 2800/12500, loss = 2.3106727600097656 \n",
      "epoch : 10/10, step = 2900/12500, loss = 2.2530388832092285 \n",
      "epoch : 10/10, step = 3000/12500, loss = 2.32767391204834 \n",
      "epoch : 10/10, step = 3100/12500, loss = 2.2646851539611816 \n",
      "epoch : 10/10, step = 3200/12500, loss = 2.3580734729766846 \n",
      "epoch : 10/10, step = 3300/12500, loss = 2.2742180824279785 \n",
      "epoch : 10/10, step = 3400/12500, loss = 2.3286447525024414 \n",
      "epoch : 10/10, step = 3500/12500, loss = 2.220885753631592 \n",
      "epoch : 10/10, step = 3600/12500, loss = 2.3676915168762207 \n",
      "epoch : 10/10, step = 3700/12500, loss = 2.2889950275421143 \n",
      "epoch : 10/10, step = 3800/12500, loss = 2.2502198219299316 \n",
      "epoch : 10/10, step = 3900/12500, loss = 2.225770950317383 \n",
      "epoch : 10/10, step = 4000/12500, loss = 2.2804555892944336 \n",
      "epoch : 10/10, step = 4100/12500, loss = 2.3054428100585938 \n",
      "epoch : 10/10, step = 4200/12500, loss = 2.2893266677856445 \n",
      "epoch : 10/10, step = 4300/12500, loss = 2.2858002185821533 \n",
      "epoch : 10/10, step = 4400/12500, loss = 2.2631897926330566 \n",
      "epoch : 10/10, step = 4500/12500, loss = 2.2769622802734375 \n",
      "epoch : 10/10, step = 4600/12500, loss = 2.3053159713745117 \n",
      "epoch : 10/10, step = 4700/12500, loss = 2.3050436973571777 \n",
      "epoch : 10/10, step = 4800/12500, loss = 2.240938663482666 \n",
      "epoch : 10/10, step = 4900/12500, loss = 2.222693920135498 \n",
      "epoch : 10/10, step = 5000/12500, loss = 2.2601165771484375 \n",
      "epoch : 10/10, step = 5100/12500, loss = 2.285923957824707 \n",
      "epoch : 10/10, step = 5200/12500, loss = 2.2278928756713867 \n",
      "epoch : 10/10, step = 5300/12500, loss = 2.3324995040893555 \n",
      "epoch : 10/10, step = 5400/12500, loss = 2.3333466053009033 \n",
      "epoch : 10/10, step = 5500/12500, loss = 2.221604347229004 \n",
      "epoch : 10/10, step = 5600/12500, loss = 2.214026927947998 \n",
      "epoch : 10/10, step = 5700/12500, loss = 2.299802303314209 \n",
      "epoch : 10/10, step = 5800/12500, loss = 2.200148344039917 \n",
      "epoch : 10/10, step = 5900/12500, loss = 2.2887260913848877 \n",
      "epoch : 10/10, step = 6000/12500, loss = 2.2991738319396973 \n",
      "epoch : 10/10, step = 6100/12500, loss = 2.2899885177612305 \n",
      "epoch : 10/10, step = 6200/12500, loss = 2.253326416015625 \n",
      "epoch : 10/10, step = 6300/12500, loss = 2.3164315223693848 \n",
      "epoch : 10/10, step = 6400/12500, loss = 2.269639253616333 \n",
      "epoch : 10/10, step = 6500/12500, loss = 2.2334020137786865 \n",
      "epoch : 10/10, step = 6600/12500, loss = 2.2895240783691406 \n",
      "epoch : 10/10, step = 6700/12500, loss = 2.274622917175293 \n",
      "epoch : 10/10, step = 6800/12500, loss = 2.337542772293091 \n",
      "epoch : 10/10, step = 6900/12500, loss = 2.219419002532959 \n",
      "epoch : 10/10, step = 7000/12500, loss = 2.1974284648895264 \n",
      "epoch : 10/10, step = 7100/12500, loss = 2.2690606117248535 \n",
      "epoch : 10/10, step = 7200/12500, loss = 2.24139404296875 \n",
      "epoch : 10/10, step = 7300/12500, loss = 2.236903190612793 \n",
      "epoch : 10/10, step = 7400/12500, loss = 2.254232883453369 \n",
      "epoch : 10/10, step = 7500/12500, loss = 2.12817120552063 \n",
      "epoch : 10/10, step = 7600/12500, loss = 2.3796350955963135 \n",
      "epoch : 10/10, step = 7700/12500, loss = 2.2201318740844727 \n",
      "epoch : 10/10, step = 7800/12500, loss = 2.1956748962402344 \n",
      "epoch : 10/10, step = 7900/12500, loss = 2.162386894226074 \n",
      "epoch : 10/10, step = 8000/12500, loss = 2.2166757583618164 \n",
      "epoch : 10/10, step = 8100/12500, loss = 2.2370903491973877 \n",
      "epoch : 10/10, step = 8200/12500, loss = 2.275333881378174 \n",
      "epoch : 10/10, step = 8300/12500, loss = 2.2583494186401367 \n",
      "epoch : 10/10, step = 8400/12500, loss = 2.2240757942199707 \n",
      "epoch : 10/10, step = 8500/12500, loss = 2.305112838745117 \n",
      "epoch : 10/10, step = 8600/12500, loss = 2.2050580978393555 \n",
      "epoch : 10/10, step = 8700/12500, loss = 2.1826844215393066 \n",
      "epoch : 10/10, step = 8800/12500, loss = 2.2991509437561035 \n",
      "epoch : 10/10, step = 8900/12500, loss = 2.2913951873779297 \n",
      "epoch : 10/10, step = 9000/12500, loss = 2.241677761077881 \n",
      "epoch : 10/10, step = 9100/12500, loss = 2.3579659461975098 \n",
      "epoch : 10/10, step = 9200/12500, loss = 2.266876220703125 \n",
      "epoch : 10/10, step = 9300/12500, loss = 2.2348647117614746 \n",
      "epoch : 10/10, step = 9400/12500, loss = 2.3017737865448 \n",
      "epoch : 10/10, step = 9500/12500, loss = 2.3755545616149902 \n",
      "epoch : 10/10, step = 9600/12500, loss = 2.2754180431365967 \n",
      "epoch : 10/10, step = 9700/12500, loss = 2.251142740249634 \n",
      "epoch : 10/10, step = 9800/12500, loss = 2.2731332778930664 \n",
      "epoch : 10/10, step = 9900/12500, loss = 2.2918198108673096 \n",
      "epoch : 10/10, step = 10000/12500, loss = 2.3455657958984375 \n",
      "epoch : 10/10, step = 10100/12500, loss = 2.233027219772339 \n",
      "epoch : 10/10, step = 10200/12500, loss = 2.255044460296631 \n",
      "epoch : 10/10, step = 10300/12500, loss = 2.204493284225464 \n",
      "epoch : 10/10, step = 10400/12500, loss = 2.264181137084961 \n",
      "epoch : 10/10, step = 10500/12500, loss = 2.3227949142456055 \n",
      "epoch : 10/10, step = 10600/12500, loss = 2.314136505126953 \n",
      "epoch : 10/10, step = 10700/12500, loss = 2.3578896522521973 \n",
      "epoch : 10/10, step = 10800/12500, loss = 2.2874786853790283 \n",
      "epoch : 10/10, step = 10900/12500, loss = 2.3027851581573486 \n",
      "epoch : 10/10, step = 11000/12500, loss = 2.2969868183135986 \n",
      "epoch : 10/10, step = 11100/12500, loss = 2.2379989624023438 \n",
      "epoch : 10/10, step = 11200/12500, loss = 2.256396770477295 \n",
      "epoch : 10/10, step = 11300/12500, loss = 2.2368102073669434 \n",
      "epoch : 10/10, step = 11400/12500, loss = 2.2223873138427734 \n",
      "epoch : 10/10, step = 11500/12500, loss = 2.305392026901245 \n",
      "epoch : 10/10, step = 11600/12500, loss = 2.3204967975616455 \n",
      "epoch : 10/10, step = 11700/12500, loss = 2.2945456504821777 \n",
      "epoch : 10/10, step = 11800/12500, loss = 2.3185787200927734 \n",
      "epoch : 10/10, step = 11900/12500, loss = 2.289210796356201 \n",
      "epoch : 10/10, step = 12000/12500, loss = 2.1838583946228027 \n",
      "epoch : 10/10, step = 12100/12500, loss = 2.347571611404419 \n",
      "epoch : 10/10, step = 12200/12500, loss = 2.289691925048828 \n",
      "epoch : 10/10, step = 12300/12500, loss = 2.20214581489563 \n",
      "epoch : 10/10, step = 12400/12500, loss = 2.3835320472717285 \n",
      "epoch : 10/10, step = 12500/12500, loss = 2.312847375869751 \n"
     ]
    }
   ],
   "source": [
    "## training loop\n",
    "\n",
    "n_total_steps = len(train_loader)\n",
    "\n",
    "for epoch in range(num_epochs):\n",
    "    for i,(images, labels) in enumerate(train_loader):\n",
    "        ## original data [4,3,32,32] -> 4,3,1024\n",
    "        ## input_layer : 3 input channels, 6 output channels, 5 kernel size\n",
    "        # images = images.reshape(-1, 28*28).to(device)\n",
    "        # labels = labels.to(device)\n",
    "        \n",
    "        images = images\n",
    "        labels = labels\n",
    "        \n",
    "        # forwards\n",
    "        output = model(images)\n",
    "        loss = criterion(output, labels)\n",
    "        \n",
    "        #backward\n",
    "        optimizer.zero_grad()\n",
    "        loss.backward()\n",
    "        optimizer.step()\n",
    "        \n",
    "        if (i+1) % 100 == 0:\n",
    "            print(f\"epoch : {epoch+1}/{num_epochs}, step = {i+1}/{n_total_steps}, loss = {loss.item()} \")"
   ]
  },
  {
   "cell_type": "code",
   "execution_count": 212,
   "metadata": {},
   "outputs": [
    {
     "name": "stdout",
     "output_type": "stream",
     "text": [
      "Accuracy :  14.6\n"
     ]
    }
   ],
   "source": [
    "# test\n",
    "with torch.no_grad():\n",
    "    n_correct = 0\n",
    "    n_samples = 0\n",
    "    n_class_correct = [0 for i in range(10)]\n",
    "    n_class_samples = [0 for i in range(10)]\n",
    "    for images, labels in test_loader:\n",
    "        # images = images.to(device)\n",
    "        # labels = labels.to(device)\n",
    "        images = images\n",
    "        labels = labels\n",
    "        outputs = model(images)\n",
    "        \n",
    "        _,predictions = torch.max(outputs, 1)\n",
    "        n_samples += labels.shape[0]\n",
    "        n_correct += (predictions == labels).sum().item()\n",
    "        \n",
    "        for i in range(batch_size):\n",
    "            label = labels[i]\n",
    "            pred = predictions[i]\n",
    "            if label == pred:\n",
    "                n_class_correct[label] += 1\n",
    "            n_class_samples[label] += 1\n",
    "            \n",
    "    acc = 100.0* n_correct/n_samples  \n",
    "    \n",
    "print(\"Accuracy : \", acc)\n"
   ]
  },
  {
   "cell_type": "code",
   "execution_count": 213,
   "metadata": {},
   "outputs": [
    {
     "name": "stdout",
     "output_type": "stream",
     "text": [
      "Accuray of plane : 2.2%\n",
      "Accuray of car : 0.0%\n",
      "Accuray of bird : 0.2%\n",
      "Accuray of cat : 0.0%\n",
      "Accuray of deer : 0.0%\n",
      "Accuray of dog : 0.0%\n",
      "Accuray of frog : 85.6%\n",
      "Accuray of horse : 5.5%\n",
      "Accuray of ship : 1.3%\n",
      "Accuray of truck : 51.2%\n"
     ]
    }
   ],
   "source": [
    "for i in range(10):\n",
    "    acc = 100 * n_class_correct[i]/n_class_samples[i]\n",
    "    print(f'Accuray of {classes[i]} : {acc}%')"
   ]
  },
  {
   "attachments": {},
   "cell_type": "markdown",
   "metadata": {},
   "source": [
    "## Transfer Learning"
   ]
  },
  {
   "attachments": {},
   "cell_type": "markdown",
   "metadata": {},
   "source": [
    "![tranferLearning](img\\transfer_learning.png)"
   ]
  },
  {
   "attachments": {},
   "cell_type": "markdown",
   "metadata": {},
   "source": [
    "- Images Folder\n",
    "- Schedular\n",
    "- Tranfer Learning"
   ]
  },
  {
   "cell_type": "code",
   "execution_count": 224,
   "metadata": {},
   "outputs": [],
   "source": [
    "import torch\n",
    "import torch.nn as nn\n",
    "import torch.optim as optim\n",
    "from torch.optim import lr_scheduler\n",
    "import numpy as np\n",
    "import torchvision\n",
    "from torchvision import datasets, models, transforms\n",
    "import matplotlib.pyplot as plt\n",
    "import time\n",
    "import os\n",
    "import copy\n"
   ]
  },
  {
   "cell_type": "code",
   "execution_count": 232,
   "metadata": {},
   "outputs": [],
   "source": [
    "\n",
    "mean = np.array([0.5, 0.5, 0.5])\n",
    "std = np.array([0.25, 0.25, 0.25])\n",
    "\n",
    "data_transforms = {\n",
    "    'train': transforms.Compose([\n",
    "        transforms.RandomResizedCrop(224),\n",
    "        transforms.RandomHorizontalFlip(),\n",
    "        transforms.ToTensor(),\n",
    "        transforms.Normalize(mean, std)\n",
    "    ]),\n",
    "    'val': transforms.Compose([\n",
    "        transforms.Resize(256),\n",
    "        transforms.CenterCrop(224),\n",
    "        transforms.ToTensor(),\n",
    "        transforms.Normalize(mean, std)\n",
    "    ]),\n",
    "}\n"
   ]
  },
  {
   "cell_type": "code",
   "execution_count": 233,
   "metadata": {},
   "outputs": [],
   "source": [
    "\n",
    "data_dir = 'datasets/hymenoptera_data'\n",
    "image_datasets = {x: datasets.ImageFolder(os.path.join(data_dir, x),\n",
    "                                          data_transforms[x])\n",
    "                  for x in ['train', 'val']}\n",
    "dataloaders = {x: torch.utils.data.DataLoader(image_datasets[x], batch_size=4,\n",
    "                                             shuffle=True, num_workers=0)\n",
    "              for x in ['train', 'val']}\n",
    "dataset_sizes = {x: len(image_datasets[x]) for x in ['train', 'val']}\n",
    "class_names = image_datasets['train'].classes\n"
   ]
  },
  {
   "cell_type": "code",
   "execution_count": 240,
   "metadata": {},
   "outputs": [
    {
     "name": "stdout",
     "output_type": "stream",
     "text": [
      "['ants', 'bees']\n"
     ]
    }
   ],
   "source": [
    "\n",
    "device = torch.device(\"cuda:0\" if torch.cuda.is_available() else \"cpu\")\n",
    "print(class_names)"
   ]
  },
  {
   "cell_type": "code",
   "execution_count": 241,
   "metadata": {},
   "outputs": [],
   "source": [
    "\n",
    "def imshow(inp, title):\n",
    "    \"\"\"Imshow for Tensor.\"\"\"\n",
    "    inp = inp.numpy().transpose((1, 2, 0))\n",
    "    inp = std * inp + mean\n",
    "    inp = np.clip(inp, 0, 1)\n",
    "    plt.imshow(inp)\n",
    "    plt.title(title)\n",
    "    plt.show()\n"
   ]
  },
  {
   "cell_type": "code",
   "execution_count": 242,
   "metadata": {},
   "outputs": [
    {
     "data": {
      "image/png": "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",
      "text/plain": [
       "<Figure size 640x480 with 1 Axes>"
      ]
     },
     "metadata": {},
     "output_type": "display_data"
    }
   ],
   "source": [
    "\n",
    "# Get a batch of training data\n",
    "inputs, classes = next(iter(dataloaders['train']))\n",
    "\n",
    "# Make a grid from batch\n",
    "out = torchvision.utils.make_grid(inputs)\n",
    "\n",
    "imshow(out, title=[class_names[x] for x in classes])\n"
   ]
  },
  {
   "cell_type": "code",
   "execution_count": 243,
   "metadata": {},
   "outputs": [],
   "source": [
    "\n",
    "def train_model(model, criterion, optimizer, scheduler, num_epochs=25):\n",
    "    since = time.time()\n",
    "\n",
    "    best_model_wts = copy.deepcopy(model.state_dict())\n",
    "    best_acc = 0.0\n",
    "\n",
    "    for epoch in range(num_epochs):\n",
    "        print('Epoch {}/{}'.format(epoch, num_epochs - 1))\n",
    "        print('-' * 10)\n",
    "\n",
    "        # Each epoch has a training and validation phase\n",
    "        for phase in ['train', 'val']:\n",
    "            if phase == 'train':\n",
    "                model.train()  # Set model to training mode\n",
    "            else:\n",
    "                model.eval()   # Set model to evaluate mode\n",
    "\n",
    "            running_loss = 0.0\n",
    "            running_corrects = 0\n",
    "\n",
    "            # Iterate over data.\n",
    "            for inputs, labels in dataloaders[phase]:\n",
    "                inputs = inputs.to(device)\n",
    "                labels = labels.to(device)\n",
    "\n",
    "                # forward\n",
    "                # track history if only in train\n",
    "                with torch.set_grad_enabled(phase == 'train'):\n",
    "                    outputs = model(inputs)\n",
    "                    _, preds = torch.max(outputs, 1)\n",
    "                    loss = criterion(outputs, labels)\n",
    "\n",
    "                    # backward + optimize only if in training phase\n",
    "                    if phase == 'train':\n",
    "                        optimizer.zero_grad()\n",
    "                        loss.backward()\n",
    "                        optimizer.step()\n",
    "\n",
    "                # statistics\n",
    "                running_loss += loss.item() * inputs.size(0)\n",
    "                running_corrects += torch.sum(preds == labels.data)\n",
    "\n",
    "            if phase == 'train':\n",
    "                scheduler.step()\n",
    "\n",
    "            epoch_loss = running_loss / dataset_sizes[phase]\n",
    "            epoch_acc = running_corrects.double() / dataset_sizes[phase]\n",
    "\n",
    "            print('{} Loss: {:.4f} Acc: {:.4f}'.format(\n",
    "                phase, epoch_loss, epoch_acc))\n",
    "\n",
    "            # deep copy the model\n",
    "            if phase == 'val' and epoch_acc > best_acc:\n",
    "                best_acc = epoch_acc\n",
    "                best_model_wts = copy.deepcopy(model.state_dict())\n",
    "\n",
    "        print()\n",
    "\n",
    "    time_elapsed = time.time() - since\n",
    "    print('Training complete in {:.0f}m {:.0f}s'.format(\n",
    "        time_elapsed // 60, time_elapsed % 60))\n",
    "    print('Best val Acc: {:4f}'.format(best_acc))\n",
    "\n",
    "    # load best model weights\n",
    "    model.load_state_dict(best_model_wts)\n",
    "    return model\n"
   ]
  },
  {
   "cell_type": "code",
   "execution_count": 244,
   "metadata": {},
   "outputs": [
    {
     "name": "stderr",
     "output_type": "stream",
     "text": [
      "d:\\anaconda3\\envs\\huggingface\\lib\\site-packages\\torchvision\\models\\_utils.py:208: UserWarning: The parameter 'pretrained' is deprecated since 0.13 and may be removed in the future, please use 'weights' instead.\n",
      "  warnings.warn(\n",
      "d:\\anaconda3\\envs\\huggingface\\lib\\site-packages\\torchvision\\models\\_utils.py:223: UserWarning: Arguments other than a weight enum or `None` for 'weights' are deprecated since 0.13 and may be removed in the future. The current behavior is equivalent to passing `weights=ResNet18_Weights.IMAGENET1K_V1`. You can also use `weights=ResNet18_Weights.DEFAULT` to get the most up-to-date weights.\n",
      "  warnings.warn(msg)\n",
      "Downloading: \"https://download.pytorch.org/models/resnet18-f37072fd.pth\" to C:\\Users\\syeds/.cache\\torch\\hub\\checkpoints\\resnet18-f37072fd.pth\n"
     ]
    },
    {
     "data": {
      "application/vnd.jupyter.widget-view+json": {
       "model_id": "0150e0d607d84c90a32f1ceb33446bc2",
       "version_major": 2,
       "version_minor": 0
      },
      "text/plain": [
       "  0%|          | 0.00/44.7M [00:00<?, ?B/s]"
      ]
     },
     "metadata": {},
     "output_type": "display_data"
    }
   ],
   "source": [
    "\n",
    "#### Finetuning the convnet ####\n",
    "# Load a pretrained model and reset final fully connected layer.\n",
    "\n",
    "model = models.resnet18(pretrained=True)\n",
    "num_ftrs = model.fc.in_features\n"
   ]
  },
  {
   "cell_type": "code",
   "execution_count": 245,
   "metadata": {},
   "outputs": [
    {
     "data": {
      "text/plain": [
       "512"
      ]
     },
     "execution_count": 245,
     "metadata": {},
     "output_type": "execute_result"
    }
   ],
   "source": [
    "num_ftrs"
   ]
  },
  {
   "cell_type": "code",
   "execution_count": 246,
   "metadata": {},
   "outputs": [
    {
     "name": "stdout",
     "output_type": "stream",
     "text": [
      "Epoch 0/24\n",
      "----------\n",
      "train Loss: 0.6711 Acc: 0.5738\n",
      "val Loss: 0.4793 Acc: 0.8431\n",
      "\n",
      "Epoch 1/24\n",
      "----------\n",
      "train Loss: 0.5304 Acc: 0.7459\n",
      "val Loss: 0.3571 Acc: 0.8954\n",
      "\n",
      "Epoch 2/24\n",
      "----------\n",
      "train Loss: 0.4235 Acc: 0.8279\n",
      "val Loss: 0.2794 Acc: 0.9216\n",
      "\n",
      "Epoch 3/24\n",
      "----------\n",
      "train Loss: 0.4271 Acc: 0.8074\n",
      "val Loss: 0.2534 Acc: 0.9281\n",
      "\n",
      "Epoch 4/24\n",
      "----------\n",
      "train Loss: 0.4243 Acc: 0.8074\n",
      "val Loss: 0.2586 Acc: 0.9085\n",
      "\n",
      "Epoch 5/24\n",
      "----------\n",
      "train Loss: 0.4284 Acc: 0.8074\n",
      "val Loss: 0.2285 Acc: 0.9216\n",
      "\n",
      "Epoch 6/24\n",
      "----------\n",
      "train Loss: 0.3851 Acc: 0.8402\n",
      "val Loss: 0.2085 Acc: 0.9477\n",
      "\n",
      "Epoch 7/24\n",
      "----------\n",
      "train Loss: 0.3749 Acc: 0.8320\n",
      "val Loss: 0.2106 Acc: 0.9477\n",
      "\n",
      "Epoch 8/24\n",
      "----------\n",
      "train Loss: 0.3242 Acc: 0.8607\n",
      "val Loss: 0.2089 Acc: 0.9477\n",
      "\n",
      "Epoch 9/24\n",
      "----------\n",
      "train Loss: 0.3209 Acc: 0.8770\n",
      "val Loss: 0.2183 Acc: 0.9412\n",
      "\n",
      "Epoch 10/24\n",
      "----------\n",
      "train Loss: 0.3954 Acc: 0.8320\n",
      "val Loss: 0.2046 Acc: 0.9477\n",
      "\n",
      "Epoch 11/24\n",
      "----------\n",
      "train Loss: 0.3373 Acc: 0.8811\n",
      "val Loss: 0.1990 Acc: 0.9477\n",
      "\n",
      "Epoch 12/24\n",
      "----------\n",
      "train Loss: 0.3510 Acc: 0.8566\n",
      "val Loss: 0.2057 Acc: 0.9477\n",
      "\n",
      "Epoch 13/24\n",
      "----------\n",
      "train Loss: 0.3290 Acc: 0.8648\n",
      "val Loss: 0.2066 Acc: 0.9542\n",
      "\n",
      "Epoch 14/24\n",
      "----------\n",
      "train Loss: 0.3730 Acc: 0.8197\n",
      "val Loss: 0.2224 Acc: 0.9216\n",
      "\n",
      "Epoch 15/24\n",
      "----------\n",
      "train Loss: 0.3660 Acc: 0.8238\n",
      "val Loss: 0.2036 Acc: 0.9477\n",
      "\n",
      "Epoch 16/24\n",
      "----------\n",
      "train Loss: 0.4099 Acc: 0.8115\n",
      "val Loss: 0.2110 Acc: 0.9477\n",
      "\n",
      "Epoch 17/24\n",
      "----------\n",
      "train Loss: 0.3555 Acc: 0.8361\n",
      "val Loss: 0.2124 Acc: 0.9346\n",
      "\n",
      "Epoch 18/24\n",
      "----------\n",
      "train Loss: 0.3563 Acc: 0.8238\n",
      "val Loss: 0.2057 Acc: 0.9477\n",
      "\n",
      "Epoch 19/24\n",
      "----------\n",
      "train Loss: 0.3790 Acc: 0.8115\n",
      "val Loss: 0.1987 Acc: 0.9542\n",
      "\n",
      "Epoch 20/24\n",
      "----------\n",
      "train Loss: 0.3958 Acc: 0.8033\n",
      "val Loss: 0.1971 Acc: 0.9608\n",
      "\n",
      "Epoch 21/24\n",
      "----------\n",
      "train Loss: 0.3459 Acc: 0.8689\n",
      "val Loss: 0.2156 Acc: 0.9477\n",
      "\n",
      "Epoch 22/24\n",
      "----------\n",
      "train Loss: 0.3803 Acc: 0.8197\n",
      "val Loss: 0.2048 Acc: 0.9542\n",
      "\n",
      "Epoch 23/24\n",
      "----------\n",
      "train Loss: 0.3577 Acc: 0.8566\n",
      "val Loss: 0.1974 Acc: 0.9542\n",
      "\n",
      "Epoch 24/24\n",
      "----------\n",
      "train Loss: 0.4163 Acc: 0.8033\n",
      "val Loss: 0.2317 Acc: 0.9150\n",
      "\n",
      "Training complete in 1m 45s\n",
      "Best val Acc: 0.960784\n"
     ]
    }
   ],
   "source": [
    "# Here the size of each output sample is set to 2.\n",
    "# Alternatively, it can be generalized to nn.Linear(num_ftrs, len(class_names)).\n",
    "model.fc = nn.Linear(num_ftrs, 2)\n",
    "\n",
    "model = model.to(device)\n",
    "\n",
    "criterion = nn.CrossEntropyLoss()\n",
    "\n",
    "# Observe that all parameters are being optimized\n",
    "optimizer = optim.SGD(model.parameters(), lr=0.001)\n",
    "\n",
    "# StepLR Decays the learning rate of each parameter group by gamma every step_size epochs\n",
    "# Decay LR by a factor of 0.1 every 7 epochs\n",
    "# Learning rate scheduling should be applied after optimizer’s update\n",
    "# e.g., you should write your code this way:\n",
    "# for epoch in range(100):\n",
    "#     train(...)\n",
    "#     validate(...)\n",
    "#     scheduler.step()\n",
    "\n",
    "step_lr_scheduler = lr_scheduler.StepLR(optimizer, step_size=7, gamma=0.1)\n",
    "\n",
    "model = train_model(model, criterion, optimizer, step_lr_scheduler, num_epochs=25)\n",
    "\n"
   ]
  },
  {
   "attachments": {},
   "cell_type": "markdown",
   "metadata": {},
   "source": [
    "Only training last layer we can do the below"
   ]
  },
  {
   "cell_type": "code",
   "execution_count": 247,
   "metadata": {},
   "outputs": [
    {
     "name": "stderr",
     "output_type": "stream",
     "text": [
      "d:\\anaconda3\\envs\\huggingface\\lib\\site-packages\\torchvision\\models\\_utils.py:208: UserWarning: The parameter 'pretrained' is deprecated since 0.13 and may be removed in the future, please use 'weights' instead.\n",
      "  warnings.warn(\n",
      "d:\\anaconda3\\envs\\huggingface\\lib\\site-packages\\torchvision\\models\\_utils.py:223: UserWarning: Arguments other than a weight enum or `None` for 'weights' are deprecated since 0.13 and may be removed in the future. The current behavior is equivalent to passing `weights=ResNet18_Weights.IMAGENET1K_V1`. You can also use `weights=ResNet18_Weights.DEFAULT` to get the most up-to-date weights.\n",
      "  warnings.warn(msg)\n"
     ]
    },
    {
     "name": "stdout",
     "output_type": "stream",
     "text": [
      "Epoch 0/24\n",
      "----------\n",
      "train Loss: 0.5537 Acc: 0.6926\n",
      "val Loss: 0.2124 Acc: 0.9477\n",
      "\n",
      "Epoch 1/24\n",
      "----------\n",
      "train Loss: 0.5490 Acc: 0.7500\n",
      "val Loss: 0.2636 Acc: 0.8954\n",
      "\n",
      "Epoch 2/24\n",
      "----------\n",
      "train Loss: 0.4551 Acc: 0.7705\n",
      "val Loss: 0.1948 Acc: 0.9346\n",
      "\n",
      "Epoch 3/24\n",
      "----------\n",
      "train Loss: 0.5384 Acc: 0.7746\n",
      "val Loss: 0.2234 Acc: 0.9281\n",
      "\n",
      "Epoch 4/24\n",
      "----------\n",
      "train Loss: 0.4216 Acc: 0.8443\n",
      "val Loss: 0.2106 Acc: 0.9346\n",
      "\n",
      "Epoch 5/24\n",
      "----------\n",
      "train Loss: 0.5596 Acc: 0.7705\n",
      "val Loss: 0.2406 Acc: 0.9281\n",
      "\n",
      "Epoch 6/24\n",
      "----------\n",
      "train Loss: 0.5914 Acc: 0.7377\n",
      "val Loss: 0.4197 Acc: 0.8431\n",
      "\n",
      "Epoch 7/24\n",
      "----------\n",
      "train Loss: 0.3589 Acc: 0.8484\n",
      "val Loss: 0.1753 Acc: 0.9412\n",
      "\n",
      "Epoch 8/24\n",
      "----------\n",
      "train Loss: 0.4086 Acc: 0.8197\n",
      "val Loss: 0.1771 Acc: 0.9412\n",
      "\n",
      "Epoch 9/24\n",
      "----------\n",
      "train Loss: 0.3616 Acc: 0.8361\n",
      "val Loss: 0.1719 Acc: 0.9477\n",
      "\n",
      "Epoch 10/24\n",
      "----------\n",
      "train Loss: 0.3471 Acc: 0.8402\n",
      "val Loss: 0.1714 Acc: 0.9477\n",
      "\n",
      "Epoch 11/24\n",
      "----------\n",
      "train Loss: 0.4099 Acc: 0.7992\n",
      "val Loss: 0.1853 Acc: 0.9412\n",
      "\n",
      "Epoch 12/24\n",
      "----------\n",
      "train Loss: 0.3892 Acc: 0.8197\n",
      "val Loss: 0.1723 Acc: 0.9477\n",
      "\n",
      "Epoch 13/24\n",
      "----------\n",
      "train Loss: 0.3417 Acc: 0.8320\n",
      "val Loss: 0.1921 Acc: 0.9412\n",
      "\n",
      "Epoch 14/24\n",
      "----------\n",
      "train Loss: 0.3016 Acc: 0.8730\n",
      "val Loss: 0.1749 Acc: 0.9477\n",
      "\n",
      "Epoch 15/24\n",
      "----------\n",
      "train Loss: 0.4136 Acc: 0.7992\n",
      "val Loss: 0.1924 Acc: 0.9346\n",
      "\n",
      "Epoch 16/24\n",
      "----------\n",
      "train Loss: 0.3361 Acc: 0.8525\n",
      "val Loss: 0.1751 Acc: 0.9477\n",
      "\n",
      "Epoch 17/24\n",
      "----------\n",
      "train Loss: 0.3460 Acc: 0.8566\n",
      "val Loss: 0.1897 Acc: 0.9412\n",
      "\n",
      "Epoch 18/24\n",
      "----------\n",
      "train Loss: 0.3698 Acc: 0.8443\n",
      "val Loss: 0.1687 Acc: 0.9477\n",
      "\n",
      "Epoch 19/24\n",
      "----------\n",
      "train Loss: 0.3334 Acc: 0.8279\n",
      "val Loss: 0.2099 Acc: 0.9412\n",
      "\n",
      "Epoch 20/24\n",
      "----------\n",
      "train Loss: 0.2946 Acc: 0.8689\n",
      "val Loss: 0.1694 Acc: 0.9477\n",
      "\n",
      "Epoch 21/24\n",
      "----------\n",
      "train Loss: 0.3063 Acc: 0.8730\n",
      "val Loss: 0.1713 Acc: 0.9477\n",
      "\n",
      "Epoch 22/24\n",
      "----------\n",
      "train Loss: 0.3478 Acc: 0.8525\n",
      "val Loss: 0.1707 Acc: 0.9477\n",
      "\n",
      "Epoch 23/24\n",
      "----------\n",
      "train Loss: 0.3670 Acc: 0.8525\n",
      "val Loss: 0.1689 Acc: 0.9477\n",
      "\n",
      "Epoch 24/24\n",
      "----------\n",
      "train Loss: 0.3231 Acc: 0.8648\n",
      "val Loss: 0.1744 Acc: 0.9477\n",
      "\n",
      "Training complete in 1m 26s\n",
      "Best val Acc: 0.947712\n"
     ]
    }
   ],
   "source": [
    "\n",
    "#### ConvNet as fixed feature extractor ####\n",
    "# Here, we need to freeze all the network except the final layer.\n",
    "# We need to set requires_grad == False to freeze the parameters so that the gradients are not computed in backward()\n",
    "model_conv = torchvision.models.resnet18(pretrained=True)\n",
    "for param in model_conv.parameters():\n",
    "    param.requires_grad = False\n",
    "\n",
    "# Parameters of newly constructed modules have requires_grad=True by default\n",
    "num_ftrs = model_conv.fc.in_features\n",
    "model_conv.fc = nn.Linear(num_ftrs, 2)\n",
    "\n",
    "model_conv = model_conv.to(device)\n",
    "\n",
    "criterion = nn.CrossEntropyLoss()\n",
    "\n",
    "# Observe that only parameters of final layer are being optimized as\n",
    "# opposed to before.\n",
    "optimizer_conv = optim.SGD(model_conv.fc.parameters(), lr=0.001, momentum=0.9)\n",
    "\n",
    "# Decay LR by a factor of 0.1 every 7 epochs\n",
    "exp_lr_scheduler = lr_scheduler.StepLR(optimizer_conv, step_size=7, gamma=0.1)\n",
    "\n",
    "model_conv = train_model(model_conv, criterion, optimizer_conv,\n",
    "                         exp_lr_scheduler, num_epochs=25)"
   ]
  },
  {
   "attachments": {},
   "cell_type": "markdown",
   "metadata": {},
   "source": [
    "## Tensorboard"
   ]
  },
  {
   "attachments": {},
   "cell_type": "markdown",
   "metadata": {},
   "source": [
    "!pip install tensorboard\n",
    "```\n",
    "pytorch tensorboard --logdir=runs\n",
    "```"
   ]
  },
  {
   "cell_type": "code",
   "execution_count": 282,
   "metadata": {},
   "outputs": [],
   "source": [
    "import torch\n",
    "import torch.nn as nn\n",
    "import torchvision\n",
    "import torchvision.transforms as transforms\n",
    "import matplotlib.pyplot as plt\n",
    "\n",
    "from torch.utils.tensorboard import SummaryWriter\n",
    "import sys\n",
    "\n",
    "import torch.nn.functional as F"
   ]
  },
  {
   "cell_type": "code",
   "execution_count": 252,
   "metadata": {},
   "outputs": [],
   "source": [
    "writer = SummaryWriter(\"runs/mnist\")"
   ]
  },
  {
   "cell_type": "code",
   "execution_count": 253,
   "metadata": {},
   "outputs": [
    {
     "data": {
      "text/plain": [
       "device(type='cuda')"
      ]
     },
     "execution_count": 253,
     "metadata": {},
     "output_type": "execute_result"
    }
   ],
   "source": [
    "## device configuration\n",
    "device = torch.device('cuda' if torch.cuda.is_available() else 'cpu')\n",
    "device"
   ]
  },
  {
   "cell_type": "code",
   "execution_count": 272,
   "metadata": {},
   "outputs": [],
   "source": [
    "## hyperparameters\n",
    "input_size = 784  #28*28\n",
    "hidden_size = 500\n",
    "num_class = 10\n",
    "num_epochs =1\n",
    "batch_size = 64\n",
    "learning_rate = 0.001"
   ]
  },
  {
   "cell_type": "code",
   "execution_count": 273,
   "metadata": {},
   "outputs": [],
   "source": [
    "## MNIST\n",
    "train_dataset = torchvision.datasets.MNIST(\n",
    "    root = './datasets', train = True, transform = transforms.ToTensor(), download = True\n",
    "    )\n",
    "\n",
    "test_dataset = torchvision.datasets.MNIST(\n",
    "    root = './datasets', train = False, transform = transforms.ToTensor()\n",
    "    )\n"
   ]
  },
  {
   "cell_type": "code",
   "execution_count": 274,
   "metadata": {},
   "outputs": [],
   "source": [
    "## loader\n",
    "\n",
    "train_loader = torch.utils.data.DataLoader( dataset=train_dataset, batch_size=batch_size,\n",
    "                                           shuffle=True)\n",
    "\n",
    "test_loader = torch.utils.data.DataLoader( dataset=test_dataset, batch_size=batch_size,\n",
    "                                           shuffle=False)"
   ]
  },
  {
   "cell_type": "code",
   "execution_count": 275,
   "metadata": {},
   "outputs": [
    {
     "name": "stdout",
     "output_type": "stream",
     "text": [
      "torch.Size([64, 1, 28, 28]) torch.Size([64])\n"
     ]
    }
   ],
   "source": [
    "## example\n",
    "examples = iter(train_loader)\n",
    "samples, labels = next(examples)\n",
    "print(samples.shape, labels.shape)"
   ]
  },
  {
   "cell_type": "code",
   "execution_count": 276,
   "metadata": {},
   "outputs": [
    {
     "data": {
      "image/png": "iVBORw0KGgoAAAANSUhEUgAAAh8AAAGKCAYAAACsHiO8AAAAOXRFWHRTb2Z0d2FyZQBNYXRwbG90bGliIHZlcnNpb24zLjYuMiwgaHR0cHM6Ly9tYXRwbG90bGliLm9yZy8o6BhiAAAACXBIWXMAAA9hAAAPYQGoP6dpAAAvY0lEQVR4nO3dfXhU5Z3/8e8QyRBoMorIjOHBxm4sAlblURFJdEts2kIR7Vrxqri1XdRATWnLD0Qlum4irMuFLKB1i4FaEbYKCCpCtoSgzeICojx12QUDRCFGFCchIhFy//7wImu478iZmTP3zBner+s6f/CZ83Cf4Wv8cnKfc3xKKSUAAACWdEj0AAAAwLmF5gMAAFhF8wEAAKyi+QAAAFbRfAAAAKtoPgAAgFU0HwAAwCqaDwAAYBXNBwAAsIrmAwAAWBW35mPBggWSk5MjnTp1koEDB8obb7wRr0MBrqJ24VXULrzivHjsdNmyZVJcXCwLFiyQ6667Tn73u99JYWGh7N69W3r37v2127a0tMihQ4ckMzNTfD5fPIaHc4BSShobGyU7O1s6dHDeY8dSuyLUL2JH7cKrIqpdFQdDhgxR99xzT5usT58+aurUqWfdtra2VokIC4srS21trbXapX5Z3FyoXRavLk5q1/VfuzQ3N8vWrVuloKCgTV5QUCDV1dXa+idOnJCGhobWRfGSXbgoMzPT8bqR1q4I9Yv4oXbhVU5q1/Xm48iRI3Lq1CkJBoNt8mAwKHV1ddr6ZWVlEggEWhcnlwcBpyK5fBxp7YpQv4gfahde5aR24zbh9MyDK6WMA5o2bZqEw+HWpba2Nl5DAhxxWrsi1C+SC7ULr3B9wmm3bt0kLS1N67br6+u1rlxExO/3i9/vd3sYQMQirV0R6hfJgdqF17h+5SM9PV0GDhwoFRUVbfKKigoZNmyY24cDXEPtwquoXXhORNOpHVq6dKnq2LGjWrhwodq9e7cqLi5WXbp0Ufv37z/rtuFwOOEzdVlSZwmHw9Zql/plcXOhdlm8ujip3bg0H0opNX/+fHXJJZeo9PR0NWDAAFVVVeVoO/4DYHFzifQHeCy1S/2yuLlQuyxeXZzUrk+p5Lq/qqGhQQKBQKKHgRQRDoclKyvL2vGoX7iF2oVXOald3u0CAACsovkAAABW0XwAAACraD4AAIBVNB8AAMAqmg8AAGAVzQcAALCK5gMAAFhF8wEAAKyi+QAAAFbRfAAAAKtoPgAAgFXnJXoAaOtv/uZvtGzZsmVadvXVV2vZH/7wBy2bNWuW8Ti7d++OYnQAAMSOKx8AAMAqmg8AAGAVzQcAALCK5gMAAFjFhNMEyczMNObPPPOMll111VVappTSsjvvvFPLRo8ebTzOXXfdpWWrVq0yrgt41aBBg7Tsu9/9rpZde+21xu1N/z2++uqrsQ8MruvRo4eWFRcXa9nkyZON29fU1GhZbW2tlvl8Pi1bvXq1lpluABAR+eijj4z5uYYrHwAAwCqaDwAAYBXNBwAAsIrmAwAAWOVTppmLCdTQ0CCBQCDRw3CVaYLSQw89ZFx3xowZjvZ58uRJLevYsaOWtffX29zcrGX9+/fXsn379jkaT7IKh8OSlZVl7XipWL/JyDSRdOrUqVp20003aVnnzp0dH6exsVHL+vXrp2UffPCB4306da7VrmnC6JNPPmlc97zz9Hslhg8frmXnn39+zOM6k+nnuenn7MGDB43b33333VpWWVkZ+8CSiJPa5coHAACwiuYDAABYRfMBAACsovkAAABW8YRTC8aMGaNlTieWioh8/PHHWvb9739fy0xPaSwtLTXu0zTpzrTuT3/6Uy0zTVYFImF6wu9tt92mZT/84Q+N2xcWFmqZaRJirEzjzM/P17Lnn3/e9WOnMtPk0ldeeUXLrrjiChvDiYvevXsb89dff13Lpk+frmVPPPGE62NKJlz5AAAAVtF8AAAAq2g+AACAVTQfAADAKpoPAABgFXe7WPDNb37T8bovvviillVUVGjZli1bHGXtPeL3ueee07Jbb71VyzZs2KBlTz31lHGfQN++fbXsl7/8pZaZ7hjJzc2Nx5BcZ3q0O3e7RKZPnz5aFo87W8LhsJZNmzbNuO4f//hHR/vMy8vTskcffVTLrr76auP2aWlpWma609B0V+HcuXOdDNETuPIBAACsovkAAABW0XwAAACraD4AAIBVTDi1wPSI6HXr1hnXXblypZa98MILUR/75ZdfNuY7duzQsmuuuUbL/H5/1MdGaujXr5+W/epXvzKue8stt2hZVlaWlvl8Pi1TSkUxuq9nmqxdV1enZeeff75x+1GjRmmZ6THw7X0fMNu5c6eWmSbMmyb3tmf58uVa9thjj2nZ9u3bHe/TZM2aNVr29ttva9kjjzxi3P7nP/+5lnXooF8HGDx4cBSj8w6ufAAAAKtoPgAAgFURNx8bN26UUaNGSXZ2tvh8Pu3XBEopKSkpkezsbMnIyJD8/HzZtWuXW+MFokbtwquoXaSaiJuPpqYmufLKK2XevHnGz2fNmiWzZ8+WefPmyebNmyUUCsnIkSOlsbEx5sECsaB24VXULlJNxBNOCwsLpbCw0PiZUkrmzJkj06dPl7Fjx4qIyOLFiyUYDMqSJUtkwoQJsY3Wo7p27aple/bsMa4by+RSfD1qty3Tk3dLSkq07PT38VVdunSJw4h077zzjjF/7bXXtGzt2rVa9tZbb2lZenq6llVWVjoe06pVqxyv65ZUq90PP/xQy0aPHq1lOTk5jvdputJz7NixyAYWJdP5PPzww8Z177jjDi3LyMhwfUzJztU5HzU1NVJXVycFBQWtmd/vl7y8PKmurnbzUICrqF14FbULL3L1VtvTt7AFg8E2eTAYlAMHDhi3OXHihJw4caL1zw0NDW4OCXAkmtoVoX6ReNQuvCgud7uceQ+/Usp4X7+ISFlZmQQCgdalV69e8RgS4EgktStC/SJ5ULvwElebj1AoJCL6Q3zq6+u1rvy0adOmSTgcbl1qa2vdHBLgSDS1K0L9IvGoXXiRq792ycnJkVAoJBUVFa2vE25ubpaqqiqZOXOmcRu/359ST9Hs2bOnlvXo0UPL2ptwGgvTq+5NT5wUEbngggtcP76XRVO7It6o31/84hfGfMqUKVp26aWXun78jz/+WMtM9b9o0SJH64mIvPnmm1GP5ze/+Y2WDRw40PH2x48fj/rY8ZAqtVtfX+8oS0ZpaWla1t5k2fPO48HiIlE0H8eOHZO9e/e2/rmmpkbeeecd6dq1q/Tu3VuKi4ultLRUcnNzJTc3V0pLS6Vz584ybtw4VwcORIrahVdRu0g1ETcfW7ZskRtuuKH1z5MnTxYRkfHjx8uiRYtkypQpcvz4cbnvvvvk6NGjMnToUFm3bp1kZma6N2ogCtQuvIraRaqJuPnIz8//2hdA+Xw+KSkpMT4vAEgkahdeRe0i1fBuFwAAYBXNBwAAsIppty776u9lT7vwwgu17PLLLzduHwgEtCwcDmuZ6RG9pscof92lWidsPUYbkbvooou0zPTuD9Pj0UVEOnSI/t8e7b0z5Nlnn9WyBQsWaNlXJ0/aFusdPTU1NS6NBF5kejz/v/zLv2jZvffeG9NxPvnkk5i2T3Zc+QAAAFbRfAAAAKtoPgAAgFU0HwAAwComnLrM9Dho08Sh/v37G7f/z//8Ty07dOiQll111VWRDy4KpkdwL126VMv27dtnYzjnLNNE5OXLl2vZsGHDYjrOsmXLtOzDDz/UsjVr1hi3X7duXUzHd9vo0aO17K677oppn6tWrYppe9hz2WWXadl1111nXNfp02A7d+6sZUOHDo1sYGd47bXXtOyhhx6KaZ/JjisfAADAKpoPAABgFc0HAACwiuYDAABYxYRTl/3Xf/2XlpkmaBYVFRm379Onj6PMxOfzaVl7E0HXr1+vZT/60Y+0rHv37lpmenLfb37zGydDRJRycnK0zDRx7oMPPtCyDRs2GPf5yiuvaJlpwqmXPfDAA1qWlpamZab/dkREduzYoWVHjx6NfWBw3be//W0tq6io0LLs7OyYjmOqlVifJD148GAtMz2ZeNGiRTEdJ5lw5QMAAFhF8wEAAKyi+QAAAFbRfAAAAKuYcGrBI488omVdu3Y1rvuTn/wk6uM0NTVp2U033WRc97333tOyXbt2adkTTzwR9XjgnpdeeknLTJPc/vd//1fLTPUnktjX2seD6SmwmZmZWmb63o4dO2bc54wZM7QsHA5HMTrEm2kyZo8ePVw/TocO+r/ZW1paYtqnaWL/woULtezuu+/Wsu9///vGfTY2NsY0pnjjygcAALCK5gMAAFhF8wEAAKyi+QAAAFYx4dSCI0eOaNlf//rXmPZ58uRJLSsvL9cy08TS9sydO1fLUv21zl5hesKpaeJkXl6elvXt29e4Ty9POB0xYoSWPfvss1pm+t5MampqjPmKFSsiGxgS5uDBg1pmenJorP7jP/5Dy1avXq1l7dXU/fffr2X5+fmOjn3ttddq2R/+8AfjujfffLOjfSYKVz4AAIBVNB8AAMAqmg8AAGAVzQcAALCK5gMAAFjF3S4W9OnTR8smTJjgePtXX31Vyx599FEt27JlS2QDO0MwGNSyjh07xrRP2GWqK9NM/ERLS0vTsquvvlrLHnzwQeP2hYWFWnbeec5+nH322Wda9uc//9nRtkhepto/fPiwlmVkZBi3N92d8sorr2jZzp07oxjd/1mzZo2W/fjHP9ay5557ztH+CgoKjPnQoUO17K233nK0Txu48gEAAKyi+QAAAFbRfAAAAKtoPgAAgFVMOLXANDkuOzvbuO66deu0zPSY3FOnTsU+sDPce++9WpaZmen6cRA/TU1NWjZgwADjulu3bnW0T9Pk0F69ehnXNT3+edSoUVr2jW98Q8t+8IMfOBpPJJYvX65l//iP/6hl27dvd/3YsOvTTz/VsuLiYuvjOBvTqzH+/d//XctMj2EfNGiQlvn9fuNxOnfuHMXo7OHKBwAAsIrmAwAAWEXzAQAArKL5AAAAVjHh1ILLL7/c8br/9E//pGXxmFx6zTXXaNmkSZO07P3339ey8vJy18cDd/zxj3/UMtMENxGRt99+29E+O3TQ/43S3oRT01NyTXw+n5YppRxtKyJy4sQJLVuwYIGWlZSUaNmxY8ccHwewwfQzvqWlJQEjsYcrHwAAwCqaDwAAYFVEzUdZWZkMHjxYMjMzpXv37jJmzBjZs2dPm3WUUlJSUiLZ2dmSkZEh+fn5smvXLlcHDUSK2oVXUbtIRRE1H1VVVVJUVCSbNm2SiooKOXnypBQUFLR5sNGsWbNk9uzZMm/ePNm8ebOEQiEZOXKkNDY2uj54wClqF15F7SIV+VQks7zO8NFHH0n37t2lqqpKRowYIUopyc7OluLiYvl//+//iciXE8OCwaDMnDnT0WvkGxoaJBAIRDukpLRt2zYt+853vmNcd/To0Vr26quvRn3s22+/3Zj/67/+q5ZdcMEFWnbrrbdq2YoVK6Iej23hcFiysrK0PB61KxK/+m1ubtYy05NHvcI04fTzzz/Xsnfffde4/apVq7SsrKws9oElkVSpXZzdo48+qmWmJ5x26dLF8T5HjhypZZWVlZENLErt1e5XxTTnIxwOi4hI165dRUSkpqZG6urqpKCgoHUdv98veXl5Ul1dHcuhAFdRu/AqahepIOpbbZVSMnnyZBk+fLj0799fRETq6upERL/dLhgMyoEDB4z7OXHiRJvb5hoaGqIdEuCIW7UrQv3CLmoXqSLqKx8TJ06U7du3ywsvvKB9duYlVaWU8TKryJeXSgOBQOvS3vMDALe4Vbsi1C/sonaRKqJqPiZNmiSrVq2SyspK6dmzZ2seCoVE5P868dPq6+vbffjQtGnTJBwOty61tbXRDAlwxM3aFaF+YQ+1i1QS0a9dlFIyadIkWbFihWzYsEFycnLafJ6TkyOhUEgqKirk6quvFpEvJ8pVVVXJzJkzjfv0+/3tvhI4VWzatEnL2ptwetddd2nZxx9/7Og4pyebfZXpdeYiX/5gOtPEiRO1bOXKlY6OneziUbsi9up3xIgRWva9731Py26++WYt69evn3Gfn3zyiZZdeOGFjsbzwQcfGHPTv7RNxzFNeF63bp2WHTx40NF4UpnXa/dc1bFjR2P+wAMPaNmvf/1rLXP6d7Njxw5j/pe//MXR9okSUfNRVFQkS5YskZdfflkyMzNbO+1AICAZGRni8/mkuLhYSktLJTc3V3Jzc6W0tFQ6d+4s48aNi8sJAE5Qu/AqahepKKLm46mnnhIRkfz8/DZ5eXl567/Yp0yZIsePH5f77rtPjh49KkOHDpV169ZJZmamKwMGokHtwquoXaSiiH/tcjY+n09KSkqML3QCEoXahVdRu0hFvNsFAABYRfMBAACsiunx6vGQio/4/dWvfqVlTzzxhOvHMd1p8OmnnxrXNc2uLi8vd3tICefkMb9uSsb6zcvLM+amO1acPuvhzBebnWZ65Du3cEaH2k1Opx/u9lWm/26mTp1q3P66666L+tim1yycvsPpTO39N2pD3B+vDgAAECmaDwAAYBXNBwAAsIrmAwAAWBX1W23h3Isvvqhl7U0Suuiii7Tsq6/K/joTJkzQsoqKCuO6+/fvd7RPeF9VVZXjdffu3RvHkQDtu+GGG7TM5kPSTK8m+Oo7dE678cYbtSwe922YJoSbfsYncmJpLLjyAQAArKL5AAAAVtF8AAAAq2g+AACAVUw4tcD0hMc777wzASMBgMQbNmyYlr322mta1rFjRxvDSbg1a9Zo2bRp07Rs586dNoZjBVc+AACAVTQfAADAKpoPAABgFc0HAACwigmnAACrqqurtSwjIyMBI0GicOUDAABYRfMBAACsovkAAABW0XwAAACraD4AAIBVNB8AAMAqmg8AAGAVzQcAALCK5gMAAFhF8wEAAKyi+QAAAFbRfAAAAKtoPgAAgFU0HwAAwKqkaz6UUokeAlKI7XqifuEWahde5aSWkq75aGxsTPQQkEJs1xP1C7dQu/AqJ7XkU0nW7ra0tMihQ4ckMzNTGhsbpVevXlJbWytZWVmJHlrMGhoaOB9LlFLS2Ngo2dnZ0qGDvR77dP0qpaR3795J+d1EI5n/rqORzOdD7bormf+uo5HM5xNJ7Z5naUyOdejQQXr27CkiIj6fT0REsrKyku5LjgXnY0cgELB+zNP129DQICLJ+91Ei/Oxg9p1H+djh9PaTbpfuwAAgNRG8wEAAKxK6ubD7/fLjBkzxO/3J3ooruB8zh2p9t1wPueOVPtuOJ/klHQTTgEAQGpL6isfAAAg9dB8AAAAq2g+AACAVUndfCxYsEBycnKkU6dOMnDgQHnjjTcSPSRHNm7cKKNGjZLs7Gzx+XyycuXKNp8rpaSkpESys7MlIyND8vPzZdeuXYkZ7FmUlZXJ4MGDJTMzU7p37y5jxoyRPXv2tFnHS+djC7WbeNRudKjd5JDq9Zu0zceyZcukuLhYpk+fLtu2bZPrr79eCgsL5eDBg4ke2lk1NTXJlVdeKfPmzTN+PmvWLJk9e7bMmzdPNm/eLKFQSEaOHJmUjzeuqqqSoqIi2bRpk1RUVMjJkyeloKBAmpqaWtfx0vnYQO0mB2o3ctRu8kj5+lVJasiQIeqee+5pk/Xp00dNnTo1QSOKjoioFStWtP65paVFhUIh9fjjj7dmn3/+uQoEAurpp59OwAgjU19fr0REVVVVKaW8fz7xQO0mJ2r37Kjd5JVq9ZuUVz6am5tl69atUlBQ0CYvKCiQ6urqBI3KHTU1NVJXV9fm3Px+v+Tl5Xni3MLhsIiIdO3aVUS8fz5uo3aTF7X79ajd5JZq9ZuUzceRI0fk1KlTEgwG2+TBYFDq6uoSNCp3nB6/F89NKSWTJ0+W4cOHS//+/UXE2+cTD9RucqJ2z47aTV6pWL9J92K5rzr9YrnTlFJa5lVePLeJEyfK9u3b5c0339Q+8+L5xFMqfx9ePDdq17lU/j68em6pWL9JeeWjW7dukpaWpnVv9fX1WpfnNaFQSETEc+c2adIkWbVqlVRWVra+dVjEu+cTL9Ru8qF2naF2k1Oq1m9SNh/p6ekycOBAqaioaJNXVFTIsGHDEjQqd+Tk5EgoFGpzbs3NzVJVVZWU56aUkokTJ8ry5ctl/fr1kpOT0+Zzr51PvFG7yYPajQy1m1xSvn4TMMnVkaVLl6qOHTuqhQsXqt27d6vi4mLVpUsXtX///kQP7awaGxvVtm3b1LZt25SIqNmzZ6tt27apAwcOKKWUevzxx1UgEFDLly9XO3bsULfffru6+OKLVUNDQ4JHrrv33ntVIBBQGzZsUIcPH25dPvvss9Z1vHQ+NlC7yYHajRy1mzxSvX6TtvlQSqn58+erSy65RKWnp6sBAwa03mKU7CorK5WIaMv48eOVUl/eIjVjxgwVCoWU3+9XI0aMUDt27EjsoNthOg8RUeXl5a3reOl8bKF2E4/ajQ61mxxSvX55qy0AALAqKed8AACA1EXzAQAArKL5AAAAVtF8AAAAq2g+AACAVTQfAADAKpoPAABgFc0HAACwiuYDAABYRfMBAACsovkAAABW0XwAAACraD4AAIBVNB8AAMAqmg8AAGAVzQcAALCK5gMAAFhF8wEAAKyi+QAAAFbRfAAAAKtoPgAAgFU0HwAAwCqaDwAAYBXNBwAAsIrmAwAAWEXzAQAArKL5AAAAVtF8AAAAq2g+AACAVTQfAADAKpoPAABgFc0HAACwiuYDAABYdV68drxgwQL553/+Zzl8+LD069dP5syZI9dff/1Zt2tpaZFDhw5JZmam+Hy+eA0PKU4pJY2NjZKdnS0dOkTWY0dbuyLUL2JH7cKrIqpdFQdLly5VHTt2VP/2b/+mdu/ere6//37VpUsXdeDAgbNuW1tbq0SEhcWVpba21lrtUr8sbi7ULotXFye1G5fmY8iQIeqee+5pk/Xp00dNnTr1rNt++umnCf/iWFJn+fTTT63VLvXL4uZC7bJ4dXFSu67P+WhubpatW7dKQUFBm7ygoECqq6u19U+cOCENDQ2tS2Njo9tDwjksksvHkdauCPWL+KF24VVOatf15uPIkSNy6tQpCQaDbfJgMCh1dXXa+mVlZRIIBFqXXr16uT0kwJFIa1eE+kVyoHbhNXG72+XMzkcpZeyGpk2bJuFwuHWpra2N15AAR5zWrgj1i+RC7cIrXL/bpVu3bpKWlqZ12/X19VpXLiLi9/vF7/e7PQwgYpHWrgj1i+RA7cJrXL/ykZ6eLgMHDpSKioo2eUVFhQwbNsztwwGuoXbhVdQuPCei6dQOnb7la+HChWr37t2quLhYdenSRe3fv/+s24bD4YTP1GVJnSUcDlurXeqXxc2F2mXx6uKkduPSfCil1Pz589Ull1yi0tPT1YABA1RVVZWj7fgPgMXNJdIf4LHULvXL4uZC7bJ4dXFSuz6llJIk0tDQIIFAINHDQIoIh8OSlZVl7XjUL9xC7cKrnNQu73YBAABW0XwAAACraD4AAIBVNB8AAMAqmg8AAGAVzQcAALCK5gMAAFhF8wEAAKyi+QAAAFbRfAAAAKtoPgAAgFXnJXoAcI/P59OyYDBoXLeoqEjLxo4dq2V9+vTRsvfee0/LRowYYTzO4cOHjTkA4NzFlQ8AAGAVzQcAALCK5gMAAFhF8wEAAKxiwqlHhUIhLXv44Ye17B/+4R9iOo5SSstycnK07Oc//7lx+9///vdaVl9fr2WnTp2KYnRIlOHDhxvzu+++W8sKCgq0LDs7W8vefvttLZs7d67xOIsXLz7bEAGjvn37GvPKykota2ho0LIbb7xRy2pra2Mf2DmGKx8AAMAqmg8AAGAVzQcAALCK5gMAAFjlU6YZhQnU0NAggUAg0cNImClTpmjZt7/9bS274447tKxjx45a1t5f7xdffKFlBw4c0LJOnTppWc+ePY37dOq3v/2tlj355JNa1tLSEtNxRETC4bBkZWXFvB+nUrF+r7vuOi1bvXq1cV2n5256Gq+pVsPhsHF70xN1d+7c6ejYXkHtxsff/d3fGfOlS5c62t402bq6ujqmMaUaJ7XLlQ8AAGAVzQcAALCK5gMAAFhF8wEAAKziCacJcs011xjzW265RcsGDhwY9XHKy8uN+UsvvaRlr7/+upZ169ZNy0xPsXzwwQeNx8nIyNCy2267Tcvmz5+vZc3NzcZ9In6GDBmiZS+//LKWtTcx0TRp9Pjx41pWUVGhZaNHj3Z8nD59+mhZqk04RXJ66KGHtKywsDABI/E2rnwAAACraD4AAIBVNB8AAMAqmg8AAGAVzQcAALCKu10s+Na3vqVlM2fONK7r9M6W2tpaLdu7d6+WPfbYY8btTY9SNzE9hj0nJ0fLTp486Wh/IiKHDh3SMjcepY7YmR6lfsEFFzje3lTX06dPd7StqSZjfZQ/4Lb09PREDyElcOUDAABYRfMBAACsovkAAABW0XwAAACrmHCaIJdeeqnjdbds2aJld9xxh5bt27cvpjF973vf07KysjItu+KKK2I6TmlpqZZFMmEVibd582Zj/vDDDzvaPjMzU8s6duzo+PiPPPKIlm3atEnL3n//fcf7xLlh9erVxvy///u/tcz0GH+4gysfAADAKpoPAABgFc0HAACwKuLmY+PGjTJq1CjJzs4Wn88nK1eubPO5UkpKSkokOztbMjIyJD8/X3bt2uXWeIGoUbvwKmoXqSbiCadNTU1y5ZVXyt///d/LLbfcon0+a9YsmT17tixatEguu+wyeeyxx2TkyJGyZ88e4yQzRMf0hFOTbt26GfO1a9dq2Te/+U0tCwQCEY3rTGPGjNGyd999N6Z9Rovadc9FF11kzLOysrTs6NGjWvanP/1Jy4LBoOPjmyYC3nrrrVo2Z84cx/tMZtSue44fP27MmfRuV8TNR2FhoRQWFho/U0rJnDlzZPr06TJ27FgREVm8eLEEg0FZsmSJTJgwIbbRAjGgduFV1C5SjatzPmpqaqSurk4KCgpaM7/fL3l5eVJdXW3c5sSJE9LQ0NBmAWyLpnZFqF8kHrULL3K1+airqxMR/fJpMBhs/exMZWVlEggEWpdevXq5OSTAkWhqV4T6ReJRu/CiuNzt4vP52vxZKaVlp02bNk3C4XDr4nQuAxAPkdSuCPWL5EHtwktcfcJpKBQSkS878Ysvvrg1r6+vb3cymd/vF7/f7+YwPGH79u3G/Kvf22mDBg3Ssp/97GdaNnnyZC3r0MHcX5oml5p8+OGHWjZv3jwtM00gFDG/Jv2LL75wdGyboqldkXO3fturn9/+9rda9sADD2jZiy++qGU9evTQsr59+0Y+uHMMtWvXNddco2VDhw7VsrfeesvGcDzL1SsfOTk5EgqFpKKiojVrbm6WqqoqGTZsmJuHAlxF7cKrqF14UcRXPo4dOyZ79+5t/XNNTY2888470rVrV+ndu7cUFxdLaWmp5ObmSm5urpSWlkrnzp1l3Lhxrg4ciBS1C6+idpFqIm4+tmzZIjfccEPrn09f6h8/frwsWrRIpkyZIsePH5f77rtPjh49KkOHDpV169ZxrzkSjtqFV1G7SDURNx/5+fmilGr3c5/PJyUlJVJSUhLLuADXUbvwKmoXqYZ3uwAAAKtcvdsFZvv27dOyV155xbiuaSa16RHnpjtOTLfVfd2/ls5kehLiihUrtOyTTz5xvE94yzPPPKNl48eP17IrrrjCuH1RUZGWLV68WMt+//vfa1nXrl21rKyszHgck48++sjxusCZTD9Tn376aS3LyMjQss6dO8dlTKmMKx8AAMAqmg8AAGAVzQcAALCK5gMAAFjFhNMEycnJMeZZWVmuHqepqcmY33TTTVq2ZcsWLTt58qSr40FyM9XLzJkztey5554zbv+Nb3xDy5566iktM70eYNq0aU6GKCIic+fO1bKlS5c63h44k+lVEogfrnwAAACraD4AAIBVNB8AAMAqmg8AAGAVE05jkJaWpmW5ublatnbtWi3r2bOn6+Pp0EHvJb/6mu2v2rp1q5YxuRQmL7zwgpZNnTrVuG7//v21LC8vT8teeuklLTNNtm6vJp9//nktO3XqlHFdIN5+8YtfaFllZWUCRuIdXPkAAABW0XwAAACraD4AAIBVNB8AAMAqJpw6cP755xvzX/7yl1r28MMPO9pne6+6N70W3PTk0cLCQi1raWnRshtvvNF4nLFjx2rZsmXLjOsCZ3rwwQeN+ZIlS7SsS5cuWjZgwAAtO3bsmJYNHTrUeJzdu3efbYhARP7yl79o2f/8z/9o2WWXXaZlvXr1isuYUhlXPgAAgFU0HwAAwCqaDwAAYBXNBwAAsIoJp2e46KKLtGz+/PnGdU2TNk0+++wzLfvzn/9sXHf8+PFa1rdvXy377ne/q2Xp6elatmnTJuNxmFyKWKxevdqYl5eXa1lRUZGjfb7//vtaxsRS2HLkyBEta2xsdLRtv379tGzQoEHGdU03EJyLuPIBAACsovkAAABW0XwAAACraD4AAIBVNB8AAMAq7nY5w9/+7d9qmdO7WkREmpqatGzRokVadv/99zvep2kW9osvvqhl48aN07Jrr73WuM/vfOc7WrZ9+3bHY8K5rX///sb87rvvjnqfPXv2dHycnTt3Rn0cIBY+n0/LTK/guPDCCy2Mxru48gEAAKyi+QAAAFbRfAAAAKtoPgAAgFXn9ITTtLQ0Lbv44otj2ueqVau0LJLJpSZ79+7VsoaGBkfbmh65LiJy8803axkTTuHUD3/4Q2PeqVMnR9ubHqXeo0cPLfvBD35g3J4Jp7DB9BqKgQMHJmAkqYcrHwAAwCqaDwAAYBXNBwAAsIrmAwAAWHVOTzg97zz99H/yk5/EtM/33nsvpu1NbrjhBi278847Y9qnUiqm7XFu6927t+N19+3bp2Vz587VsieffFLLpk+fbtzn66+/rmXvvvuu4zEBTmzevFnLTpw4oWV+v1/Lbr31VuM+165dG/vAUgBXPgAAgFU0HwAAwCqaDwAAYFVEzUdZWZkMHjxYMjMzpXv37jJmzBjZs2dPm3WUUlJSUiLZ2dmSkZEh+fn5smvXLlcHDUSK2oVXUbtIRRFNOK2qqpKioiIZPHiwnDx5UqZPny4FBQWye/du6dKli4iIzJo1S2bPni2LFi2Syy67TB577DEZOXKk7NmzRzIzM+NyEslk+PDhWvbjH//Y8fZXXHGFlk2ZMkXLTJNlTaqrq435o48+6nhMqYDaTZxvfetbWrZ+/Xota2pq0rLTfzdnys3N1bJUnXBK7SZOVVWVlr399ttadu2112rZj370I+M+58+fr2XvvPNO5IPzuIiajzNnmJeXl0v37t1l69atMmLECFFKyZw5c2T69OkyduxYERFZvHixBINBWbJkiUyYMMG9kQMRoHbhVdQuUlFMcz7C4bCIiHTt2lVERGpqaqSurk4KCgpa1/H7/ZKXl9fuv8BPnDghDQ0NbRYg3tyoXRHqF/ZRu0gFUTcfSimZPHmyDB8+XPr37y8iInV1dSIiEgwG26wbDAZbPztTWVmZBAKB1qVXr17RDglwxK3aFaF+YRe1i1QRdfMxceJE2b59u7zwwgvaZz6fr82flVJadtq0adMkHA63LrW1tdEOCXDErdoVoX5hF7WLVBHVE04nTZokq1atko0bN0rPnj1b81AoJCJfduJffTV9fX291pWf5vf7jU+Hs+GLL77QsmeffVbLInmFcl5enqMsHk6ePKllGzdutHJsr3CzdkUSW79eNnToUC1rb3IpvkTtJofVq1drmWnCabdu3Yzbm54OfC5OOI3oyodSSiZOnCjLly+X9evXS05OTpvPc3JyJBQKSUVFRWvW3NwsVVVVMmzYMHdGDESB2oVXUbtIRRFd+SgqKpIlS5bIyy+/LJmZma2/TwwEApKRkSE+n0+Ki4ultLRUcnNzJTc3V0pLS6Vz584ybty4uJwA4AS1C6+idpGKImo+nnrqKRERyc/Pb5OXl5fLXXfdJSJfPpPi+PHjct9998nRo0dl6NChsm7dOu41R0JRu/AqahepKKLmw8mbUH0+n5SUlEhJSUm0YwJcR+3Cq6hdpCLe7QIAAKyK6m6XVNHS0qJlplvYRowYYdz+tttuc31MsTCNZ+XKlfYHgpT3zDPPGPOf/vSnWta5c2ct+93vfuf6mAAbnn/+eS274447tOzyyy83bm+6y/JcxJUPAABgFc0HAACwiuYDAABYRfMBAACsOqcnnJqY3uz4s5/9zLjumjVrtOzhhx/WsksvvVTL/vrXvxr36XSC6OzZs7Xs6NGjjrYFYtXe46AfeughLZs0aZKWnfmUThHzLaUff/yx8Thr1649ywiB+DC9A6ewsFDLFi9ebNy+T58+Wmb6f0mq48oHAACwiuYDAABYRfMBAACsovkAAABW+ZSTFwdY1NDQIIFAINHDQIoIh8OSlZVl7XjUr+6qq67Ssj/96U9aFg6Htay4uNi4zzfffDPWYSU9atfbBg0aZMxvv/12Lfv1r38d7+FY5aR2ufIBAACsovkAAABW0XwAAACraD4AAIBVTDhFSmPSHryK2oVXMeEUAAAkHZoPAABgFc0HAACwiuYDAABYRfMBAACsovkAAABW0XwAAACraD4AAIBVNB8AAMAqmg8AAGAVzQcAALCK5gMAAFhF8wEAAKyi+QAAAFYlXfOhlEr0EJBCbNcT9Qu3ULvwKie1lHTNR2NjY6KHgBRiu56oX7iF2oVXOakln0qydrelpUUOHTokmZmZ0tjYKL169ZLa2lrJyspK9NBi1tDQwPlYopSSxsZGyc7Olg4d7PXYp+tXKSW9e/dOyu8mGsn8dx2NZD4fatddyfx3HY1kPp9Iavc8S2NyrEOHDtKzZ08REfH5fCIikpWVlXRfciw4HzsCgYD1Y56u34aGBhFJ3u8mWpyPHdSu+zgfO5zWbtL92gUAAKQ2mg8AAGBVUjcffr9fZsyYIX6/P9FDcQXnc+5Ite+G8zl3pNp3w/kkp6SbcAoAAFJbUl/5AAAAqYfmAwAAWEXzAQAArKL5AAAAViV187FgwQLJycmRTp06ycCBA+WNN95I9JAc2bhxo4waNUqys7PF5/PJypUr23yulJKSkhLJzs6WjIwMyc/Pl127diVmsGdRVlYmgwcPlszMTOnevbuMGTNG9uzZ02YdL52PLdRu4lG70aF2k0Oq12/SNh/Lli2T4uJimT59umzbtk2uv/56KSwslIMHDyZ6aGfV1NQkV155pcybN8/4+axZs2T27Nkyb9482bx5s4RCIRk5cmRSvluhqqpKioqKZNOmTVJRUSEnT56UgoICaWpqal3HS+djA7WbHKjdyFG7ySPl61clqSFDhqh77rmnTdanTx81derUBI0oOiKiVqxY0frnlpYWFQqF1OOPP96aff755yoQCKinn346ASOMTH19vRIRVVVVpZTy/vnEA7WbnKjds6N2k1eq1W9SXvlobm6WrVu3SkFBQZu8oKBAqqurEzQqd9TU1EhdXV2bc/P7/ZKXl+eJcwuHwyIi0rVrVxHx/vm4jdpNXtTu16N2k1uq1W9SNh9HjhyRU6dOSTAYbJMHg0Gpq6tL0KjccXr8Xjw3pZRMnjxZhg8fLv379xcRb59PPFC7yYnaPTtqN3mlYv0m3Vttv+r0W21PU0ppmVd58dwmTpwo27dvlzfffFP7zIvnE0+p/H148dyoXedS+fvw6rmlYv0m5ZWPbt26SVpamta91dfXa12e14RCIRERz53bpEmTZNWqVVJZWSk9e/Zszb16PvFC7SYfatcZajc5pWr9JmXzkZ6eLgMHDpSKioo2eUVFhQwbNixBo3JHTk6OhEKhNufW3NwsVVVVSXluSimZOHGiLF++XNavXy85OTltPvfa+cQbtZs8qN3IULvJJeXrNwGTXB1ZunSp6tixo1q4cKHavXu3Ki4uVl26dFH79+9P9NDOqrGxUW3btk1t27ZNiYiaPXu22rZtmzpw4IBSSqnHH39cBQIBtXz5crVjxw51++23q4svvlg1NDQkeOS6e++9VwUCAbVhwwZ1+PDh1uWzzz5rXcdL52MDtZscqN3IUbvJI9XrN2mbD6WUmj9/vrrkkktUenq6GjBgQOstRsmusrJSiYi2jB8/Xin15S1SM2bMUKFQSPn9fjVixAi1Y8eOxA66HabzEBFVXl7euo6XzscWajfxqN3oULvJIdXr16eUUvG9tgIAAPB/knLOBwAASF00HwAAwCqaDwAAYBXNBwAAsIrmAwAAWEXzAQAArKL5AAAAVtF8AAAAq2g+AACAVTQfAADAKpoPAABgFc0HAACw6v8DFUa/Jm06wYwAAAAASUVORK5CYII=",
      "text/plain": [
       "<Figure size 640x480 with 6 Axes>"
      ]
     },
     "metadata": {},
     "output_type": "display_data"
    }
   ],
   "source": [
    "## Plot\n",
    "for i in range(6):\n",
    "    plt.subplot(2,3,i+1)\n",
    "    plt.imshow(samples[i][0], cmap='gray')\n",
    "#plt.show()\n",
    "img_grid = torchvision.utils.make_grid(samples)\n",
    "writer.add_image('mnist_images', img_grid)\n",
    "writer.close()\n",
    "#sys.exit()"
   ]
  },
  {
   "cell_type": "code",
   "execution_count": 277,
   "metadata": {},
   "outputs": [],
   "source": [
    "class NeuralNet(nn.Module):\n",
    "    def __init__(self,input_size, hidden_size, num_class):\n",
    "        super(NeuralNet, self).__init__()\n",
    "        self.linear1 = nn.Linear(input_size, hidden_size)\n",
    "        self.relu = nn.ReLU()\n",
    "        self.linear2 = nn.Linear(hidden_size, num_class)\n",
    "        \n",
    "    def forward(self,X):\n",
    "        out = self.linear1(X)\n",
    "        out = self.relu(out)\n",
    "        out = self.linear2(out)\n",
    "        return out\n",
    "    "
   ]
  },
  {
   "cell_type": "code",
   "execution_count": 278,
   "metadata": {},
   "outputs": [],
   "source": [
    "model = NeuralNet(input_size=input_size,\n",
    "                  hidden_size = hidden_size,\n",
    "                  num_class = num_class\n",
    "                  )\n",
    "\n",
    "criterion = nn.CrossEntropyLoss()\n",
    "optimizer = torch.optim.Adam(model.parameters(),\n",
    "                             lr = learning_rate\n",
    "                             )\n",
    "\n",
    "writer.add_graph(model,samples.reshape(-1, 28*28))\n",
    "writer.close()\n",
    "#sys.exit()"
   ]
  },
  {
   "cell_type": "code",
   "execution_count": 281,
   "metadata": {},
   "outputs": [
    {
     "name": "stdout",
     "output_type": "stream",
     "text": [
      "epoch : 1/1, step = 100/938, loss = 0.45101070404052734 \n",
      "epoch : 1/1, step = 200/938, loss = 0.2771340608596802 \n",
      "epoch : 1/1, step = 300/938, loss = 0.2452061027288437 \n",
      "epoch : 1/1, step = 400/938, loss = 0.170528843998909 \n",
      "epoch : 1/1, step = 500/938, loss = 0.3296263515949249 \n",
      "epoch : 1/1, step = 600/938, loss = 0.16111589968204498 \n",
      "epoch : 1/1, step = 700/938, loss = 0.10832095891237259 \n",
      "epoch : 1/1, step = 800/938, loss = 0.11168023198843002 \n",
      "epoch : 1/1, step = 900/938, loss = 0.08692368865013123 \n"
     ]
    }
   ],
   "source": [
    "## training loop\n",
    "\n",
    "n_total_steps = len(train_loader)\n",
    "running_loss = 0.0\n",
    "running_correct = 0\n",
    "\n",
    "for epoch in range(num_epochs):\n",
    "    for i,(images, labels) in enumerate(train_loader):\n",
    "        # 100, 1, 28, 28\n",
    "        # # input is 784 -> 100, 786\n",
    "        # images = images.reshape(-1, 28*28).to(device)\n",
    "        # labels = labels.to(device)\n",
    "        \n",
    "        images = images.reshape(-1, 28*28)\n",
    "        labels = labels\n",
    "        \n",
    "        # forwards\n",
    "        output = model(images)\n",
    "        loss = criterion(output, labels)\n",
    "        \n",
    "        #backward\n",
    "        optimizer.zero_grad()\n",
    "        loss.backward()\n",
    "        optimizer.step()\n",
    "        \n",
    "        running_loss += loss.item()\n",
    "        _,predictions = torch.max(output.data, 1)\n",
    "        running_correct += (predictions == labels).sum().item()\n",
    "        \n",
    "        if (i+1) % 100 == 0:\n",
    "            print(f\"epoch : {epoch+1}/{num_epochs}, step = {i+1}/{n_total_steps}, loss = {loss.item()} \")\n",
    "            writer.add_scalar('training loss', running_loss/100, epoch * n_total_steps + i)\n",
    "            writer.add_scalar('Accuray', running_correct/100, epoch * n_total_steps + i)\n",
    "            running_loss = 0.0\n",
    "            running_correct = 0"
   ]
  },
  {
   "cell_type": "code",
   "execution_count": 288,
   "metadata": {},
   "outputs": [
    {
     "name": "stdout",
     "output_type": "stream",
     "text": [
      "Accuracy :  96.23\n"
     ]
    }
   ],
   "source": [
    "# test\n",
    "\n",
    "labels = []\n",
    "preds = []\n",
    "\n",
    "with torch.no_grad():\n",
    "    n_correct = 0\n",
    "    n_samples = 0\n",
    "    for images, labels1 in test_loader:\n",
    "        # images = images.reshape(-1,28*28).to(device)\n",
    "        # labels = labels.to(device)\n",
    "        images = images.reshape(-1,28*28)\n",
    "        labels1 = labels1\n",
    "        outputs = model(images)\n",
    "        \n",
    "        _,predictions = torch.max(outputs, 1)\n",
    "        n_samples += labels1.shape[0]\n",
    "        n_correct += (predictions == labels1).sum().item()\n",
    "\n",
    "        class_predictions = [F.softmax(output, dim=0) for output in outputs]\n",
    "        preds.append(class_predictions)\n",
    "        labels.append(predictions)\n",
    "        \n",
    "    preds = torch.cat([torch.stack(batch) for batch in preds])\n",
    "    labels = torch.cat(labels)\n",
    "    \n",
    "    acc = 100.0* n_correct/n_samples  \n",
    "    print(\"Accuracy : \", acc)\n",
    "    classes = range(10)\n",
    "    for i  in classes:\n",
    "        labels_i =  labels == i\n",
    "        preds_i = preds[:,i]\n",
    "        writer.add_pr_curve(str(i), labels_i, preds_i, global_step=0)\n",
    "        writer.close()"
   ]
  },
  {
   "attachments": {},
   "cell_type": "markdown",
   "metadata": {},
   "source": [
    "## Save & Load Models"
   ]
  },
  {
   "attachments": {},
   "cell_type": "markdown",
   "metadata": {},
   "source": [
    "Three methods\n",
    "\n",
    "```\n",
    "    torch.save(arg, PATH)\n",
    "\n",
    "    torch.load(PATH)\n",
    "\n",
    "    model.load_state_dict(arg)\n",
    "```"
   ]
  },
  {
   "cell_type": "code",
   "execution_count": 289,
   "metadata": {},
   "outputs": [
    {
     "data": {
      "text/plain": [
       "'\\n    torch.save(model.state_dict(), PATH)\\n    model = Model(*args, **kwargs)\\n    model.load_state_dict(torch.load(Path))\\n    model.eval\\n'"
      ]
     },
     "execution_count": 289,
     "metadata": {},
     "output_type": "execute_result"
    }
   ],
   "source": [
    "'''\n",
    "    torch.save(model.state_dict(), PATH)\n",
    "    model = Model(*args, **kwargs) #create a model\n",
    "    model.load_state_dict(torch.load(Path))\n",
    "    model.eval()\n",
    "'''\n",
    "## preferred way as it only stores the weights"
   ]
  },
  {
   "cell_type": "code",
   "execution_count": 304,
   "metadata": {},
   "outputs": [],
   "source": [
    "class Model(nn.Module):\n",
    "    def __init__(self,input_size):\n",
    "        super(Model, self).__init__()\n",
    "        self.linear1 = nn.Linear(input_size,1)\n",
    "        \n",
    "    def forward(self,X):\n",
    "        out = torch.sigmoid(self.linear1(x))\n",
    "        return out\n",
    "    "
   ]
  },
  {
   "cell_type": "code",
   "execution_count": 305,
   "metadata": {},
   "outputs": [],
   "source": [
    "model = Model(input_size = 6)"
   ]
  },
  {
   "cell_type": "code",
   "execution_count": 306,
   "metadata": {},
   "outputs": [],
   "source": [
    "## lazy methods\n",
    "## not recommended\n",
    "\n",
    "FILE = \"models/model.pth\"\n",
    "torch.save(model,FILE)"
   ]
  },
  {
   "cell_type": "code",
   "execution_count": 307,
   "metadata": {},
   "outputs": [
    {
     "name": "stdout",
     "output_type": "stream",
     "text": [
      "Parameter containing:\n",
      "tensor([[-0.0076, -0.2037, -0.1322, -0.0378, -0.1112,  0.3327]],\n",
      "       requires_grad=True)\n",
      "Parameter containing:\n",
      "tensor([-0.4055], requires_grad=True)\n"
     ]
    }
   ],
   "source": [
    "model = torch.load(FILE)\n",
    "model.eval()\n",
    "\n",
    "for param in model.parameters():\n",
    "    print(param)"
   ]
  },
  {
   "cell_type": "code",
   "execution_count": 308,
   "metadata": {},
   "outputs": [],
   "source": [
    "## good methods\n",
    "## recommended\n",
    "\n",
    "FILE = \"models/model1.pth\"\n",
    "torch.save(model.state_dict(),FILE)"
   ]
  },
  {
   "cell_type": "code",
   "execution_count": 309,
   "metadata": {},
   "outputs": [
    {
     "name": "stdout",
     "output_type": "stream",
     "text": [
      "Parameter containing:\n",
      "tensor([[-0.0076, -0.2037, -0.1322, -0.0378, -0.1112,  0.3327]],\n",
      "       requires_grad=True)\n",
      "Parameter containing:\n",
      "tensor([-0.4055], requires_grad=True)\n"
     ]
    }
   ],
   "source": [
    "loaded_model = Model(input_size=6)\n",
    "loaded_model.load_state_dict(torch.load(FILE))\n",
    "loaded_model.eval()\n",
    "\n",
    "for param in loaded_model.parameters():\n",
    "    print(param)"
   ]
  },
  {
   "attachments": {},
   "cell_type": "markdown",
   "metadata": {},
   "source": [
    "## saving checkpoint"
   ]
  },
  {
   "cell_type": "code",
   "execution_count": 310,
   "metadata": {},
   "outputs": [
    {
     "name": "stdout",
     "output_type": "stream",
     "text": [
      "{'state': {}, 'param_groups': [{'lr': 0.01, 'momentum': 0, 'dampening': 0, 'weight_decay': 0, 'nesterov': False, 'maximize': False, 'foreach': None, 'differentiable': False, 'params': [0, 1]}]}\n"
     ]
    }
   ],
   "source": [
    "learning_rate = 0.01\n",
    "optimizer = torch.optim.SGD(model.parameters(), lr= learning_rate)\n",
    "print(optimizer.state_dict())"
   ]
  },
  {
   "cell_type": "code",
   "execution_count": 311,
   "metadata": {},
   "outputs": [],
   "source": [
    "checkpoint = {\n",
    "    \"epoch\" : 90,\n",
    "    \"model_state\" : model.state_dict(),\n",
    "    \"optim_state\" : optimizer.state_dict()